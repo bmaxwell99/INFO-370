{
 "cells": [
  {
   "cell_type": "code",
   "execution_count": 104,
   "metadata": {},
   "outputs": [],
   "source": [
    "import numpy as np\n",
    "import pandas as pd\n",
    "import matplotlib.pyplot as plt\n",
    "from numpy import linalg as LA"
   ]
  },
  {
   "cell_type": "markdown",
   "metadata": {},
   "source": [
    "### 1.1 - 1.3"
   ]
  },
  {
   "cell_type": "code",
   "execution_count": 5,
   "metadata": {},
   "outputs": [
    {
     "data": {
      "text/html": [
       "<div>\n",
       "<style scoped>\n",
       "    .dataframe tbody tr th:only-of-type {\n",
       "        vertical-align: middle;\n",
       "    }\n",
       "\n",
       "    .dataframe tbody tr th {\n",
       "        vertical-align: top;\n",
       "    }\n",
       "\n",
       "    .dataframe thead th {\n",
       "        text-align: right;\n",
       "    }\n",
       "</style>\n",
       "<table border=\"1\" class=\"dataframe\">\n",
       "  <thead>\n",
       "    <tr style=\"text-align: right;\">\n",
       "      <th></th>\n",
       "      <th>0</th>\n",
       "      <th>1</th>\n",
       "    </tr>\n",
       "  </thead>\n",
       "  <tbody>\n",
       "    <tr>\n",
       "      <th>0</th>\n",
       "      <td>1.0</td>\n",
       "      <td>1.110223e-16</td>\n",
       "    </tr>\n",
       "    <tr>\n",
       "      <th>1</th>\n",
       "      <td>0.0</td>\n",
       "      <td>1.000000e+00</td>\n",
       "    </tr>\n",
       "  </tbody>\n",
       "</table>\n",
       "</div>"
      ],
      "text/plain": [
       "     0             1\n",
       "0  1.0  1.110223e-16\n",
       "1  0.0  1.000000e+00"
      ]
     },
     "execution_count": 5,
     "metadata": {},
     "output_type": "execute_result"
    }
   ],
   "source": [
    "a = pd.DataFrame([[1, 2], [3, 4]])\n",
    "b = np.linalg.inv(a)\n",
    "a.dot(b)"
   ]
  },
  {
   "cell_type": "code",
   "execution_count": 14,
   "metadata": {},
   "outputs": [
    {
     "data": {
      "text/html": [
       "<div>\n",
       "<style scoped>\n",
       "    .dataframe tbody tr th:only-of-type {\n",
       "        vertical-align: middle;\n",
       "    }\n",
       "\n",
       "    .dataframe tbody tr th {\n",
       "        vertical-align: top;\n",
       "    }\n",
       "\n",
       "    .dataframe thead th {\n",
       "        text-align: right;\n",
       "    }\n",
       "</style>\n",
       "<table border=\"1\" class=\"dataframe\">\n",
       "  <thead>\n",
       "    <tr style=\"text-align: right;\">\n",
       "      <th></th>\n",
       "      <th>0</th>\n",
       "      <th>1</th>\n",
       "    </tr>\n",
       "  </thead>\n",
       "  <tbody>\n",
       "    <tr>\n",
       "      <th>0</th>\n",
       "      <td>1.0</td>\n",
       "      <td>0.0</td>\n",
       "    </tr>\n",
       "    <tr>\n",
       "      <th>1</th>\n",
       "      <td>0.0</td>\n",
       "      <td>1.0</td>\n",
       "    </tr>\n",
       "  </tbody>\n",
       "</table>\n",
       "</div>"
      ],
      "text/plain": [
       "     0    1\n",
       "0  1.0  0.0\n",
       "1  0.0  1.0"
      ]
     },
     "execution_count": 14,
     "metadata": {},
     "output_type": "execute_result"
    }
   ],
   "source": [
    "a = pd.DataFrame([[1, 1], [0, 1]])\n",
    "b = np.linalg.inv(a)\n",
    "a.dot(b)"
   ]
  },
  {
   "cell_type": "code",
   "execution_count": 7,
   "metadata": {},
   "outputs": [
    {
     "data": {
      "text/html": [
       "<div>\n",
       "<style scoped>\n",
       "    .dataframe tbody tr th:only-of-type {\n",
       "        vertical-align: middle;\n",
       "    }\n",
       "\n",
       "    .dataframe tbody tr th {\n",
       "        vertical-align: top;\n",
       "    }\n",
       "\n",
       "    .dataframe thead th {\n",
       "        text-align: right;\n",
       "    }\n",
       "</style>\n",
       "<table border=\"1\" class=\"dataframe\">\n",
       "  <thead>\n",
       "    <tr style=\"text-align: right;\">\n",
       "      <th></th>\n",
       "      <th>0</th>\n",
       "      <th>1</th>\n",
       "      <th>2</th>\n",
       "    </tr>\n",
       "  </thead>\n",
       "  <tbody>\n",
       "    <tr>\n",
       "      <th>0</th>\n",
       "      <td>1.0</td>\n",
       "      <td>0.0</td>\n",
       "      <td>-5.551115e-17</td>\n",
       "    </tr>\n",
       "    <tr>\n",
       "      <th>1</th>\n",
       "      <td>0.0</td>\n",
       "      <td>1.0</td>\n",
       "      <td>-5.551115e-17</td>\n",
       "    </tr>\n",
       "    <tr>\n",
       "      <th>2</th>\n",
       "      <td>0.0</td>\n",
       "      <td>0.0</td>\n",
       "      <td>1.000000e+00</td>\n",
       "    </tr>\n",
       "  </tbody>\n",
       "</table>\n",
       "</div>"
      ],
      "text/plain": [
       "     0    1             2\n",
       "0  1.0  0.0 -5.551115e-17\n",
       "1  0.0  1.0 -5.551115e-17\n",
       "2  0.0  0.0  1.000000e+00"
      ]
     },
     "execution_count": 7,
     "metadata": {},
     "output_type": "execute_result"
    }
   ],
   "source": [
    "a = pd.DataFrame([[1, 2, 3], [0, 2, 3], [0, 0, 3]])\n",
    "b = np.linalg.inv(a)\n",
    "a.dot(b)"
   ]
  },
  {
   "cell_type": "markdown",
   "metadata": {},
   "source": [
    "### 1.4 - 1.6"
   ]
  },
  {
   "cell_type": "code",
   "execution_count": 18,
   "metadata": {},
   "outputs": [
    {
     "data": {
      "text/plain": [
       "0.0"
      ]
     },
     "execution_count": 18,
     "metadata": {},
     "output_type": "execute_result"
    }
   ],
   "source": [
    "a = pd.DataFrame([[1, 1, 1], [2, 2, 2], [3, 3, 3]])\n",
    "np.linalg.det(a)"
   ]
  },
  {
   "cell_type": "code",
   "execution_count": 17,
   "metadata": {},
   "outputs": [
    {
     "data": {
      "text/plain": [
       "(array([ 6.00000000e+00, -2.28386485e-16,  0.00000000e+00]),\n",
       " array([[-0.26726124, -0.04554875, -0.31352117],\n",
       "        [-0.53452248,  0.72878003, -0.49613938],\n",
       "        [-0.80178373, -0.68323128,  0.80966054]]))"
      ]
     },
     "execution_count": 17,
     "metadata": {},
     "output_type": "execute_result"
    }
   ],
   "source": [
    "np.linalg.eig(a)"
   ]
  },
  {
   "cell_type": "markdown",
   "metadata": {},
   "source": [
    "### 1.7 - 1.8"
   ]
  },
  {
   "cell_type": "code",
   "execution_count": 22,
   "metadata": {},
   "outputs": [
    {
     "data": {
      "text/plain": [
       "(array([7., 1., 1.]), array([[ 0.26726124,  0.6933218 ,  0.3065219 ],\n",
       "        [ 0.53452248, -0.72012932, -0.80864881],\n",
       "        [ 0.80178373,  0.02680753,  0.50212691]]))"
      ]
     },
     "execution_count": 22,
     "metadata": {},
     "output_type": "execute_result"
    }
   ],
   "source": [
    "b = pd.DataFrame([[2, 1, 1], [2, 3, 2], [3, 3, 4]])\n",
    "np.linalg.eig(b)"
   ]
  },
  {
   "cell_type": "code",
   "execution_count": 24,
   "metadata": {},
   "outputs": [
    {
     "data": {
      "text/html": [
       "<div>\n",
       "<style scoped>\n",
       "    .dataframe tbody tr th:only-of-type {\n",
       "        vertical-align: middle;\n",
       "    }\n",
       "\n",
       "    .dataframe tbody tr th {\n",
       "        vertical-align: top;\n",
       "    }\n",
       "\n",
       "    .dataframe thead th {\n",
       "        text-align: right;\n",
       "    }\n",
       "</style>\n",
       "<table border=\"1\" class=\"dataframe\">\n",
       "  <thead>\n",
       "    <tr style=\"text-align: right;\">\n",
       "      <th></th>\n",
       "      <th>0</th>\n",
       "      <th>1</th>\n",
       "      <th>2</th>\n",
       "    </tr>\n",
       "  </thead>\n",
       "  <tbody>\n",
       "    <tr>\n",
       "      <th>0</th>\n",
       "      <td>1.000000e+00</td>\n",
       "      <td>5.551115e-17</td>\n",
       "      <td>-1.110223e-16</td>\n",
       "    </tr>\n",
       "    <tr>\n",
       "      <th>1</th>\n",
       "      <td>1.110223e-16</td>\n",
       "      <td>1.000000e+00</td>\n",
       "      <td>0.000000e+00</td>\n",
       "    </tr>\n",
       "    <tr>\n",
       "      <th>2</th>\n",
       "      <td>0.000000e+00</td>\n",
       "      <td>0.000000e+00</td>\n",
       "      <td>1.000000e+00</td>\n",
       "    </tr>\n",
       "  </tbody>\n",
       "</table>\n",
       "</div>"
      ],
      "text/plain": [
       "              0             1             2\n",
       "0  1.000000e+00  5.551115e-17 -1.110223e-16\n",
       "1  1.110223e-16  1.000000e+00  0.000000e+00\n",
       "2  0.000000e+00  0.000000e+00  1.000000e+00"
      ]
     },
     "execution_count": 24,
     "metadata": {},
     "output_type": "execute_result"
    }
   ],
   "source": [
    "b_inv = np.linalg.inv(b)\n",
    "b.dot(b_inv)"
   ]
  },
  {
   "cell_type": "markdown",
   "metadata": {},
   "source": [
    "### 1.9 b_inv * b = identity. indentity - identity = the 0 matrix"
   ]
  },
  {
   "cell_type": "markdown",
   "metadata": {},
   "source": [
    "### 1.10"
   ]
  },
  {
   "cell_type": "code",
   "execution_count": 25,
   "metadata": {},
   "outputs": [],
   "source": [
    "b = pd.DataFrame([[1.1, 1, 1], [2, 2.1, 2], [3, 3, 3.1]])"
   ]
  },
  {
   "cell_type": "code",
   "execution_count": 26,
   "metadata": {},
   "outputs": [
    {
     "data": {
      "text/plain": [
       "(array([6.1, 0.1, 0.1]), array([[ 0.26726124, -0.16257345,  0.36636943],\n",
       "        [ 0.53452248, -0.61166162, -0.81511041],\n",
       "        [ 0.80178373,  0.77423507,  0.44874098]]))"
      ]
     },
     "execution_count": 26,
     "metadata": {},
     "output_type": "execute_result"
    }
   ],
   "source": [
    "np.linalg.eig(b)"
   ]
  },
  {
   "cell_type": "code",
   "execution_count": 28,
   "metadata": {},
   "outputs": [
    {
     "data": {
      "text/html": [
       "<div>\n",
       "<style scoped>\n",
       "    .dataframe tbody tr th:only-of-type {\n",
       "        vertical-align: middle;\n",
       "    }\n",
       "\n",
       "    .dataframe tbody tr th {\n",
       "        vertical-align: top;\n",
       "    }\n",
       "\n",
       "    .dataframe thead th {\n",
       "        text-align: right;\n",
       "    }\n",
       "</style>\n",
       "<table border=\"1\" class=\"dataframe\">\n",
       "  <thead>\n",
       "    <tr style=\"text-align: right;\">\n",
       "      <th></th>\n",
       "      <th>0</th>\n",
       "      <th>1</th>\n",
       "      <th>2</th>\n",
       "    </tr>\n",
       "  </thead>\n",
       "  <tbody>\n",
       "    <tr>\n",
       "      <th>0</th>\n",
       "      <td>1.000000e+00</td>\n",
       "      <td>0.000000e+00</td>\n",
       "      <td>0.0</td>\n",
       "    </tr>\n",
       "    <tr>\n",
       "      <th>1</th>\n",
       "      <td>-1.776357e-15</td>\n",
       "      <td>1.000000e+00</td>\n",
       "      <td>0.0</td>\n",
       "    </tr>\n",
       "    <tr>\n",
       "      <th>2</th>\n",
       "      <td>-3.900705e-15</td>\n",
       "      <td>1.961273e-15</td>\n",
       "      <td>1.0</td>\n",
       "    </tr>\n",
       "  </tbody>\n",
       "</table>\n",
       "</div>"
      ],
      "text/plain": [
       "              0             1    2\n",
       "0  1.000000e+00  0.000000e+00  0.0\n",
       "1 -1.776357e-15  1.000000e+00  0.0\n",
       "2 -3.900705e-15  1.961273e-15  1.0"
      ]
     },
     "execution_count": 28,
     "metadata": {},
     "output_type": "execute_result"
    }
   ],
   "source": [
    "b_inv = np.linalg.inv(b)\n",
    "b.dot(b_inv)"
   ]
  },
  {
   "cell_type": "markdown",
   "metadata": {},
   "source": [
    "##### you get 0 matrix again"
   ]
  },
  {
   "cell_type": "code",
   "execution_count": 43,
   "metadata": {},
   "outputs": [
    {
     "name": "stdout",
     "output_type": "stream",
     "text": [
      "[[ 8.36065574 -1.63934426 -1.63934426]\n",
      " [-3.27868852  6.72131148 -3.27868852]\n",
      " [-4.91803279 -4.91803279  5.08196721]]\n",
      "              0             1             2\n",
      "0  1.000000e+00 -2.220446e-16 -4.342610e-16\n",
      "1  0.000000e+00  1.000000e+00 -6.464774e-16\n",
      "2 -8.881784e-16  8.881784e-16  1.000000e+00\n",
      "              0             1             2\n",
      "0 -2.220446e-16 -2.220446e-16 -4.342610e-16\n",
      "1  0.000000e+00  0.000000e+00 -6.464774e-16\n",
      "2 -8.881784e-16  8.881784e-16 -1.554312e-15\n"
     ]
    }
   ],
   "source": [
    "a = pd.DataFrame([[1, 1, 1], [2, 2, 2], [3, 3, 3]])\n",
    "i = pd.DataFrame([[1, 0, 0], [0, 1, 0], [0, 0, 1]])\n",
    "e = 0.1\n",
    "ie = i * e\n",
    "b = a + ie\n",
    "b_inv = np.linalg.inv(b)\n",
    "b_eig = np.linalg.eig(b)\n",
    "print(b_inv)\n",
    "print(b_inv @ b)\n",
    "print(b_inv @ b - i)"
   ]
  },
  {
   "cell_type": "code",
   "execution_count": 64,
   "metadata": {},
   "outputs": [
    {
     "name": "stdout",
     "output_type": "stream",
     "text": [
      "[6.00000000e+00 1.22487665e-15 8.24717503e-16]\n",
      "         0        1         2\n",
      "0  0.21875  0.21875  0.208157\n",
      "1  0.00000  0.00000 -0.105932\n",
      "2  0.18750  0.18750  0.179025\n"
     ]
    }
   ],
   "source": [
    "a = pd.DataFrame([[1, 1, 1], [2, 2, 2], [3, 3, 3]])\n",
    "i = pd.DataFrame([[1, 0, 0], [0, 1, 0], [0, 0, 1]])\n",
    "e = 0.000000000000001\n",
    "ie = i * e\n",
    "b = a + ie\n",
    "b_inv = np.linalg.inv(b)\n",
    "b_eig = np.linalg.eig(b)\n",
    "b_err = b_inv @ b - i\n",
    "print(b_eig[0])\n",
    "print(b_err)"
   ]
  },
  {
   "cell_type": "markdown",
   "metadata": {},
   "source": [
    "### the max error values are:\n",
    "    0.21875  0.21875  0.208157\n",
    "\n",
    "    0.00000  0.00000 -0.105932\n",
    "\n",
    "    0.18750  0.18750  0.179025"
   ]
  },
  {
   "cell_type": "markdown",
   "metadata": {},
   "source": [
    "### EC"
   ]
  },
  {
   "cell_type": "code",
   "execution_count": 112,
   "metadata": {},
   "outputs": [
    {
     "name": "stdout",
     "output_type": "stream",
     "text": [
      "[2.1 0.1] [[ 8.8817842e-16  8.8817842e-16]\n",
      " [-8.8817842e-16 -8.8817842e-16]] \n",
      "\n",
      "[2.01 0.01] [[0. 0.]\n",
      " [0. 0.]] \n",
      "\n",
      "[2.001e+00 1.000e-03] [[0. 0.]\n",
      " [0. 0.]] \n",
      "\n",
      "[2.0001e+00 1.0000e-04] [[0. 0.]\n",
      " [0. 0.]] \n",
      "\n",
      "[2.00001e+00 1.00000e-05] [[0. 0.]\n",
      " [0. 0.]] \n",
      "\n",
      "[2.000001e+00 1.000000e-06] [[0. 0.]\n",
      " [0. 0.]] \n",
      "\n",
      "[2.0000001e+00 1.0000000e-07] [[-9.31322575e-10 -9.31322575e-10]\n",
      " [ 9.31322575e-10  9.31322575e-10]] \n",
      "\n",
      "[2.00000001e+00 9.99999994e-09] [[ 7.4505806e-09  7.4505806e-09]\n",
      " [-7.4505806e-09 -7.4505806e-09]] \n",
      "\n",
      "[2.00000000e+00 1.00000008e-09] [[0. 0.]\n",
      " [0. 0.]] \n",
      "\n",
      "[2.00000000e+00 1.00000008e-10] [[0. 0.]\n",
      " [0. 0.]] \n",
      "\n",
      "[2.00000000e+00 1.00000008e-11] [[0. 0.]\n",
      " [0. 0.]] \n",
      "\n",
      "[2.0000000e+00 1.0000889e-12] [[0. 0.]\n",
      " [0. 0.]] \n",
      "\n",
      "[2.00000000e+00 9.99200722e-14] [[0. 0.]\n",
      " [0. 0.]] \n",
      "\n",
      "[2.00000000e+00 9.99200722e-15] [[0. 0.]\n",
      " [0. 0.]] \n",
      "\n",
      "[2.00000000e+00 1.11022302e-15] [[0. 0.]\n",
      " [0. 0.]] \n",
      "\n"
     ]
    }
   ],
   "source": [
    "val = np.array([])\n",
    "e = 0.1\n",
    "size = 2\n",
    "for i in range(1, 16):\n",
    "    I = np.eye(size)\n",
    "    ie = I * e\n",
    "    a = np.ones(size)\n",
    "    b = a + ie\n",
    "    b_eig = np.linalg.eig(b)[0]\n",
    "    b_inv = np.linalg.inv(b)\n",
    "    b_err = b_inv @ b - I\n",
    "    print(b_eig, b_err, \"\\n\")\n",
    "    e = e / 10\n",
    "    val = np.append(val, LA.norm(b_eig, np.inf))"
   ]
  },
  {
   "cell_type": "code",
   "execution_count": 113,
   "metadata": {},
   "outputs": [
    {
     "data": {
      "text/plain": [
       "[<matplotlib.lines.Line2D at 0x11e2e6198>]"
      ]
     },
     "execution_count": 113,
     "metadata": {},
     "output_type": "execute_result"
    },
    {
     "data": {
      "image/png": "[encoded data removed]",
      "text/plain": [
       "<Figure size 432x288 with 1 Axes>"
      ]
     },
     "metadata": {
      "needs_background": "light"
     },
     "output_type": "display_data"
    }
   ],
   "source": [
    "plt.plot(val)"
   ]
  },
  {
   "cell_type": "markdown",
   "metadata": {},
   "source": [
    "##### Despite plugging in multiple matrix sizes, the eig values seem to plot out the same... maybe i am missing something? partial extra credit?"
   ]
  },
  {
   "cell_type": "code",
   "execution_count": null,
   "metadata": {},
   "outputs": [],
   "source": []
  },
  {
   "cell_type": "code",
   "execution_count": null,
   "metadata": {},
   "outputs": [],
   "source": []
  }
 ],
 "metadata": {
  "kernelspec": {
   "display_name": "Python 3",
   "language": "python",
   "name": "python3"
  },
  "language_info": {
   "codemirror_mode": {
    "name": "ipython",
    "version": 3
   },
   "file_extension": ".py",
   "mimetype": "text/x-python",
   "name": "python",
   "nbconvert_exporter": "python",
   "pygments_lexer": "ipython3",
   "version": "3.7.4"
  }
 },
 "nbformat": 4,
 "nbformat_minor": 2
}
