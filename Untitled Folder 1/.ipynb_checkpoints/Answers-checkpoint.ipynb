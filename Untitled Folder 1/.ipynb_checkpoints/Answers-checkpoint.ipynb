{
 "cells": [
  {
   "cell_type": "markdown",
   "metadata": {},
   "source": [
    "1.1) There are 1078 observations in two columns, with no values flagged as NA or NaN"
   ]
  },
  {
   "cell_type": "markdown",
   "metadata": {},
   "source": [
    "1.2) These are ratio variables, so any type of statistical measure is appropriate. The expected range is likely between 120cm and 220cm. The value type should be fairly continuous."
   ]
  },
  {
   "cell_type": "markdown",
   "metadata": {},
   "source": [
    "1.3) According to summary stats, the sons are taller. See code for table"
   ]
  },
  {
   "cell_type": "markdown",
   "metadata": {},
   "source": [
    "1.4) The graphical comparison of father vs son may imply that sons are taller. The graph certainly peaks higher for sons than fathers. However, the sons graph is also noticeably narrower at almost all heights of the graph. The values appear to be more tightly grouped about the mean of the graph."
   ]
  },
  {
   "cell_type": "markdown",
   "metadata": {},
   "source": [
    "1.5) \n",
    "null hyp : mean of sons is less than or equal to mean of fathers\n",
    "alt hyp: mean of sons is greater than mean of fathers\n",
    "\n",
    "t test by the null hyp by subtracting mean of fathers from mean of sons over the stndev of sons divided by sqrt of sample size:\n",
    "\n",
    "(174.5-171.9) / ( 7 / sqrt(1078)) = 12.19"
   ]
  },
  {
   "cell_type": "markdown",
   "metadata": {},
   "source": [
    "1.6) with 1077 degrees of freedom and a value of more than 10, it's pretty reasonably to infer that the data showing sons being taller than their father is not a product of chance."
   ]
  },
  {
   "cell_type": "markdown",
   "metadata": {},
   "source": [
    "1.7) It seems plausible to infer that sons are taller than their fathers, in aggregate. And based off the shape of the sons graph compared to the father, it may be reasonable to conlude that this is because sons heights are regressing to a mean. "
   ]
  },
  {
   "cell_type": "markdown",
   "metadata": {},
   "source": [
    "2.1) \n",
    "\n",
    "combined data summary stats:\n",
    "\n",
    "fatherson.fheight mean = 171.93\n",
    "fatherson.sheight mean = 174.46\n",
    "fatherson.fheight std  = 6.97\n",
    "fatherson.sheight std  = 7.15\n",
    "\n",
    "computed differences by fatherson.fheight - fatherson.sheight:\n",
    "\n",
    "dif mean = -2.53\n",
    "dif std  =  7.05"
   ]
  },
  {
   "cell_type": "markdown",
   "metadata": {},
   "source": [
    "2.2) sample of 1000 from both sons and fathers using original statistics, the created a new computed differences df. \n",
    "\n",
    "sample dif mean : -2.11\n",
    "sample dif std  :  9.92\n",
    "\n",
    "mean appears to be comparable, but the std is larger. I'm not sure what to make of that. Does that imply the original data set was less representative than we thought? Is that inherent to the mathematics somehow?"
   ]
  },
  {
   "cell_type": "markdown",
   "metadata": {},
   "source": [
    "2.3) ran 1000 times. see code."
   ]
  },
  {
   "cell_type": "markdown",
   "metadata": {},
   "source": [
    "2.4) The mean of the difference values is -2.52. Almost exactly what the original mean difference was. With the CLT in mind, this is expected."
   ]
  },
  {
   "cell_type": "markdown",
   "metadata": {},
   "source": [
    "2.5) The standard deviation of the means is .31 and if thats supposed to be comparable to the results of my t-test then it implies I did something very wrong with that t-test."
   ]
  },
  {
   "cell_type": "markdown",
   "metadata": {},
   "source": [
    "2.6) The largest absolute difference of is 3.53"
   ]
  },
  {
   "cell_type": "markdown",
   "metadata": {},
   "source": [
    "2.7) the 95th quantile of the ABSOLUTE differences is 3.03 centimeters. A number that is approximately the square root of the 95th quantile of the absolute differences in the original data(14.9 cm)"
   ]
  },
  {
   "cell_type": "markdown",
   "metadata": {},
   "source": [
    "2.8) After running the code 100,000 times the largest absolute difference was 3.82 centimeters"
   ]
  }
 ],
 "metadata": {
  "kernelspec": {
   "display_name": "Python 3",
   "language": "python",
   "name": "python3"
  },
  "language_info": {
   "codemirror_mode": {
    "name": "ipython",
    "version": 3
   },
   "file_extension": ".py",
   "mimetype": "text/x-python",
   "name": "python",
   "nbconvert_exporter": "python",
   "pygments_lexer": "ipython3",
   "version": "3.7.3"
  }
 },
 "nbformat": 4,
 "nbformat_minor": 2
}
