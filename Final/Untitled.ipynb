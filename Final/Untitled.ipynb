{
 "cells": [
  {
   "cell_type": "code",
   "execution_count": 1,
   "metadata": {},
   "outputs": [],
   "source": [
    "import pandas as pd\n",
    "import numpy as np\n",
    "import matplotlib.pyplot as plt\n",
    "import statsmodels.formula.api as smf\n",
    "import statsmodels.tools.eval_measures as ste\n",
    "import sklearn.linear_model as slm\n",
    "\n",
    "pd.set_option('display.max_columns', 500)\n",
    "pd.set_option('display.max_rows', 500)\n",
    "pd.set_option('display.max_seq_items', 500)"
   ]
  },
  {
   "cell_type": "markdown",
   "metadata": {},
   "source": [
    "### 1.1-1.2"
   ]
  },
  {
   "cell_type": "code",
   "execution_count": 2,
   "metadata": {},
   "outputs": [],
   "source": [
    "#input election file\n",
    "election = pd.read_csv('us-elections-2016.csv.bz2', sep = '\\t')\n",
    "\n",
    "#input county file\n",
    "county = pd.read_csv('county-data.csv.bz2')\n",
    "\n",
    "#adds the right number of zeros to coincide with FIPS format\n",
    "county['COUNTY'] = county['COUNTY'].astype(str).apply(lambda x: x.zfill(3))\n",
    "\n",
    "#concatenates the two columns\n",
    "county['fips_code'] = (county['STATE'].astype(str) + county['COUNTY'].astype(str)).astype(int)\n",
    "\n",
    "#The election data includes no information about the District of Columbia. So joining by the election will be sufficient\n",
    "joined = pd.merge(county, election, on = 'fips_code', how = 'right')"
   ]
  },
  {
   "cell_type": "markdown",
   "metadata": {},
   "source": [
    "### 1.3"
   ]
  },
  {
   "cell_type": "code",
   "execution_count": 3,
   "metadata": {},
   "outputs": [],
   "source": [
    "joined_2016 = joined[['SUMLEV',\n",
    "                      'REGION', \n",
    "                      'DIVISION', \n",
    "                      'STATE', \n",
    "                      'COUNTY',\n",
    "                      'STNAME', \n",
    "                      'CTYNAME',\n",
    "                      'POPESTIMATE2016',\n",
    "                      'NPOPCHG_2016',\n",
    "                      'BIRTHS2016',\n",
    "                      'DEATHS2016',\n",
    "                      'NATURALINC2016',\n",
    "                      'INTERNATIONALMIG2016',\n",
    "                      'DOMESTICMIG2016',\n",
    "                      'NETMIG2016',\n",
    "                      'RESIDUAL2016',\n",
    "                      'GQESTIMATES2016',\n",
    "                      'RBIRTH2016', \n",
    "                      'RDEATH2016',\n",
    "                      'RNATURALINC2016',\n",
    "                      'RINTERNATIONALMIG2016',\n",
    "                      'RDOMESTICMIG2016', \n",
    "                      'RNETMIG2016',\n",
    "                      'fips_code',\n",
    "                      'county', \n",
    "                      'total_2016',\n",
    "                      'dem_2016', \n",
    "                      'gop_2016', \n",
    "                      'oth_2016', \n",
    "                      'stateFips',\n",
    "                      'state'\n",
    "                    ]]"
   ]
  },
  {
   "cell_type": "code",
   "execution_count": 4,
   "metadata": {
    "scrolled": true
   },
   "outputs": [
    {
     "name": "stderr",
     "output_type": "stream",
     "text": [
      "D:\\Conda\\lib\\site-packages\\ipykernel_launcher.py:1: SettingWithCopyWarning: \n",
      "A value is trying to be set on a copy of a slice from a DataFrame.\n",
      "Try using .loc[row_indexer,col_indexer] = value instead\n",
      "\n",
      "See the caveats in the documentation: http://pandas.pydata.org/pandas-docs/stable/user_guide/indexing.html#returning-a-view-versus-a-copy\n",
      "  \"\"\"Entry point for launching an IPython kernel.\n"
     ]
    }
   ],
   "source": [
    "joined_2016['perc_dem'] =  joined_2016.loc[:,'dem_2016'] / joined_2016.loc[:,'total_2016']"
   ]
  },
  {
   "cell_type": "markdown",
   "metadata": {},
   "source": [
    "__we check things like min/max as a proxy for whether the data is in an appropriate range(no negative numbers, no numbers larger than 1 etc)__"
   ]
  },
  {
   "cell_type": "code",
   "execution_count": 5,
   "metadata": {
    "scrolled": false
   },
   "outputs": [
    {
     "data": {
      "text/plain": [
       "count    3112.000000\n",
       "mean        0.317107\n",
       "std         0.153583\n",
       "min         0.031447\n",
       "25%         0.204792\n",
       "50%         0.284906\n",
       "75%         0.399610\n",
       "max         0.928466\n",
       "Name: perc_dem, dtype: float64"
      ]
     },
     "execution_count": 5,
     "metadata": {},
     "output_type": "execute_result"
    }
   ],
   "source": [
    "joined_2016.perc_dem.describe()"
   ]
  },
  {
   "cell_type": "markdown",
   "metadata": {},
   "source": [
    "### 1.4"
   ]
  },
  {
   "cell_type": "code",
   "execution_count": 21,
   "metadata": {
    "scrolled": false
   },
   "outputs": [
    {
     "data": {
      "text/plain": [
       "<matplotlib.collections.PathCollection at 0x11f70c20308>"
      ]
     },
     "execution_count": 21,
     "metadata": {},
     "output_type": "execute_result"
    },
    {
     "data": {
      "image/png": "[encoded data removed]",
      "text/plain": [
       "<Figure size 432x288 with 1 Axes>"
      ]
     },
     "metadata": {
      "needs_background": "light"
     },
     "output_type": "display_data"
    }
   ],
   "source": [
    "#how does percent democratic depend on log of population\n",
    "a = plt.scatter(np.log(joined_2016.POPESTIMATE2016), joined_2016.perc_dem)\n",
    "a"
   ]
  },
  {
   "cell_type": "markdown",
   "metadata": {},
   "source": [
    "### 1.5"
   ]
  },
  {
   "cell_type": "code",
   "execution_count": 26,
   "metadata": {},
   "outputs": [
    {
     "data": {
      "text/plain": [
       "<matplotlib.collections.PathCollection at 0x11f70dbb4c8>"
      ]
     },
     "execution_count": 26,
     "metadata": {},
     "output_type": "execute_result"
    },
    {
     "data": {
      "image/png": "[encoded data removed]",
      "text/plain": [
       "<Figure size 432x288 with 1 Axes>"
      ]
     },
     "metadata": {
      "needs_background": "light"
     },
     "output_type": "display_data"
    }
   ],
   "source": [
    "b = plt.scatter(joined_2016.RNETMIG2016, joined_2016.perc_dem)\n",
    "b"
   ]
  },
  {
   "cell_type": "code",
   "execution_count": 30,
   "metadata": {
    "scrolled": true
   },
   "outputs": [
    {
     "data": {
      "text/plain": [
       "<matplotlib.collections.PathCollection at 0x11f70d7c808>"
      ]
     },
     "execution_count": 30,
     "metadata": {},
     "output_type": "execute_result"
    },
    {
     "data": {
      "image/png": "[encoded data removed]",
      "text/plain": [
       "<Figure size 432x288 with 1 Axes>"
      ]
     },
     "metadata": {
      "needs_background": "light"
     },
     "output_type": "display_data"
    }
   ],
   "source": [
    "#this was an almost constant relationship before I ran it through log\n",
    "c = plt.scatter(np.log(joined_2016.NPOPCHG_2016), joined_2016.perc_dem)\n",
    "c"
   ]
  },
  {
   "cell_type": "markdown",
   "metadata": {},
   "source": [
    "### 1.6"
   ]
  },
  {
   "cell_type": "code",
   "execution_count": 33,
   "metadata": {},
   "outputs": [
    {
     "data": {
      "text/html": [
       "<table class=\"simpletable\">\n",
       "<caption>OLS Regression Results</caption>\n",
       "<tr>\n",
       "  <th>Dep. Variable:</th>        <td>perc_dem</td>     <th>  R-squared:         </th> <td>   0.122</td>\n",
       "</tr>\n",
       "<tr>\n",
       "  <th>Model:</th>                   <td>OLS</td>       <th>  Adj. R-squared:    </th> <td>   0.122</td>\n",
       "</tr>\n",
       "<tr>\n",
       "  <th>Method:</th>             <td>Least Squares</td>  <th>  F-statistic:       </th> <td>   433.4</td>\n",
       "</tr>\n",
       "<tr>\n",
       "  <th>Date:</th>             <td>Mon, 09 Dec 2019</td> <th>  Prob (F-statistic):</th> <td>3.16e-90</td>\n",
       "</tr>\n",
       "<tr>\n",
       "  <th>Time:</th>                 <td>10:25:06</td>     <th>  Log-Likelihood:    </th> <td>  1623.6</td>\n",
       "</tr>\n",
       "<tr>\n",
       "  <th>No. Observations:</th>      <td>  3111</td>      <th>  AIC:               </th> <td>  -3243.</td>\n",
       "</tr>\n",
       "<tr>\n",
       "  <th>Df Residuals:</th>          <td>  3109</td>      <th>  BIC:               </th> <td>  -3231.</td>\n",
       "</tr>\n",
       "<tr>\n",
       "  <th>Df Model:</th>              <td>     1</td>      <th>                     </th>     <td> </td>   \n",
       "</tr>\n",
       "<tr>\n",
       "  <th>Covariance Type:</th>      <td>nonrobust</td>    <th>                     </th>     <td> </td>   \n",
       "</tr>\n",
       "</table>\n",
       "<table class=\"simpletable\">\n",
       "<tr>\n",
       "         <td></td>            <th>coef</th>     <th>std err</th>      <th>t</th>      <th>P>|t|</th>  <th>[0.025</th>    <th>0.975]</th>  \n",
       "</tr>\n",
       "<tr>\n",
       "  <th>Intercept</th>       <td>    0.3002</td> <td>    0.003</td> <td>  111.269</td> <td> 0.000</td> <td>    0.295</td> <td>    0.305</td>\n",
       "</tr>\n",
       "<tr>\n",
       "  <th>POPESTIMATE2016</th> <td> 1.616e-07</td> <td> 7.76e-09</td> <td>   20.819</td> <td> 0.000</td> <td> 1.46e-07</td> <td> 1.77e-07</td>\n",
       "</tr>\n",
       "</table>\n",
       "<table class=\"simpletable\">\n",
       "<tr>\n",
       "  <th>Omnibus:</th>       <td>386.661</td> <th>  Durbin-Watson:     </th> <td>   1.397</td> \n",
       "</tr>\n",
       "<tr>\n",
       "  <th>Prob(Omnibus):</th> <td> 0.000</td>  <th>  Jarque-Bera (JB):  </th> <td>1018.479</td> \n",
       "</tr>\n",
       "<tr>\n",
       "  <th>Skew:</th>          <td> 0.689</td>  <th>  Prob(JB):          </th> <td>6.92e-222</td>\n",
       "</tr>\n",
       "<tr>\n",
       "  <th>Kurtosis:</th>      <td> 5.441</td>  <th>  Cond. No.          </th> <td>3.64e+05</td> \n",
       "</tr>\n",
       "</table><br/><br/>Warnings:<br/>[1] Standard Errors assume that the covariance matrix of the errors is correctly specified.<br/>[2] The condition number is large, 3.64e+05. This might indicate that there are<br/>strong multicollinearity or other numerical problems."
      ],
      "text/plain": [
       "<class 'statsmodels.iolib.summary.Summary'>\n",
       "\"\"\"\n",
       "                            OLS Regression Results                            \n",
       "==============================================================================\n",
       "Dep. Variable:               perc_dem   R-squared:                       0.122\n",
       "Model:                            OLS   Adj. R-squared:                  0.122\n",
       "Method:                 Least Squares   F-statistic:                     433.4\n",
       "Date:                Mon, 09 Dec 2019   Prob (F-statistic):           3.16e-90\n",
       "Time:                        10:25:06   Log-Likelihood:                 1623.6\n",
       "No. Observations:                3111   AIC:                            -3243.\n",
       "Df Residuals:                    3109   BIC:                            -3231.\n",
       "Df Model:                           1                                         \n",
       "Covariance Type:            nonrobust                                         \n",
       "===================================================================================\n",
       "                      coef    std err          t      P>|t|      [0.025      0.975]\n",
       "-----------------------------------------------------------------------------------\n",
       "Intercept           0.3002      0.003    111.269      0.000       0.295       0.305\n",
       "POPESTIMATE2016  1.616e-07   7.76e-09     20.819      0.000    1.46e-07    1.77e-07\n",
       "==============================================================================\n",
       "Omnibus:                      386.661   Durbin-Watson:                   1.397\n",
       "Prob(Omnibus):                  0.000   Jarque-Bera (JB):             1018.479\n",
       "Skew:                           0.689   Prob(JB):                    6.92e-222\n",
       "Kurtosis:                       5.441   Cond. No.                     3.64e+05\n",
       "==============================================================================\n",
       "\n",
       "Warnings:\n",
       "[1] Standard Errors assume that the covariance matrix of the errors is correctly specified.\n",
       "[2] The condition number is large, 3.64e+05. This might indicate that there are\n",
       "strong multicollinearity or other numerical problems.\n",
       "\"\"\""
      ]
     },
     "execution_count": 33,
     "metadata": {},
     "output_type": "execute_result"
    }
   ],
   "source": [
    "m = smf.ols(formula = 'perc_dem ~ POPESTIMATE2016', data = joined_2016, missing='drop').fit()\n",
    "m.summary()"
   ]
  },
  {
   "cell_type": "markdown",
   "metadata": {},
   "source": [
    "\n",
    "__the -0.0.3002 coefficient means that that is predicted percentage of people voting dem when the population is 0. Since a pop of zero means zero voters then this value is outside the relevant range of what we are modeling. The 1.616e-07 coefficient means that the predicted percentage of people voting dem increases by VERY small amounts with each population unit increase__\n"
   ]
  },
  {
   "cell_type": "markdown",
   "metadata": {},
   "source": [
    "### 1.7"
   ]
  },
  {
   "cell_type": "code",
   "execution_count": 32,
   "metadata": {
    "scrolled": false
   },
   "outputs": [
    {
     "name": "stderr",
     "output_type": "stream",
     "text": [
      "D:\\Conda\\lib\\site-packages\\ipykernel_launcher.py:1: SettingWithCopyWarning: \n",
      "A value is trying to be set on a copy of a slice from a DataFrame.\n",
      "Try using .loc[row_indexer,col_indexer] = value instead\n",
      "\n",
      "See the caveats in the documentation: http://pandas.pydata.org/pandas-docs/stable/user_guide/indexing.html#returning-a-view-versus-a-copy\n",
      "  \"\"\"Entry point for launching an IPython kernel.\n"
     ]
    },
    {
     "data": {
      "text/html": [
       "<table class=\"simpletable\">\n",
       "<caption>OLS Regression Results</caption>\n",
       "<tr>\n",
       "  <th>Dep. Variable:</th>        <td>perc_dem</td>     <th>  R-squared:         </th> <td>   0.251</td> \n",
       "</tr>\n",
       "<tr>\n",
       "  <th>Model:</th>                   <td>OLS</td>       <th>  Adj. R-squared:    </th> <td>   0.250</td> \n",
       "</tr>\n",
       "<tr>\n",
       "  <th>Method:</th>             <td>Least Squares</td>  <th>  F-statistic:       </th> <td>   1040.</td> \n",
       "</tr>\n",
       "<tr>\n",
       "  <th>Date:</th>             <td>Sun, 08 Dec 2019</td> <th>  Prob (F-statistic):</th> <td>4.59e-197</td>\n",
       "</tr>\n",
       "<tr>\n",
       "  <th>Time:</th>                 <td>17:55:15</td>     <th>  Log-Likelihood:    </th> <td>  1869.4</td> \n",
       "</tr>\n",
       "<tr>\n",
       "  <th>No. Observations:</th>      <td>  3111</td>      <th>  AIC:               </th> <td>  -3735.</td> \n",
       "</tr>\n",
       "<tr>\n",
       "  <th>Df Residuals:</th>          <td>  3109</td>      <th>  BIC:               </th> <td>  -3723.</td> \n",
       "</tr>\n",
       "<tr>\n",
       "  <th>Df Model:</th>              <td>     1</td>      <th>                     </th>     <td> </td>    \n",
       "</tr>\n",
       "<tr>\n",
       "  <th>Covariance Type:</th>      <td>nonrobust</td>    <th>                     </th>     <td> </td>    \n",
       "</tr>\n",
       "</table>\n",
       "<table class=\"simpletable\">\n",
       "<tr>\n",
       "      <td></td>         <th>coef</th>     <th>std err</th>      <th>t</th>      <th>P>|t|</th>  <th>[0.025</th>    <th>0.975]</th>  \n",
       "</tr>\n",
       "<tr>\n",
       "  <th>Intercept</th> <td>   -0.2165</td> <td>    0.017</td> <td>  -12.955</td> <td> 0.000</td> <td>   -0.249</td> <td>   -0.184</td>\n",
       "</tr>\n",
       "<tr>\n",
       "  <th>log_pop</th>   <td>    0.0519</td> <td>    0.002</td> <td>   32.247</td> <td> 0.000</td> <td>    0.049</td> <td>    0.055</td>\n",
       "</tr>\n",
       "</table>\n",
       "<table class=\"simpletable\">\n",
       "<tr>\n",
       "  <th>Omnibus:</th>       <td>621.986</td> <th>  Durbin-Watson:     </th> <td>   1.505</td> \n",
       "</tr>\n",
       "<tr>\n",
       "  <th>Prob(Omnibus):</th> <td> 0.000</td>  <th>  Jarque-Bera (JB):  </th> <td>1196.532</td> \n",
       "</tr>\n",
       "<tr>\n",
       "  <th>Skew:</th>          <td> 1.209</td>  <th>  Prob(JB):          </th> <td>1.50e-260</td>\n",
       "</tr>\n",
       "<tr>\n",
       "  <th>Kurtosis:</th>      <td> 4.839</td>  <th>  Cond. No.          </th> <td>    73.7</td> \n",
       "</tr>\n",
       "</table><br/><br/>Warnings:<br/>[1] Standard Errors assume that the covariance matrix of the errors is correctly specified."
      ],
      "text/plain": [
       "<class 'statsmodels.iolib.summary.Summary'>\n",
       "\"\"\"\n",
       "                            OLS Regression Results                            \n",
       "==============================================================================\n",
       "Dep. Variable:               perc_dem   R-squared:                       0.251\n",
       "Model:                            OLS   Adj. R-squared:                  0.250\n",
       "Method:                 Least Squares   F-statistic:                     1040.\n",
       "Date:                Sun, 08 Dec 2019   Prob (F-statistic):          4.59e-197\n",
       "Time:                        17:55:15   Log-Likelihood:                 1869.4\n",
       "No. Observations:                3111   AIC:                            -3735.\n",
       "Df Residuals:                    3109   BIC:                            -3723.\n",
       "Df Model:                           1                                         \n",
       "Covariance Type:            nonrobust                                         \n",
       "==============================================================================\n",
       "                 coef    std err          t      P>|t|      [0.025      0.975]\n",
       "------------------------------------------------------------------------------\n",
       "Intercept     -0.2165      0.017    -12.955      0.000      -0.249      -0.184\n",
       "log_pop        0.0519      0.002     32.247      0.000       0.049       0.055\n",
       "==============================================================================\n",
       "Omnibus:                      621.986   Durbin-Watson:                   1.505\n",
       "Prob(Omnibus):                  0.000   Jarque-Bera (JB):             1196.532\n",
       "Skew:                           1.209   Prob(JB):                    1.50e-260\n",
       "Kurtosis:                       4.839   Cond. No.                         73.7\n",
       "==============================================================================\n",
       "\n",
       "Warnings:\n",
       "[1] Standard Errors assume that the covariance matrix of the errors is correctly specified.\n",
       "\"\"\""
      ]
     },
     "execution_count": 32,
     "metadata": {},
     "output_type": "execute_result"
    }
   ],
   "source": [
    "joined_2016['log_pop'] = joined_2016.POPESTIMATE2016.apply(lambda x: np.log(x))\n",
    "m = smf.ols(formula = 'perc_dem ~ log_pop', data = joined_2016, missing='drop').fit()\n",
    "m.summary()"
   ]
  },
  {
   "cell_type": "markdown",
   "metadata": {},
   "source": [
    "\n",
    "__the -0.21 coefficient means that that is predicted percentage of people voting dem when the log(pop) is 0. This is completely meaningless for a variety of reasons. The .051 coefficient means that the predicted percentage of people voting dem increases with each log(pop) unit increase by .051__\n"
   ]
  },
  {
   "cell_type": "markdown",
   "metadata": {},
   "source": [
    "### 1.8"
   ]
  },
  {
   "cell_type": "markdown",
   "metadata": {},
   "source": [
    "__I prefer the log of population model. I'm not exactly sure why to be honest, although I know that with population it is a commonly accepted practice. I think a log function distributes the concetrated nature of population, muuch like it does with pH. I think the bad reasons might be that the log model provides larger coefficients(or potentially decreased p values just not with this data). Additionally, some suplemental research on the internet suggests that a log function may be appropriate when the residuals have a skewed distribution.__"
   ]
  },
  {
   "cell_type": "code",
   "execution_count": null,
   "metadata": {},
   "outputs": [],
   "source": []
  },
  {
   "cell_type": "code",
   "execution_count": null,
   "metadata": {},
   "outputs": [],
   "source": []
  }
 ],
 "metadata": {
  "kernelspec": {
   "display_name": "Python 3",
   "language": "python",
   "name": "python3"
  },
  "language_info": {
   "codemirror_mode": {
    "name": "ipython",
    "version": 3
   },
   "file_extension": ".py",
   "mimetype": "text/x-python",
   "name": "python",
   "nbconvert_exporter": "python",
   "pygments_lexer": "ipython3",
   "version": "3.7.4"
  }
 },
 "nbformat": 4,
 "nbformat_minor": 2
}
