{
 "cells": [
  {
   "cell_type": "code",
   "execution_count": 2,
   "metadata": {},
   "outputs": [],
   "source": [
    "import pandas as pd\n",
    "import numpy as np\n",
    "\n",
    "data = pd.read_csv('airbnb-seattle-listings-train.csv.bz2', sep = '\\t')\n",
    "pd.set_option(\"display.max_columns\", 500)\n",
    "pd.set_option(\"display.max_rows\", 500)\n",
    "pd.set_option(\"display.max_seq_items\", 500)"
   ]
  },
  {
   "cell_type": "code",
   "execution_count": 41,
   "metadata": {},
   "outputs": [],
   "source": [
    "data = data[['id', \n",
    "              'host_since',\n",
    "              'host_response_time', #suggest to factor into four levels\n",
    "              'host_response_rate',\n",
    "              'host_is_superhost',\n",
    "              'host_neighbourhood',\n",
    "              'host_total_listings_count',\n",
    "              'neighbourhood', #curious whether neighborhood or zipcode provide better predictor\n",
    "              'zipcode',\n",
    "              'latitude',\n",
    "              'longitude',\n",
    "              'is_location_exact',\n",
    "              'property_type', #should reduce categories\n",
    "              'room_type', #suggest to factor into four levels?\n",
    "              'accommodates',\n",
    "              'bathrooms',\n",
    "              'bedrooms',\n",
    "              'beds',\n",
    "              'bed_type',\n",
    "              'square_feet',\n",
    "              'price',\n",
    "              'weekly_price',\n",
    "              'monthly_price',\n",
    "              'security_deposit',\n",
    "              'cleaning_fee',\n",
    "              'guests_included',\n",
    "              'extra_people',\n",
    "              'minimum_nights',\n",
    "              'maximum_nights',\n",
    "              'number_of_reviews',\n",
    "              'number_of_reviews_ltm', # not sure how this is different. What does ltm mean?\n",
    "              'review_scores_rating',\n",
    "              'review_scores_accuracy',\n",
    "              'review_scores_cleanliness',\n",
    "              'review_scores_checkin',\n",
    "              'review_scores_communication',\n",
    "              'review_scores_location',\n",
    "              'review_scores_value',\n",
    "              'instant_bookable',\n",
    "              'cancellation_policy',\n",
    "              'require_guest_profile_picture',\n",
    "              'require_guest_phone_verification',\n",
    "              'calculated_host_listings_count',\n",
    "              'reviews_per_month']]"
   ]
  },
  {
   "cell_type": "code",
   "execution_count": 48,
   "metadata": {},
   "outputs": [
    {
     "data": {
      "text/plain": [
       "id                                     0\n",
       "host_since                             1\n",
       "host_response_time                  1484\n",
       "host_response_rate                  1484\n",
       "host_is_superhost                      1\n",
       "host_neighbourhood                   680\n",
       "host_total_listings_count              1\n",
       "neighbourhood                          0\n",
       "zipcode                              145\n",
       "latitude                               0\n",
       "longitude                              0\n",
       "is_location_exact                      0\n",
       "property_type                          0\n",
       "room_type                              0\n",
       "accommodates                           0\n",
       "bathrooms                              0\n",
       "bedrooms                               1\n",
       "beds                                   3\n",
       "bed_type                               0\n",
       "square_feet                         7212\n",
       "price                                  0\n",
       "weekly_price                        6688\n",
       "monthly_price                       6891\n",
       "security_deposit                    1332\n",
       "cleaning_fee                         691\n",
       "guests_included                        0\n",
       "extra_people                           0\n",
       "minimum_nights                         0\n",
       "maximum_nights                         0\n",
       "number_of_reviews                      0\n",
       "number_of_reviews_ltm                  0\n",
       "review_scores_rating                1137\n",
       "review_scores_accuracy              1139\n",
       "review_scores_cleanliness           1139\n",
       "review_scores_checkin               1140\n",
       "review_scores_communication         1138\n",
       "review_scores_location              1140\n",
       "review_scores_value                 1139\n",
       "instant_bookable                       0\n",
       "cancellation_policy                    0\n",
       "require_guest_profile_picture          0\n",
       "require_guest_phone_verification       0\n",
       "calculated_host_listings_count         0\n",
       "reviews_per_month                   1087\n",
       "dtype: int64"
      ]
     },
     "execution_count": 48,
     "metadata": {},
     "output_type": "execute_result"
    }
   ],
   "source": [
    "data.isnull().sum()"
   ]
  }
 ],
 "metadata": {
  "kernelspec": {
   "display_name": "Python 3",
   "language": "python",
   "name": "python3"
  },
  "language_info": {
   "codemirror_mode": {
    "name": "ipython",
    "version": 3
   },
   "file_extension": ".py",
   "mimetype": "text/x-python",
   "name": "python",
   "nbconvert_exporter": "python",
   "pygments_lexer": "ipython3",
   "version": "3.7.4"
  }
 },
 "nbformat": 4,
 "nbformat_minor": 2
}
