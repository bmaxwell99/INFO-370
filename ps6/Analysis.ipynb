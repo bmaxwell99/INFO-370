{
 "cells": [
  {
   "cell_type": "code",
   "execution_count": 1,
   "metadata": {},
   "outputs": [],
   "source": [
    "%run Cleaning.ipynb\n",
    "\n",
    "import statsmodels.formula.api as smf\n",
    "\n",
    "data = full_data"
   ]
  },
  {
   "cell_type": "code",
   "execution_count": 2,
   "metadata": {
    "scrolled": true
   },
   "outputs": [
    {
     "data": {
      "text/plain": [
       "0.25321135527907557"
      ]
     },
     "execution_count": 2,
     "metadata": {},
     "output_type": "execute_result"
    }
   ],
   "source": [
    "#host_total_listings_count\n",
    "#accommodates\n",
    "m = smf.ols(formula = 'price ~ host_total_listings_count + accommodates', data = data, missing='drop').fit()\n",
    "m.rsquared_adj"
   ]
  },
  {
   "cell_type": "code",
   "execution_count": 3,
   "metadata": {},
   "outputs": [
    {
     "data": {
      "text/plain": [
       "0.24947699198480489"
      ]
     },
     "execution_count": 3,
     "metadata": {},
     "output_type": "execute_result"
    }
   ],
   "source": [
    "#host_total_listings_count\n",
    "#accommodates\n",
    "#cleaning_fee\n",
    "m = smf.ols(formula = 'price ~ host_total_listings_count + accommodates + cleaning_fee', data = data, missing='drop').fit()\n",
    "m.rsquared_adj"
   ]
  },
  {
   "cell_type": "code",
   "execution_count": 4,
   "metadata": {},
   "outputs": [
    {
     "data": {
      "text/plain": [
       "0.25919851162749397"
      ]
     },
     "execution_count": 4,
     "metadata": {},
     "output_type": "execute_result"
    }
   ],
   "source": [
    "#host_total_listings_count\n",
    "#accommodates\n",
    "#bedrooms\n",
    "m = smf.ols(formula = 'price ~ host_total_listings_count + accommodates + bedrooms', data = data, missing='drop').fit()\n",
    "m.rsquared_adj"
   ]
  },
  {
   "cell_type": "code",
   "execution_count": 5,
   "metadata": {
    "scrolled": true
   },
   "outputs": [
    {
     "data": {
      "text/plain": [
       "0.263035036510071"
      ]
     },
     "execution_count": 5,
     "metadata": {},
     "output_type": "execute_result"
    }
   ],
   "source": [
    "#host_total_listings_count\n",
    "#accommodates\n",
    "#bedrooms\n",
    "#guests_included\n",
    "m = smf.ols(formula = 'price ~ host_total_listings_count + accommodates + bedrooms + guests_included', data = data, missing='drop').fit()\n",
    "m.rsquared_adj"
   ]
  },
  {
   "cell_type": "code",
   "execution_count": 6,
   "metadata": {},
   "outputs": [
    {
     "data": {
      "text/plain": [
       "0.27264432894983837"
      ]
     },
     "execution_count": 6,
     "metadata": {},
     "output_type": "execute_result"
    }
   ],
   "source": [
    "#host_total_listings_count\n",
    "#accommodates\n",
    "#bedrooms\n",
    "#guests_included\n",
    "#room_type\n",
    "m = smf.ols(formula = 'price ~ host_total_listings_count + accommodates + bedrooms + guests_included + room_type', data = data, missing='drop').fit()\n",
    "m.rsquared_adj"
   ]
  },
  {
   "cell_type": "code",
   "execution_count": 7,
   "metadata": {},
   "outputs": [
    {
     "data": {
      "text/plain": [
       "0.2725854088961115"
      ]
     },
     "execution_count": 7,
     "metadata": {},
     "output_type": "execute_result"
    }
   ],
   "source": [
    "#host_total_listings_count\n",
    "#accommodates\n",
    "#bedrooms\n",
    "#guests_included\n",
    "#room_type\n",
    "#beds\n",
    "m = smf.ols(formula = 'price ~ host_total_listings_count + accommodates + bedrooms + guests_included + room_type + beds', data = data, missing='drop').fit()\n",
    "m.rsquared_adj"
   ]
  },
  {
   "cell_type": "code",
   "execution_count": 8,
   "metadata": {},
   "outputs": [
    {
     "data": {
      "text/plain": [
       "0.2749387916321505"
      ]
     },
     "execution_count": 8,
     "metadata": {},
     "output_type": "execute_result"
    }
   ],
   "source": [
    "#host_total_listings_count\n",
    "#accommodates\n",
    "#bedrooms\n",
    "#guests_included\n",
    "#room_type\n",
    "#bathrooms\n",
    "m = smf.ols(formula = 'price ~ host_total_listings_count + accommodates + bedrooms + guests_included + room_type + bathrooms', data = data, missing='drop').fit()\n",
    "m.rsquared_adj"
   ]
  },
  {
   "cell_type": "code",
   "execution_count": 9,
   "metadata": {},
   "outputs": [
    {
     "data": {
      "text/plain": [
       "0.28312328006103904"
      ]
     },
     "execution_count": 9,
     "metadata": {},
     "output_type": "execute_result"
    }
   ],
   "source": [
    "#host_total_listings_count\n",
    "#accommodates\n",
    "#bedrooms\n",
    "#guests_included\n",
    "#room_type\n",
    "#bathrooms\n",
    "#cancellation_policy\n",
    "m = smf.ols(formula = 'price ~ host_total_listings_count + accommodates + bedrooms + guests_included + room_type + bathrooms + cancellation_policy', data = data, missing='drop').fit()\n",
    "m.rsquared_adj"
   ]
  },
  {
   "cell_type": "code",
   "execution_count": 10,
   "metadata": {},
   "outputs": [
    {
     "data": {
      "text/plain": [
       "0.4255261542431438"
      ]
     },
     "execution_count": 10,
     "metadata": {},
     "output_type": "execute_result"
    }
   ],
   "source": [
    "#host_total_listings_count\n",
    "#accommodates\n",
    "#bedrooms\n",
    "#guests_included\n",
    "#room_type\n",
    "#bathrooms\n",
    "#cancellation_policy\n",
    "#reviews_per_month\n",
    "m = smf.ols(formula = 'price ~ host_total_listings_count + accommodates + bedrooms + guests_included + room_type + bathrooms + cancellation_policy + reviews_per_month', data = data, missing='drop').fit()\n",
    "m.rsquared_adj"
   ]
  },
  {
   "cell_type": "code",
   "execution_count": 11,
   "metadata": {},
   "outputs": [
    {
     "data": {
      "text/plain": [
       "0.4254400483704237"
      ]
     },
     "execution_count": 11,
     "metadata": {},
     "output_type": "execute_result"
    }
   ],
   "source": [
    "#host_total_listings_count\n",
    "#accommodates\n",
    "#bedrooms\n",
    "#guests_included\n",
    "#room_type\n",
    "#bathrooms\n",
    "#cancellation_policy\n",
    "#reviews_per_month\n",
    "#number_of_reviews\n",
    "m = smf.ols(formula = 'price ~ host_total_listings_count + accommodates + bedrooms + guests_included + room_type + bathrooms + cancellation_policy + reviews_per_month + number_of_reviews', data = data, missing='drop').fit()\n",
    "m.rsquared_adj"
   ]
  },
  {
   "cell_type": "code",
   "execution_count": 12,
   "metadata": {},
   "outputs": [
    {
     "data": {
      "text/plain": [
       "0.42549518786684803"
      ]
     },
     "execution_count": 12,
     "metadata": {},
     "output_type": "execute_result"
    }
   ],
   "source": [
    "#host_total_listings_count\n",
    "#accommodates\n",
    "#bedrooms\n",
    "#guests_included\n",
    "#room_type\n",
    "#bathrooms\n",
    "#cancellation_policy\n",
    "#reviews_per_month\n",
    "#number_of_reviews_ltm\n",
    "m = smf.ols(formula = 'price ~ host_total_listings_count + accommodates + bedrooms + guests_included + room_type + bathrooms + cancellation_policy + reviews_per_month + number_of_reviews_ltm', data = data, missing='drop').fit()\n",
    "m.rsquared_adj"
   ]
  },
  {
   "cell_type": "code",
   "execution_count": 13,
   "metadata": {},
   "outputs": [
    {
     "data": {
      "text/plain": [
       "0.4755315073480707"
      ]
     },
     "execution_count": 13,
     "metadata": {},
     "output_type": "execute_result"
    }
   ],
   "source": [
    "#host_total_listings_count\n",
    "#accommodates\n",
    "#bedrooms\n",
    "#guests_included\n",
    "#room_type\n",
    "#bathrooms\n",
    "#cancellation_policy\n",
    "#reviews_per_month\n",
    "#number_of_reviews_ltm\n",
    "#calculated_host_listings_count\n",
    "m = smf.ols(formula = 'price ~ host_total_listings_count + accommodates + bedrooms + guests_included + room_type + bathrooms + cancellation_policy + reviews_per_month + number_of_reviews_ltm + calculated_host_listings_count', data = data, missing='drop').fit()\n",
    "m.rsquared_adj"
   ]
  },
  {
   "cell_type": "code",
   "execution_count": 14,
   "metadata": {},
   "outputs": [
    {
     "data": {
      "text/plain": [
       "0.47711933254226135"
      ]
     },
     "execution_count": 14,
     "metadata": {},
     "output_type": "execute_result"
    }
   ],
   "source": [
    "#host_total_listings_count\n",
    "#accommodates\n",
    "#bedrooms\n",
    "#guests_included\n",
    "#room_type\n",
    "#bathrooms\n",
    "#cancellation_policy\n",
    "#reviews_per_month\n",
    "#number_of_reviews_ltm\n",
    "#calculated_host_listings_count\n",
    "#review_scores_checkin\n",
    "m = smf.ols(formula = 'price ~ host_total_listings_count + accommodates + bedrooms + guests_included + room_type + bathrooms + cancellation_policy + reviews_per_month + number_of_reviews_ltm + calculated_host_listings_count + review_scores_checkin', data = data, missing='drop').fit()\n",
    "m.rsquared_adj"
   ]
  },
  {
   "cell_type": "code",
   "execution_count": 15,
   "metadata": {},
   "outputs": [
    {
     "data": {
      "text/plain": [
       "0.4796073535693419"
      ]
     },
     "execution_count": 15,
     "metadata": {},
     "output_type": "execute_result"
    }
   ],
   "source": [
    "#host_total_listings_count\n",
    "#accommodates\n",
    "#bedrooms\n",
    "#guests_included\n",
    "#room_type\n",
    "#bathrooms\n",
    "#cancellation_policy\n",
    "#reviews_per_month\n",
    "#number_of_reviews_ltm\n",
    "#calculated_host_listings_count\n",
    "#review_scores_checkin\n",
    "#instant_bookable\n",
    "m = smf.ols(formula = 'price ~ host_total_listings_count + accommodates + bedrooms + guests_included + room_type + bathrooms + cancellation_policy + reviews_per_month + number_of_reviews_ltm + calculated_host_listings_count + review_scores_checkin + instant_bookable', data = data, missing='drop').fit()\n",
    "m.rsquared_adj"
   ]
  },
  {
   "cell_type": "code",
   "execution_count": 16,
   "metadata": {},
   "outputs": [
    {
     "data": {
      "text/plain": [
       "0.4798560879174929"
      ]
     },
     "execution_count": 16,
     "metadata": {},
     "output_type": "execute_result"
    }
   ],
   "source": [
    "#host_total_listings_count\n",
    "#accommodates\n",
    "#bedrooms\n",
    "#guests_included\n",
    "#room_type\n",
    "#bathrooms\n",
    "#cancellation_policy\n",
    "#reviews_per_month\n",
    "#number_of_reviews_ltm\n",
    "#calculated_host_listings_count\n",
    "#review_scores_checkin\n",
    "#instant_bookable\n",
    "#maximum_nights\n",
    "m = smf.ols(formula = 'price ~ host_total_listings_count + accommodates + bedrooms + guests_included + room_type + bathrooms + cancellation_policy + reviews_per_month + number_of_reviews_ltm + calculated_host_listings_count + review_scores_checkin + instant_bookable + maximum_nights', data = data, missing='drop').fit()\n",
    "m.rsquared_adj"
   ]
  },
  {
   "cell_type": "code",
   "execution_count": 17,
   "metadata": {},
   "outputs": [
    {
     "data": {
      "text/plain": [
       "0.4801206545307255"
      ]
     },
     "execution_count": 17,
     "metadata": {},
     "output_type": "execute_result"
    }
   ],
   "source": [
    "#host_total_listings_count\n",
    "#accommodates\n",
    "#bedrooms\n",
    "#guests_included\n",
    "#room_type\n",
    "#bathrooms\n",
    "#cancellation_policy\n",
    "#reviews_per_month\n",
    "#number_of_reviews_ltm\n",
    "#calculated_host_listings_count\n",
    "#review_scores_checkin\n",
    "#instant_bookable\n",
    "#maximum_nights\n",
    "#host_is_superhost\n",
    "m = smf.ols(formula = 'price ~ host_total_listings_count + accommodates + bedrooms + guests_included + room_type + bathrooms + cancellation_policy + reviews_per_month + number_of_reviews_ltm + calculated_host_listings_count + review_scores_checkin + instant_bookable + maximum_nights + host_is_superhost' , data = data, missing='drop').fit()\n",
    "m.rsquared_adj"
   ]
  },
  {
   "cell_type": "code",
   "execution_count": 18,
   "metadata": {},
   "outputs": [
    {
     "data": {
      "text/plain": [
       "0.5026149192364424"
      ]
     },
     "execution_count": 18,
     "metadata": {},
     "output_type": "execute_result"
    }
   ],
   "source": [
    "#host_total_listings_count\n",
    "#accommodates\n",
    "#bedrooms\n",
    "#guests_included\n",
    "#room_type\n",
    "#bathrooms\n",
    "#cancellation_policy\n",
    "#reviews_per_month\n",
    "#number_of_reviews_ltm\n",
    "#calculated_host_listings_count\n",
    "#review_scores_checkin\n",
    "#instant_bookable\n",
    "#maximum_nights\n",
    "#host_is_superhost\n",
    "#security_deposit\n",
    "m = smf.ols(formula = 'price ~ host_total_listings_count + accommodates + bedrooms + guests_included + room_type + bathrooms + cancellation_policy + reviews_per_month + number_of_reviews_ltm + calculated_host_listings_count + review_scores_checkin + instant_bookable + maximum_nights + host_is_superhost + security_deposit' , data = data, missing='drop').fit()\n",
    "m.rsquared_adj"
   ]
  },
  {
   "cell_type": "code",
   "execution_count": 19,
   "metadata": {},
   "outputs": [
    {
     "data": {
      "text/plain": [
       "0.5025928240768345"
      ]
     },
     "execution_count": 19,
     "metadata": {},
     "output_type": "execute_result"
    }
   ],
   "source": [
    "#host_total_listings_count\n",
    "#accommodates\n",
    "#bedrooms\n",
    "#guests_included\n",
    "#room_type\n",
    "#bathrooms\n",
    "#cancellation_policy\n",
    "#reviews_per_month\n",
    "#number_of_reviews_ltm\n",
    "#calculated_host_listings_count\n",
    "#review_scores_checkin\n",
    "#instant_bookable\n",
    "#maximum_nights\n",
    "#host_is_superhost\n",
    "#security_deposit\n",
    "#review_scores_communication\n",
    "m = smf.ols(formula = 'price ~ host_total_listings_count + accommodates + bedrooms + guests_included + room_type + bathrooms + cancellation_policy + reviews_per_month + number_of_reviews_ltm + calculated_host_listings_count + review_scores_checkin + instant_bookable + maximum_nights + host_is_superhost + security_deposit + review_scores_communication' , data = data, missing='drop').fit()\n",
    "m.rsquared_adj"
   ]
  },
  {
   "cell_type": "code",
   "execution_count": 20,
   "metadata": {},
   "outputs": [
    {
     "data": {
      "text/plain": [
       "0.5025341580041994"
      ]
     },
     "execution_count": 20,
     "metadata": {},
     "output_type": "execute_result"
    }
   ],
   "source": [
    "#host_total_listings_count\n",
    "#accommodates\n",
    "#bedrooms\n",
    "#guests_included\n",
    "#room_type\n",
    "#bathrooms\n",
    "#cancellation_policy\n",
    "#reviews_per_month\n",
    "#number_of_reviews_ltm\n",
    "#calculated_host_listings_count\n",
    "#review_scores_checkin\n",
    "#instant_bookable\n",
    "#maximum_nights\n",
    "#host_is_superhost\n",
    "#security_deposit\n",
    "#review_scores_value\n",
    "m = smf.ols(formula = 'price ~ host_total_listings_count + accommodates + bedrooms + guests_included + room_type + bathrooms + cancellation_policy + reviews_per_month + number_of_reviews_ltm + calculated_host_listings_count + review_scores_checkin + instant_bookable + maximum_nights + host_is_superhost + security_deposit + review_scores_value' , data = data, missing='drop').fit()\n",
    "m.rsquared_adj"
   ]
  },
  {
   "cell_type": "code",
   "execution_count": 21,
   "metadata": {},
   "outputs": [
    {
     "data": {
      "text/plain": [
       "0.5025638092466338"
      ]
     },
     "execution_count": 21,
     "metadata": {},
     "output_type": "execute_result"
    }
   ],
   "source": [
    "#host_total_listings_count\n",
    "#accommodates\n",
    "#bedrooms\n",
    "#guests_included\n",
    "#room_type\n",
    "#bathrooms\n",
    "#cancellation_policy\n",
    "#reviews_per_month\n",
    "#number_of_reviews_ltm\n",
    "#calculated_host_listings_count\n",
    "#review_scores_checkin\n",
    "#instant_bookable\n",
    "#maximum_nights\n",
    "#host_is_superhost\n",
    "#security_deposit\n",
    "#review_scores_accuracy\n",
    "m = smf.ols(formula = 'price ~ host_total_listings_count + accommodates + bedrooms + guests_included + room_type + bathrooms + cancellation_policy + reviews_per_month + number_of_reviews_ltm + calculated_host_listings_count + review_scores_checkin + instant_bookable + maximum_nights + host_is_superhost + security_deposit + review_scores_accuracy' , data = data, missing='drop').fit()\n",
    "m.rsquared_adj"
   ]
  },
  {
   "cell_type": "code",
   "execution_count": 22,
   "metadata": {},
   "outputs": [
    {
     "data": {
      "text/plain": [
       "0.5030477364655574"
      ]
     },
     "execution_count": 22,
     "metadata": {},
     "output_type": "execute_result"
    }
   ],
   "source": [
    "#host_total_listings_count\n",
    "#accommodates\n",
    "#bedrooms\n",
    "#guests_included\n",
    "#room_type\n",
    "#bathrooms\n",
    "#cancellation_policy\n",
    "#reviews_per_month\n",
    "#number_of_reviews_ltm\n",
    "#calculated_host_listings_count\n",
    "#review_scores_checkin\n",
    "#instant_bookable\n",
    "#maximum_nights\n",
    "#host_is_superhost\n",
    "#security_deposit\n",
    "#review_scores_accuracy\n",
    "#review_scores_rating\n",
    "m = smf.ols(formula = 'price ~ host_total_listings_count + accommodates + bedrooms + guests_included + room_type + bathrooms + cancellation_policy + reviews_per_month + number_of_reviews_ltm + calculated_host_listings_count + review_scores_checkin + instant_bookable + maximum_nights + host_is_superhost + security_deposit + review_scores_accuracy + review_scores_rating' , data = data, missing='drop').fit()\n",
    "m.rsquared_adj"
   ]
  },
  {
   "cell_type": "code",
   "execution_count": 23,
   "metadata": {},
   "outputs": [
    {
     "data": {
      "text/plain": [
       "0.5036063604679895"
      ]
     },
     "execution_count": 23,
     "metadata": {},
     "output_type": "execute_result"
    }
   ],
   "source": [
    "#host_total_listings_count\n",
    "#accommodates\n",
    "#bedrooms\n",
    "#guests_included\n",
    "#room_type\n",
    "#bathrooms\n",
    "#cancellation_policy\n",
    "#reviews_per_month\n",
    "#number_of_reviews_ltm\n",
    "#calculated_host_listings_count\n",
    "#review_scores_checkin\n",
    "#instant_bookable\n",
    "#maximum_nights\n",
    "#host_is_superhost\n",
    "#security_deposit\n",
    "#review_scores_accuracy\n",
    "#review_scores_rating\n",
    "#longitude\n",
    "m = smf.ols(formula = 'price ~ host_total_listings_count + accommodates + bedrooms + guests_included + room_type + bathrooms + cancellation_policy + reviews_per_month + number_of_reviews_ltm + calculated_host_listings_count + review_scores_checkin + instant_bookable + maximum_nights + host_is_superhost + security_deposit + review_scores_accuracy + review_scores_rating + longitude' , data = data, missing='drop').fit()\n",
    "m.rsquared_adj"
   ]
  },
  {
   "cell_type": "code",
   "execution_count": 24,
   "metadata": {},
   "outputs": [
    {
     "data": {
      "text/plain": [
       "0.5036057231997397"
      ]
     },
     "execution_count": 24,
     "metadata": {},
     "output_type": "execute_result"
    }
   ],
   "source": [
    "#host_total_listings_count\n",
    "#accommodates\n",
    "#bedrooms\n",
    "#guests_included\n",
    "#room_type\n",
    "#bathrooms\n",
    "#cancellation_policy\n",
    "#reviews_per_month\n",
    "#number_of_reviews_ltm\n",
    "#calculated_host_listings_count\n",
    "#review_scores_checkin\n",
    "#instant_bookable\n",
    "#maximum_nights\n",
    "#host_is_superhost\n",
    "#security_deposit\n",
    "#review_scores_accuracy\n",
    "#review_scores_rating\n",
    "#longitude\n",
    "#latitude\n",
    "m = smf.ols(formula = 'price ~ host_total_listings_count + accommodates + bedrooms + guests_included + room_type + bathrooms + cancellation_policy + reviews_per_month + number_of_reviews_ltm + calculated_host_listings_count + review_scores_checkin + instant_bookable + maximum_nights + host_is_superhost + security_deposit + review_scores_accuracy + review_scores_rating + longitude + latitude' , data = data, missing='drop').fit()\n",
    "m.rsquared_adj"
   ]
  },
  {
   "cell_type": "code",
   "execution_count": 25,
   "metadata": {},
   "outputs": [
    {
     "data": {
      "text/html": [
       "<table class=\"simpletable\">\n",
       "<caption>OLS Regression Results</caption>\n",
       "<tr>\n",
       "  <th>Dep. Variable:</th>          <td>price</td>      <th>  R-squared:         </th> <td>   0.510</td> \n",
       "</tr>\n",
       "<tr>\n",
       "  <th>Model:</th>                   <td>OLS</td>       <th>  Adj. R-squared:    </th> <td>   0.508</td> \n",
       "</tr>\n",
       "<tr>\n",
       "  <th>Method:</th>             <td>Least Squares</td>  <th>  F-statistic:       </th> <td>   230.2</td> \n",
       "</tr>\n",
       "<tr>\n",
       "  <th>Date:</th>             <td>Wed, 04 Dec 2019</td> <th>  Prob (F-statistic):</th>  <td>  0.00</td>  \n",
       "</tr>\n",
       "<tr>\n",
       "  <th>Time:</th>                 <td>17:37:03</td>     <th>  Log-Likelihood:    </th> <td> -29171.</td> \n",
       "</tr>\n",
       "<tr>\n",
       "  <th>No. Observations:</th>      <td>  4661</td>      <th>  AIC:               </th> <td>5.839e+04</td>\n",
       "</tr>\n",
       "<tr>\n",
       "  <th>Df Residuals:</th>          <td>  4639</td>      <th>  BIC:               </th> <td>5.853e+04</td>\n",
       "</tr>\n",
       "<tr>\n",
       "  <th>Df Model:</th>              <td>    21</td>      <th>                     </th>     <td> </td>    \n",
       "</tr>\n",
       "<tr>\n",
       "  <th>Covariance Type:</th>      <td>nonrobust</td>    <th>                     </th>     <td> </td>    \n",
       "</tr>\n",
       "</table>\n",
       "<table class=\"simpletable\">\n",
       "<tr>\n",
       "                 <td></td>                   <th>coef</th>     <th>std err</th>      <th>t</th>      <th>P>|t|</th>  <th>[0.025</th>    <th>0.975]</th>  \n",
       "</tr>\n",
       "<tr>\n",
       "  <th>Intercept</th>                      <td>-1.753e+04</td> <td> 7048.391</td> <td>   -2.487</td> <td> 0.013</td> <td>-3.14e+04</td> <td>-3714.122</td>\n",
       "</tr>\n",
       "<tr>\n",
       "  <th>room_type[T.Hotel room]</th>        <td>  153.6341</td> <td>   14.988</td> <td>   10.251</td> <td> 0.000</td> <td>  124.251</td> <td>  183.017</td>\n",
       "</tr>\n",
       "<tr>\n",
       "  <th>room_type[T.Private room]</th>      <td>  -45.7176</td> <td>    5.522</td> <td>   -8.280</td> <td> 0.000</td> <td>  -56.543</td> <td>  -34.893</td>\n",
       "</tr>\n",
       "<tr>\n",
       "  <th>room_type[T.Shared room]</th>       <td> -102.5247</td> <td>   19.771</td> <td>   -5.186</td> <td> 0.000</td> <td> -141.285</td> <td>  -63.764</td>\n",
       "</tr>\n",
       "<tr>\n",
       "  <th>host_total_listings_count</th>      <td>    0.3839</td> <td>    0.008</td> <td>   48.154</td> <td> 0.000</td> <td>    0.368</td> <td>    0.400</td>\n",
       "</tr>\n",
       "<tr>\n",
       "  <th>accommodates</th>                   <td>    6.5814</td> <td>    1.541</td> <td>    4.270</td> <td> 0.000</td> <td>    3.560</td> <td>    9.603</td>\n",
       "</tr>\n",
       "<tr>\n",
       "  <th>bedrooms</th>                       <td>   16.6199</td> <td>    3.418</td> <td>    4.863</td> <td> 0.000</td> <td>    9.919</td> <td>   23.320</td>\n",
       "</tr>\n",
       "<tr>\n",
       "  <th>guests_included</th>                <td>    8.2243</td> <td>    1.390</td> <td>    5.918</td> <td> 0.000</td> <td>    5.500</td> <td>   10.949</td>\n",
       "</tr>\n",
       "<tr>\n",
       "  <th>bathrooms</th>                      <td>   34.0934</td> <td>    4.171</td> <td>    8.174</td> <td> 0.000</td> <td>   25.916</td> <td>   42.270</td>\n",
       "</tr>\n",
       "<tr>\n",
       "  <th>cancellation_policy</th>            <td>   12.1788</td> <td>    1.782</td> <td>    6.834</td> <td> 0.000</td> <td>    8.685</td> <td>   15.672</td>\n",
       "</tr>\n",
       "<tr>\n",
       "  <th>reviews_per_month</th>              <td>   -6.2074</td> <td>    1.503</td> <td>   -4.131</td> <td> 0.000</td> <td>   -9.153</td> <td>   -3.262</td>\n",
       "</tr>\n",
       "<tr>\n",
       "  <th>number_of_reviews_ltm</th>          <td>    0.0060</td> <td>    0.137</td> <td>    0.044</td> <td> 0.965</td> <td>   -0.263</td> <td>    0.275</td>\n",
       "</tr>\n",
       "<tr>\n",
       "  <th>calculated_host_listings_count</th> <td>   -0.9208</td> <td>    0.037</td> <td>  -24.563</td> <td> 0.000</td> <td>   -0.994</td> <td>   -0.847</td>\n",
       "</tr>\n",
       "<tr>\n",
       "  <th>review_scores_checkin</th>          <td>   -9.3774</td> <td>    3.844</td> <td>   -2.439</td> <td> 0.015</td> <td>  -16.914</td> <td>   -1.841</td>\n",
       "</tr>\n",
       "<tr>\n",
       "  <th>instant_bookable</th>               <td>   24.9032</td> <td>    4.116</td> <td>    6.051</td> <td> 0.000</td> <td>   16.835</td> <td>   32.972</td>\n",
       "</tr>\n",
       "<tr>\n",
       "  <th>maximum_nights</th>                 <td>    0.0040</td> <td>    0.004</td> <td>    1.117</td> <td> 0.264</td> <td>   -0.003</td> <td>    0.011</td>\n",
       "</tr>\n",
       "<tr>\n",
       "  <th>host_is_superhost</th>              <td>  -13.5739</td> <td>    4.445</td> <td>   -3.054</td> <td> 0.002</td> <td>  -22.287</td> <td>   -4.860</td>\n",
       "</tr>\n",
       "<tr>\n",
       "  <th>security_deposit</th>               <td>    0.0142</td> <td>    0.005</td> <td>    2.681</td> <td> 0.007</td> <td>    0.004</td> <td>    0.025</td>\n",
       "</tr>\n",
       "<tr>\n",
       "  <th>review_scores_accuracy</th>         <td>   -6.8064</td> <td>    3.801</td> <td>   -1.791</td> <td> 0.073</td> <td>  -14.258</td> <td>    0.645</td>\n",
       "</tr>\n",
       "<tr>\n",
       "  <th>review_scores_rating</th>           <td>    0.6714</td> <td>    0.450</td> <td>    1.492</td> <td> 0.136</td> <td>   -0.211</td> <td>    1.554</td>\n",
       "</tr>\n",
       "<tr>\n",
       "  <th>longitude</th>                      <td> -144.3902</td> <td>   57.623</td> <td>   -2.506</td> <td> 0.012</td> <td> -257.359</td> <td>  -31.422</td>\n",
       "</tr>\n",
       "<tr>\n",
       "  <th>host_response_time</th>             <td>    0.6279</td> <td>    4.125</td> <td>    0.152</td> <td> 0.879</td> <td>   -7.460</td> <td>    8.716</td>\n",
       "</tr>\n",
       "</table>\n",
       "<table class=\"simpletable\">\n",
       "<tr>\n",
       "  <th>Omnibus:</th>       <td>8756.797</td> <th>  Durbin-Watson:     </th>   <td>   1.725</td>  \n",
       "</tr>\n",
       "<tr>\n",
       "  <th>Prob(Omnibus):</th>  <td> 0.000</td>  <th>  Jarque-Bera (JB):  </th> <td>47705155.022</td>\n",
       "</tr>\n",
       "<tr>\n",
       "  <th>Skew:</th>           <td>13.611</td>  <th>  Prob(JB):          </th>   <td>    0.00</td>  \n",
       "</tr>\n",
       "<tr>\n",
       "  <th>Kurtosis:</th>       <td>497.872</td> <th>  Cond. No.          </th>   <td>3.21e+06</td>  \n",
       "</tr>\n",
       "</table><br/><br/>Warnings:<br/>[1] Standard Errors assume that the covariance matrix of the errors is correctly specified.<br/>[2] The condition number is large, 3.21e+06. This might indicate that there are<br/>strong multicollinearity or other numerical problems."
      ],
      "text/plain": [
       "<class 'statsmodels.iolib.summary.Summary'>\n",
       "\"\"\"\n",
       "                            OLS Regression Results                            \n",
       "==============================================================================\n",
       "Dep. Variable:                  price   R-squared:                       0.510\n",
       "Model:                            OLS   Adj. R-squared:                  0.508\n",
       "Method:                 Least Squares   F-statistic:                     230.2\n",
       "Date:                Wed, 04 Dec 2019   Prob (F-statistic):               0.00\n",
       "Time:                        17:37:03   Log-Likelihood:                -29171.\n",
       "No. Observations:                4661   AIC:                         5.839e+04\n",
       "Df Residuals:                    4639   BIC:                         5.853e+04\n",
       "Df Model:                          21                                         \n",
       "Covariance Type:            nonrobust                                         \n",
       "==================================================================================================\n",
       "                                     coef    std err          t      P>|t|      [0.025      0.975]\n",
       "--------------------------------------------------------------------------------------------------\n",
       "Intercept                      -1.753e+04   7048.391     -2.487      0.013   -3.14e+04   -3714.122\n",
       "room_type[T.Hotel room]          153.6341     14.988     10.251      0.000     124.251     183.017\n",
       "room_type[T.Private room]        -45.7176      5.522     -8.280      0.000     -56.543     -34.893\n",
       "room_type[T.Shared room]        -102.5247     19.771     -5.186      0.000    -141.285     -63.764\n",
       "host_total_listings_count          0.3839      0.008     48.154      0.000       0.368       0.400\n",
       "accommodates                       6.5814      1.541      4.270      0.000       3.560       9.603\n",
       "bedrooms                          16.6199      3.418      4.863      0.000       9.919      23.320\n",
       "guests_included                    8.2243      1.390      5.918      0.000       5.500      10.949\n",
       "bathrooms                         34.0934      4.171      8.174      0.000      25.916      42.270\n",
       "cancellation_policy               12.1788      1.782      6.834      0.000       8.685      15.672\n",
       "reviews_per_month                 -6.2074      1.503     -4.131      0.000      -9.153      -3.262\n",
       "number_of_reviews_ltm              0.0060      0.137      0.044      0.965      -0.263       0.275\n",
       "calculated_host_listings_count    -0.9208      0.037    -24.563      0.000      -0.994      -0.847\n",
       "review_scores_checkin             -9.3774      3.844     -2.439      0.015     -16.914      -1.841\n",
       "instant_bookable                  24.9032      4.116      6.051      0.000      16.835      32.972\n",
       "maximum_nights                     0.0040      0.004      1.117      0.264      -0.003       0.011\n",
       "host_is_superhost                -13.5739      4.445     -3.054      0.002     -22.287      -4.860\n",
       "security_deposit                   0.0142      0.005      2.681      0.007       0.004       0.025\n",
       "review_scores_accuracy            -6.8064      3.801     -1.791      0.073     -14.258       0.645\n",
       "review_scores_rating               0.6714      0.450      1.492      0.136      -0.211       1.554\n",
       "longitude                       -144.3902     57.623     -2.506      0.012    -257.359     -31.422\n",
       "host_response_time                 0.6279      4.125      0.152      0.879      -7.460       8.716\n",
       "==============================================================================\n",
       "Omnibus:                     8756.797   Durbin-Watson:                   1.725\n",
       "Prob(Omnibus):                  0.000   Jarque-Bera (JB):         47705155.022\n",
       "Skew:                          13.611   Prob(JB):                         0.00\n",
       "Kurtosis:                     497.872   Cond. No.                     3.21e+06\n",
       "==============================================================================\n",
       "\n",
       "Warnings:\n",
       "[1] Standard Errors assume that the covariance matrix of the errors is correctly specified.\n",
       "[2] The condition number is large, 3.21e+06. This might indicate that there are\n",
       "strong multicollinearity or other numerical problems.\n",
       "\"\"\""
      ]
     },
     "execution_count": 25,
     "metadata": {},
     "output_type": "execute_result"
    }
   ],
   "source": [
    "#host_total_listings_count\n",
    "#accommodates\n",
    "#bedrooms\n",
    "#guests_included\n",
    "#room_type\n",
    "#bathrooms\n",
    "#cancellation_policy\n",
    "#reviews_per_month\n",
    "#number_of_reviews_ltm\n",
    "#calculated_host_listings_count\n",
    "#review_scores_checkin\n",
    "#instant_bookable\n",
    "#maximum_nights\n",
    "#host_is_superhost\n",
    "#security_deposit\n",
    "#review_scores_accuracy\n",
    "#review_scores_rating\n",
    "#longitude\n",
    "#host_response_time\n",
    "m = smf.ols(formula = 'price ~ host_total_listings_count + accommodates + bedrooms + guests_included + room_type + bathrooms + cancellation_policy + reviews_per_month + number_of_reviews_ltm + calculated_host_listings_count + review_scores_checkin + instant_bookable + maximum_nights + host_is_superhost + security_deposit + review_scores_accuracy + review_scores_rating + longitude + host_response_time' , data = data, missing='drop').fit()\n",
    "m.rsquared_adj"
   ]
  },
  {
   "cell_type": "code",
   "execution_count": 26,
   "metadata": {},
   "outputs": [
    {
     "data": {
      "text/plain": [
       "0.5085925839325065"
      ]
     },
     "execution_count": 26,
     "metadata": {},
     "output_type": "execute_result"
    }
   ],
   "source": [
    "#host_total_listings_count\n",
    "#accommodates\n",
    "#bedrooms\n",
    "#guests_included\n",
    "#room_type\n",
    "#bathrooms\n",
    "#cancellation_policy\n",
    "#reviews_per_month\n",
    "#number_of_reviews_ltm\n",
    "#calculated_host_listings_count\n",
    "#review_scores_checkin\n",
    "#instant_bookable\n",
    "#maximum_nights\n",
    "#host_is_superhost\n",
    "#security_deposit\n",
    "#review_scores_accuracy\n",
    "#review_scores_rating\n",
    "#longitude\n",
    "#host_response_time\n",
    "#review_scores_cleanliness\n",
    "m = smf.ols(formula = 'price ~ host_total_listings_count + accommodates + bedrooms + guests_included + room_type + bathrooms + cancellation_policy + reviews_per_month + number_of_reviews_ltm + calculated_host_listings_count + review_scores_checkin + instant_bookable + maximum_nights + host_is_superhost + security_deposit + review_scores_accuracy + review_scores_rating + longitude + host_response_time + review_scores_cleanliness' , data = data, missing='drop').fit()\n",
    "m.rsquared_adj"
   ]
  },
  {
   "cell_type": "code",
   "execution_count": 27,
   "metadata": {},
   "outputs": [
    {
     "data": {
      "text/plain": [
       "0.5149935068916318"
      ]
     },
     "execution_count": 27,
     "metadata": {},
     "output_type": "execute_result"
    }
   ],
   "source": [
    "#host_total_listings_count\n",
    "#accommodates\n",
    "#bedrooms\n",
    "#guests_included\n",
    "#room_type\n",
    "#bathrooms\n",
    "#cancellation_policy\n",
    "#reviews_per_month\n",
    "#number_of_reviews_ltm\n",
    "#calculated_host_listings_count\n",
    "#review_scores_checkin\n",
    "#instant_bookable\n",
    "#maximum_nights\n",
    "#host_is_superhost\n",
    "#security_deposit\n",
    "#review_scores_accuracy\n",
    "#review_scores_rating\n",
    "#longitude\n",
    "#host_response_time\n",
    "#review_scores_cleanliness\n",
    "#minimum_nights\n",
    "m = smf.ols(formula = 'price ~ host_total_listings_count + accommodates + bedrooms + guests_included + room_type + bathrooms + cancellation_policy + reviews_per_month + number_of_reviews_ltm + calculated_host_listings_count + review_scores_checkin + instant_bookable + maximum_nights + host_is_superhost + security_deposit + review_scores_accuracy + review_scores_rating + longitude + host_response_time + review_scores_cleanliness + minimum_nights' , data = data, missing='drop').fit()\n",
    "m.rsquared_adj"
   ]
  },
  {
   "cell_type": "code",
   "execution_count": 28,
   "metadata": {
    "scrolled": false
   },
   "outputs": [
    {
     "data": {
      "text/plain": [
       "0.5148899671908214"
      ]
     },
     "execution_count": 28,
     "metadata": {},
     "output_type": "execute_result"
    }
   ],
   "source": [
    "#host_total_listings_count\n",
    "#accommodates\n",
    "#bedrooms\n",
    "#guests_included\n",
    "#room_type\n",
    "#bathrooms\n",
    "#cancellation_policy\n",
    "#reviews_per_month\n",
    "#number_of_reviews_ltm\n",
    "#calculated_host_listings_count\n",
    "#review_scores_checkin\n",
    "#instant_bookable\n",
    "#maximum_nights\n",
    "#host_is_superhost\n",
    "#security_deposit\n",
    "#review_scores_accuracy\n",
    "#review_scores_rating\n",
    "#longitude\n",
    "#host_response_time\n",
    "#review_scores_cleanliness\n",
    "#minimum_nights\n",
    "#extra_people\n",
    "m = smf.ols(formula = 'price ~ host_total_listings_count + accommodates + bedrooms + guests_included + room_type + bathrooms + cancellation_policy + reviews_per_month + number_of_reviews_ltm + calculated_host_listings_count + review_scores_checkin + instant_bookable + maximum_nights + host_is_superhost + security_deposit + review_scores_accuracy + review_scores_rating + longitude + host_response_time + review_scores_cleanliness + minimum_nights + extra_people' , data = data, missing='drop').fit()\n",
    "m.rsquared_adj"
   ]
  },
  {
   "cell_type": "code",
   "execution_count": 29,
   "metadata": {},
   "outputs": [
    {
     "data": {
      "text/html": [
       "<table class=\"simpletable\">\n",
       "<caption>OLS Regression Results</caption>\n",
       "<tr>\n",
       "  <th>Dep. Variable:</th>          <td>price</td>      <th>  R-squared:         </th> <td>   0.392</td> \n",
       "</tr>\n",
       "<tr>\n",
       "  <th>Model:</th>                   <td>OLS</td>       <th>  Adj. R-squared:    </th> <td>   0.392</td> \n",
       "</tr>\n",
       "<tr>\n",
       "  <th>Method:</th>             <td>Least Squares</td>  <th>  F-statistic:       </th> <td>   1386.</td> \n",
       "</tr>\n",
       "<tr>\n",
       "  <th>Date:</th>             <td>Wed, 04 Dec 2019</td> <th>  Prob (F-statistic):</th>  <td>  0.00</td>  \n",
       "</tr>\n",
       "<tr>\n",
       "  <th>Time:</th>                 <td>17:37:03</td>     <th>  Log-Likelihood:    </th> <td> -40612.</td> \n",
       "</tr>\n",
       "<tr>\n",
       "  <th>No. Observations:</th>      <td>  6452</td>      <th>  AIC:               </th> <td>8.123e+04</td>\n",
       "</tr>\n",
       "<tr>\n",
       "  <th>Df Residuals:</th>          <td>  6448</td>      <th>  BIC:               </th> <td>8.126e+04</td>\n",
       "</tr>\n",
       "<tr>\n",
       "  <th>Df Model:</th>              <td>     3</td>      <th>                     </th>     <td> </td>    \n",
       "</tr>\n",
       "<tr>\n",
       "  <th>Covariance Type:</th>      <td>nonrobust</td>    <th>                     </th>     <td> </td>    \n",
       "</tr>\n",
       "</table>\n",
       "<table class=\"simpletable\">\n",
       "<tr>\n",
       "              <td></td>                 <th>coef</th>     <th>std err</th>      <th>t</th>      <th>P>|t|</th>  <th>[0.025</th>    <th>0.975]</th>  \n",
       "</tr>\n",
       "<tr>\n",
       "  <th>Intercept</th>                 <td>   54.5517</td> <td>    3.612</td> <td>   15.102</td> <td> 0.000</td> <td>   47.471</td> <td>   61.633</td>\n",
       "</tr>\n",
       "<tr>\n",
       "  <th>host_total_listings_count</th> <td>    0.2805</td> <td>    0.006</td> <td>   48.600</td> <td> 0.000</td> <td>    0.269</td> <td>    0.292</td>\n",
       "</tr>\n",
       "<tr>\n",
       "  <th>accommodates</th>              <td>   27.3490</td> <td>    0.703</td> <td>   38.879</td> <td> 0.000</td> <td>   25.970</td> <td>   28.728</td>\n",
       "</tr>\n",
       "<tr>\n",
       "  <th>reviews_per_month</th>         <td>   -6.7063</td> <td>    0.721</td> <td>   -9.297</td> <td> 0.000</td> <td>   -8.120</td> <td>   -5.292</td>\n",
       "</tr>\n",
       "</table>\n",
       "<table class=\"simpletable\">\n",
       "<tr>\n",
       "  <th>Omnibus:</th>       <td>11034.065</td> <th>  Durbin-Watson:     </th>   <td>   1.607</td>  \n",
       "</tr>\n",
       "<tr>\n",
       "  <th>Prob(Omnibus):</th>  <td> 0.000</td>   <th>  Jarque-Bera (JB):  </th> <td>33579014.987</td>\n",
       "</tr>\n",
       "<tr>\n",
       "  <th>Skew:</th>           <td>11.254</td>   <th>  Prob(JB):          </th>   <td>    0.00</td>  \n",
       "</tr>\n",
       "<tr>\n",
       "  <th>Kurtosis:</th>       <td>355.704</td>  <th>  Cond. No.          </th>   <td>    669.</td>  \n",
       "</tr>\n",
       "</table><br/><br/>Warnings:<br/>[1] Standard Errors assume that the covariance matrix of the errors is correctly specified."
      ],
      "text/plain": [
       "<class 'statsmodels.iolib.summary.Summary'>\n",
       "\"\"\"\n",
       "                            OLS Regression Results                            \n",
       "==============================================================================\n",
       "Dep. Variable:                  price   R-squared:                       0.392\n",
       "Model:                            OLS   Adj. R-squared:                  0.392\n",
       "Method:                 Least Squares   F-statistic:                     1386.\n",
       "Date:                Wed, 04 Dec 2019   Prob (F-statistic):               0.00\n",
       "Time:                        17:37:03   Log-Likelihood:                -40612.\n",
       "No. Observations:                6452   AIC:                         8.123e+04\n",
       "Df Residuals:                    6448   BIC:                         8.126e+04\n",
       "Df Model:                           3                                         \n",
       "Covariance Type:            nonrobust                                         \n",
       "=============================================================================================\n",
       "                                coef    std err          t      P>|t|      [0.025      0.975]\n",
       "---------------------------------------------------------------------------------------------\n",
       "Intercept                    54.5517      3.612     15.102      0.000      47.471      61.633\n",
       "host_total_listings_count     0.2805      0.006     48.600      0.000       0.269       0.292\n",
       "accommodates                 27.3490      0.703     38.879      0.000      25.970      28.728\n",
       "reviews_per_month            -6.7063      0.721     -9.297      0.000      -8.120      -5.292\n",
       "==============================================================================\n",
       "Omnibus:                    11034.065   Durbin-Watson:                   1.607\n",
       "Prob(Omnibus):                  0.000   Jarque-Bera (JB):         33579014.987\n",
       "Skew:                          11.254   Prob(JB):                         0.00\n",
       "Kurtosis:                     355.704   Cond. No.                         669.\n",
       "==============================================================================\n",
       "\n",
       "Warnings:\n",
       "[1] Standard Errors assume that the covariance matrix of the errors is correctly specified.\n",
       "\"\"\""
      ]
     },
     "execution_count": 29,
     "metadata": {},
     "output_type": "execute_result"
    }
   ],
   "source": [
    "#The three biggest contributors to adj r^2\n",
    "\n",
    "#host_total_listings_count\n",
    "#accommodates\n",
    "#reviews_per_month\n",
    "m = smf.ols(formula = 'price ~ host_total_listings_count + accommodates + reviews_per_month', data = data, missing='drop').fit()\n",
    "m.summary()"
   ]
  },
  {
   "cell_type": "code",
   "execution_count": 30,
   "metadata": {
    "scrolled": false
   },
   "outputs": [
    {
     "data": {
      "text/html": [
       "<table class=\"simpletable\">\n",
       "<caption>OLS Regression Results</caption>\n",
       "<tr>\n",
       "  <th>Dep. Variable:</th>          <td>price</td>      <th>  R-squared:         </th> <td>   0.517</td> \n",
       "</tr>\n",
       "<tr>\n",
       "  <th>Model:</th>                   <td>OLS</td>       <th>  Adj. R-squared:    </th> <td>   0.515</td> \n",
       "</tr>\n",
       "<tr>\n",
       "  <th>Method:</th>             <td>Least Squares</td>  <th>  F-statistic:       </th> <td>   216.1</td> \n",
       "</tr>\n",
       "<tr>\n",
       "  <th>Date:</th>             <td>Wed, 04 Dec 2019</td> <th>  Prob (F-statistic):</th>  <td>  0.00</td>  \n",
       "</tr>\n",
       "<tr>\n",
       "  <th>Time:</th>                 <td>17:37:03</td>     <th>  Log-Likelihood:    </th> <td> -29137.</td> \n",
       "</tr>\n",
       "<tr>\n",
       "  <th>No. Observations:</th>      <td>  4661</td>      <th>  AIC:               </th> <td>5.832e+04</td>\n",
       "</tr>\n",
       "<tr>\n",
       "  <th>Df Residuals:</th>          <td>  4637</td>      <th>  BIC:               </th> <td>5.848e+04</td>\n",
       "</tr>\n",
       "<tr>\n",
       "  <th>Df Model:</th>              <td>    23</td>      <th>                     </th>     <td> </td>    \n",
       "</tr>\n",
       "<tr>\n",
       "  <th>Covariance Type:</th>      <td>nonrobust</td>    <th>                     </th>     <td> </td>    \n",
       "</tr>\n",
       "</table>\n",
       "<table class=\"simpletable\">\n",
       "<tr>\n",
       "                 <td></td>                   <th>coef</th>     <th>std err</th>      <th>t</th>      <th>P>|t|</th>  <th>[0.025</th>    <th>0.975]</th>  \n",
       "</tr>\n",
       "<tr>\n",
       "  <th>Intercept</th>                      <td>-1.674e+04</td> <td> 6999.731</td> <td>   -2.392</td> <td> 0.017</td> <td>-3.05e+04</td> <td>-3020.346</td>\n",
       "</tr>\n",
       "<tr>\n",
       "  <th>room_type[T.Hotel room]</th>        <td>  152.7379</td> <td>   14.900</td> <td>   10.251</td> <td> 0.000</td> <td>  123.528</td> <td>  181.948</td>\n",
       "</tr>\n",
       "<tr>\n",
       "  <th>room_type[T.Private room]</th>      <td>  -47.4736</td> <td>    5.505</td> <td>   -8.623</td> <td> 0.000</td> <td>  -58.267</td> <td>  -36.681</td>\n",
       "</tr>\n",
       "<tr>\n",
       "  <th>room_type[T.Shared room]</th>       <td> -105.9270</td> <td>   19.922</td> <td>   -5.317</td> <td> 0.000</td> <td> -144.983</td> <td>  -66.871</td>\n",
       "</tr>\n",
       "<tr>\n",
       "  <th>host_total_listings_count</th>      <td>    0.3857</td> <td>    0.008</td> <td>   48.629</td> <td> 0.000</td> <td>    0.370</td> <td>    0.401</td>\n",
       "</tr>\n",
       "<tr>\n",
       "  <th>accommodates</th>                   <td>    5.7623</td> <td>    1.534</td> <td>    3.755</td> <td> 0.000</td> <td>    2.754</td> <td>    8.770</td>\n",
       "</tr>\n",
       "<tr>\n",
       "  <th>bedrooms</th>                       <td>   17.2367</td> <td>    3.395</td> <td>    5.078</td> <td> 0.000</td> <td>   10.582</td> <td>   23.892</td>\n",
       "</tr>\n",
       "<tr>\n",
       "  <th>guests_included</th>                <td>    8.1325</td> <td>    1.380</td> <td>    5.893</td> <td> 0.000</td> <td>    5.427</td> <td>   10.838</td>\n",
       "</tr>\n",
       "<tr>\n",
       "  <th>bathrooms</th>                      <td>   34.8385</td> <td>    4.146</td> <td>    8.402</td> <td> 0.000</td> <td>   26.709</td> <td>   42.968</td>\n",
       "</tr>\n",
       "<tr>\n",
       "  <th>cancellation_policy</th>            <td>   12.5103</td> <td>    1.770</td> <td>    7.066</td> <td> 0.000</td> <td>    9.039</td> <td>   15.981</td>\n",
       "</tr>\n",
       "<tr>\n",
       "  <th>reviews_per_month</th>              <td>   -6.9449</td> <td>    1.496</td> <td>   -4.644</td> <td> 0.000</td> <td>   -9.877</td> <td>   -4.013</td>\n",
       "</tr>\n",
       "<tr>\n",
       "  <th>number_of_reviews_ltm</th>          <td>   -0.0180</td> <td>    0.137</td> <td>   -0.132</td> <td> 0.895</td> <td>   -0.286</td> <td>    0.250</td>\n",
       "</tr>\n",
       "<tr>\n",
       "  <th>calculated_host_listings_count</th> <td>   -0.9284</td> <td>    0.037</td> <td>  -24.889</td> <td> 0.000</td> <td>   -1.002</td> <td>   -0.855</td>\n",
       "</tr>\n",
       "<tr>\n",
       "  <th>review_scores_checkin</th>          <td>   -9.0118</td> <td>    3.818</td> <td>   -2.360</td> <td> 0.018</td> <td>  -16.497</td> <td>   -1.526</td>\n",
       "</tr>\n",
       "<tr>\n",
       "  <th>instant_bookable</th>               <td>   22.5643</td> <td>    4.097</td> <td>    5.507</td> <td> 0.000</td> <td>   14.532</td> <td>   30.597</td>\n",
       "</tr>\n",
       "<tr>\n",
       "  <th>maximum_nights</th>                 <td>    0.0051</td> <td>    0.004</td> <td>    1.420</td> <td> 0.156</td> <td>   -0.002</td> <td>    0.012</td>\n",
       "</tr>\n",
       "<tr>\n",
       "  <th>host_is_superhost</th>              <td>  -13.2231</td> <td>    4.469</td> <td>   -2.959</td> <td> 0.003</td> <td>  -21.985</td> <td>   -4.461</td>\n",
       "</tr>\n",
       "<tr>\n",
       "  <th>security_deposit</th>               <td>    0.0161</td> <td>    0.005</td> <td>    3.047</td> <td> 0.002</td> <td>    0.006</td> <td>    0.026</td>\n",
       "</tr>\n",
       "<tr>\n",
       "  <th>review_scores_accuracy</th>         <td>   -8.1914</td> <td>    3.804</td> <td>   -2.153</td> <td> 0.031</td> <td>  -15.650</td> <td>   -0.733</td>\n",
       "</tr>\n",
       "<tr>\n",
       "  <th>review_scores_rating</th>           <td>    0.4645</td> <td>    0.471</td> <td>    0.987</td> <td> 0.324</td> <td>   -0.458</td> <td>    1.387</td>\n",
       "</tr>\n",
       "<tr>\n",
       "  <th>longitude</th>                      <td> -137.7255</td> <td>   57.227</td> <td>   -2.407</td> <td> 0.016</td> <td> -249.917</td> <td>  -25.534</td>\n",
       "</tr>\n",
       "<tr>\n",
       "  <th>host_response_time</th>             <td>    3.5122</td> <td>    4.113</td> <td>    0.854</td> <td> 0.393</td> <td>   -4.551</td> <td>   11.575</td>\n",
       "</tr>\n",
       "<tr>\n",
       "  <th>review_scores_cleanliness</th>      <td>    6.7721</td> <td>    3.441</td> <td>    1.968</td> <td> 0.049</td> <td>    0.025</td> <td>   13.519</td>\n",
       "</tr>\n",
       "<tr>\n",
       "  <th>minimum_nights</th>                 <td>   -1.7244</td> <td>    0.219</td> <td>   -7.887</td> <td> 0.000</td> <td>   -2.153</td> <td>   -1.296</td>\n",
       "</tr>\n",
       "</table>\n",
       "<table class=\"simpletable\">\n",
       "<tr>\n",
       "  <th>Omnibus:</th>       <td>8841.867</td> <th>  Durbin-Watson:     </th>   <td>   1.729</td>  \n",
       "</tr>\n",
       "<tr>\n",
       "  <th>Prob(Omnibus):</th>  <td> 0.000</td>  <th>  Jarque-Bera (JB):  </th> <td>50060908.716</td>\n",
       "</tr>\n",
       "<tr>\n",
       "  <th>Skew:</th>           <td>13.908</td>  <th>  Prob(JB):          </th>   <td>    0.00</td>  \n",
       "</tr>\n",
       "<tr>\n",
       "  <th>Kurtosis:</th>       <td>509.947</td> <th>  Cond. No.          </th>   <td>3.21e+06</td>  \n",
       "</tr>\n",
       "</table><br/><br/>Warnings:<br/>[1] Standard Errors assume that the covariance matrix of the errors is correctly specified.<br/>[2] The condition number is large, 3.21e+06. This might indicate that there are<br/>strong multicollinearity or other numerical problems."
      ],
      "text/plain": [
       "<class 'statsmodels.iolib.summary.Summary'>\n",
       "\"\"\"\n",
       "                            OLS Regression Results                            \n",
       "==============================================================================\n",
       "Dep. Variable:                  price   R-squared:                       0.517\n",
       "Model:                            OLS   Adj. R-squared:                  0.515\n",
       "Method:                 Least Squares   F-statistic:                     216.1\n",
       "Date:                Wed, 04 Dec 2019   Prob (F-statistic):               0.00\n",
       "Time:                        17:37:03   Log-Likelihood:                -29137.\n",
       "No. Observations:                4661   AIC:                         5.832e+04\n",
       "Df Residuals:                    4637   BIC:                         5.848e+04\n",
       "Df Model:                          23                                         \n",
       "Covariance Type:            nonrobust                                         \n",
       "==================================================================================================\n",
       "                                     coef    std err          t      P>|t|      [0.025      0.975]\n",
       "--------------------------------------------------------------------------------------------------\n",
       "Intercept                      -1.674e+04   6999.731     -2.392      0.017   -3.05e+04   -3020.346\n",
       "room_type[T.Hotel room]          152.7379     14.900     10.251      0.000     123.528     181.948\n",
       "room_type[T.Private room]        -47.4736      5.505     -8.623      0.000     -58.267     -36.681\n",
       "room_type[T.Shared room]        -105.9270     19.922     -5.317      0.000    -144.983     -66.871\n",
       "host_total_listings_count          0.3857      0.008     48.629      0.000       0.370       0.401\n",
       "accommodates                       5.7623      1.534      3.755      0.000       2.754       8.770\n",
       "bedrooms                          17.2367      3.395      5.078      0.000      10.582      23.892\n",
       "guests_included                    8.1325      1.380      5.893      0.000       5.427      10.838\n",
       "bathrooms                         34.8385      4.146      8.402      0.000      26.709      42.968\n",
       "cancellation_policy               12.5103      1.770      7.066      0.000       9.039      15.981\n",
       "reviews_per_month                 -6.9449      1.496     -4.644      0.000      -9.877      -4.013\n",
       "number_of_reviews_ltm             -0.0180      0.137     -0.132      0.895      -0.286       0.250\n",
       "calculated_host_listings_count    -0.9284      0.037    -24.889      0.000      -1.002      -0.855\n",
       "review_scores_checkin             -9.0118      3.818     -2.360      0.018     -16.497      -1.526\n",
       "instant_bookable                  22.5643      4.097      5.507      0.000      14.532      30.597\n",
       "maximum_nights                     0.0051      0.004      1.420      0.156      -0.002       0.012\n",
       "host_is_superhost                -13.2231      4.469     -2.959      0.003     -21.985      -4.461\n",
       "security_deposit                   0.0161      0.005      3.047      0.002       0.006       0.026\n",
       "review_scores_accuracy            -8.1914      3.804     -2.153      0.031     -15.650      -0.733\n",
       "review_scores_rating               0.4645      0.471      0.987      0.324      -0.458       1.387\n",
       "longitude                       -137.7255     57.227     -2.407      0.016    -249.917     -25.534\n",
       "host_response_time                 3.5122      4.113      0.854      0.393      -4.551      11.575\n",
       "review_scores_cleanliness          6.7721      3.441      1.968      0.049       0.025      13.519\n",
       "minimum_nights                    -1.7244      0.219     -7.887      0.000      -2.153      -1.296\n",
       "==============================================================================\n",
       "Omnibus:                     8841.867   Durbin-Watson:                   1.729\n",
       "Prob(Omnibus):                  0.000   Jarque-Bera (JB):         50060908.716\n",
       "Skew:                          13.908   Prob(JB):                         0.00\n",
       "Kurtosis:                     509.947   Cond. No.                     3.21e+06\n",
       "==============================================================================\n",
       "\n",
       "Warnings:\n",
       "[1] Standard Errors assume that the covariance matrix of the errors is correctly specified.\n",
       "[2] The condition number is large, 3.21e+06. This might indicate that there are\n",
       "strong multicollinearity or other numerical problems.\n",
       "\"\"\""
      ]
     },
     "execution_count": 30,
     "metadata": {},
     "output_type": "execute_result"
    }
   ],
   "source": [
    "#The Comprehensive model\n",
    "\n",
    "m = smf.ols(formula = 'price ~ host_total_listings_count + accommodates + bedrooms + guests_included + room_type + bathrooms + cancellation_policy + reviews_per_month + number_of_reviews_ltm + calculated_host_listings_count + review_scores_checkin + instant_bookable + maximum_nights + host_is_superhost + security_deposit + review_scores_accuracy + review_scores_rating + longitude + host_response_time + review_scores_cleanliness + minimum_nights' , data = data, missing='drop').fit()\n",
    "m.summary()"
   ]
  },
  {
   "cell_type": "code",
   "execution_count": 31,
   "metadata": {
    "scrolled": true
   },
   "outputs": [
    {
     "data": {
      "text/html": [
       "<table class=\"simpletable\">\n",
       "<caption>OLS Regression Results</caption>\n",
       "<tr>\n",
       "  <th>Dep. Variable:</th>          <td>price</td>      <th>  R-squared:         </th> <td>   0.451</td> \n",
       "</tr>\n",
       "<tr>\n",
       "  <th>Model:</th>                   <td>OLS</td>       <th>  Adj. R-squared:    </th> <td>   0.450</td> \n",
       "</tr>\n",
       "<tr>\n",
       "  <th>Method:</th>             <td>Least Squares</td>  <th>  F-statistic:       </th> <td>   887.1</td> \n",
       "</tr>\n",
       "<tr>\n",
       "  <th>Date:</th>             <td>Wed, 04 Dec 2019</td> <th>  Prob (F-statistic):</th>  <td>  0.00</td>  \n",
       "</tr>\n",
       "<tr>\n",
       "  <th>Time:</th>                 <td>17:37:04</td>     <th>  Log-Likelihood:    </th> <td> -34001.</td> \n",
       "</tr>\n",
       "<tr>\n",
       "  <th>No. Observations:</th>      <td>  5416</td>      <th>  AIC:               </th> <td>6.801e+04</td>\n",
       "</tr>\n",
       "<tr>\n",
       "  <th>Df Residuals:</th>          <td>  5410</td>      <th>  BIC:               </th> <td>6.805e+04</td>\n",
       "</tr>\n",
       "<tr>\n",
       "  <th>Df Model:</th>              <td>     5</td>      <th>                     </th>     <td> </td>    \n",
       "</tr>\n",
       "<tr>\n",
       "  <th>Covariance Type:</th>      <td>nonrobust</td>    <th>                     </th>     <td> </td>    \n",
       "</tr>\n",
       "</table>\n",
       "<table class=\"simpletable\">\n",
       "<tr>\n",
       "                 <td></td>                   <th>coef</th>     <th>std err</th>      <th>t</th>      <th>P>|t|</th>  <th>[0.025</th>    <th>0.975]</th>  \n",
       "</tr>\n",
       "<tr>\n",
       "  <th>Intercept</th>                      <td>   69.4476</td> <td>    4.154</td> <td>   16.717</td> <td> 0.000</td> <td>   61.304</td> <td>   77.592</td>\n",
       "</tr>\n",
       "<tr>\n",
       "  <th>host_total_listings_count</th>      <td>    0.3891</td> <td>    0.008</td> <td>   49.910</td> <td> 0.000</td> <td>    0.374</td> <td>    0.404</td>\n",
       "</tr>\n",
       "<tr>\n",
       "  <th>accommodates</th>                   <td>   25.4091</td> <td>    0.757</td> <td>   33.570</td> <td> 0.000</td> <td>   23.925</td> <td>   26.893</td>\n",
       "</tr>\n",
       "<tr>\n",
       "  <th>reviews_per_month</th>              <td>   -8.5052</td> <td>    0.794</td> <td>  -10.717</td> <td> 0.000</td> <td>  -10.061</td> <td>   -6.949</td>\n",
       "</tr>\n",
       "<tr>\n",
       "  <th>calculated_host_listings_count</th> <td>   -0.7390</td> <td>    0.035</td> <td>  -21.404</td> <td> 0.000</td> <td>   -0.807</td> <td>   -0.671</td>\n",
       "</tr>\n",
       "<tr>\n",
       "  <th>security_deposit</th>               <td>    0.0283</td> <td>    0.005</td> <td>    5.939</td> <td> 0.000</td> <td>    0.019</td> <td>    0.038</td>\n",
       "</tr>\n",
       "</table>\n",
       "<table class=\"simpletable\">\n",
       "<tr>\n",
       "  <th>Omnibus:</th>       <td>9383.113</td> <th>  Durbin-Watson:     </th>   <td>   1.668</td>  \n",
       "</tr>\n",
       "<tr>\n",
       "  <th>Prob(Omnibus):</th>  <td> 0.000</td>  <th>  Jarque-Bera (JB):  </th> <td>34736045.474</td>\n",
       "</tr>\n",
       "<tr>\n",
       "  <th>Skew:</th>           <td>11.468</td>  <th>  Prob(JB):          </th>   <td>    0.00</td>  \n",
       "</tr>\n",
       "<tr>\n",
       "  <th>Kurtosis:</th>       <td>394.663</td> <th>  Cond. No.          </th>   <td>1.11e+03</td>  \n",
       "</tr>\n",
       "</table><br/><br/>Warnings:<br/>[1] Standard Errors assume that the covariance matrix of the errors is correctly specified.<br/>[2] The condition number is large, 1.11e+03. This might indicate that there are<br/>strong multicollinearity or other numerical problems."
      ],
      "text/plain": [
       "<class 'statsmodels.iolib.summary.Summary'>\n",
       "\"\"\"\n",
       "                            OLS Regression Results                            \n",
       "==============================================================================\n",
       "Dep. Variable:                  price   R-squared:                       0.451\n",
       "Model:                            OLS   Adj. R-squared:                  0.450\n",
       "Method:                 Least Squares   F-statistic:                     887.1\n",
       "Date:                Wed, 04 Dec 2019   Prob (F-statistic):               0.00\n",
       "Time:                        17:37:04   Log-Likelihood:                -34001.\n",
       "No. Observations:                5416   AIC:                         6.801e+04\n",
       "Df Residuals:                    5410   BIC:                         6.805e+04\n",
       "Df Model:                           5                                         \n",
       "Covariance Type:            nonrobust                                         \n",
       "==================================================================================================\n",
       "                                     coef    std err          t      P>|t|      [0.025      0.975]\n",
       "--------------------------------------------------------------------------------------------------\n",
       "Intercept                         69.4476      4.154     16.717      0.000      61.304      77.592\n",
       "host_total_listings_count          0.3891      0.008     49.910      0.000       0.374       0.404\n",
       "accommodates                      25.4091      0.757     33.570      0.000      23.925      26.893\n",
       "reviews_per_month                 -8.5052      0.794    -10.717      0.000     -10.061      -6.949\n",
       "calculated_host_listings_count    -0.7390      0.035    -21.404      0.000      -0.807      -0.671\n",
       "security_deposit                   0.0283      0.005      5.939      0.000       0.019       0.038\n",
       "==============================================================================\n",
       "Omnibus:                     9383.113   Durbin-Watson:                   1.668\n",
       "Prob(Omnibus):                  0.000   Jarque-Bera (JB):         34736045.474\n",
       "Skew:                          11.468   Prob(JB):                         0.00\n",
       "Kurtosis:                     394.663   Cond. No.                     1.11e+03\n",
       "==============================================================================\n",
       "\n",
       "Warnings:\n",
       "[1] Standard Errors assume that the covariance matrix of the errors is correctly specified.\n",
       "[2] The condition number is large, 1.11e+03. This might indicate that there are\n",
       "strong multicollinearity or other numerical problems.\n",
       "\"\"\""
      ]
     },
     "execution_count": 31,
     "metadata": {},
     "output_type": "execute_result"
    }
   ],
   "source": [
    "#The model that is somewhere in between\n",
    "\n",
    "#host_total_listings_count\n",
    "#accommodates\n",
    "#reviews_per_month\n",
    "#calculated_host_listings_count\n",
    "#security deposit\n",
    "m = smf.ols(formula = 'price ~ host_total_listings_count + accommodates + reviews_per_month + calculated_host_listings_count + security_deposit', data = data, missing='drop').fit()\n",
    "m.summary()"
   ]
  }
 ],
 "metadata": {
  "kernelspec": {
   "display_name": "Python 3",
   "language": "python",
   "name": "python3"
  },
  "language_info": {
   "codemirror_mode": {
    "name": "ipython",
    "version": 3
   },
   "file_extension": ".py",
   "mimetype": "text/x-python",
   "name": "python",
   "nbconvert_exporter": "python",
   "pygments_lexer": "ipython3",
   "version": "3.7.4"
  }
 },
 "nbformat": 4,
 "nbformat_minor": 2
}
