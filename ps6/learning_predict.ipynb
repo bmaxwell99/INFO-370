{
 "cells": [
  {
   "cell_type": "code",
   "execution_count": 1,
   "metadata": {},
   "outputs": [],
   "source": [
    "%run initial_data_cleaning.ipynb\n",
    "\n",
    "import matplotlib.pyplot as plt\n",
    "import statsmodels.formula.api as smf\n",
    "import statsmodels.tools.eval_measures as ste\n",
    "import sklearn.linear_model as slm"
   ]
  },
  {
   "cell_type": "code",
   "execution_count": 2,
   "metadata": {},
   "outputs": [],
   "source": [
    "data = full_data[full_data['train_test'] == 'train']\n",
    "test_data = full_data[full_data['train_test'] == 'test']"
   ]
  },
  {
   "cell_type": "code",
   "execution_count": 3,
   "metadata": {},
   "outputs": [
    {
     "data": {
      "text/plain": [
       "169.8720781395021"
      ]
     },
     "execution_count": 3,
     "metadata": {},
     "output_type": "execute_result"
    }
   ],
   "source": [
    "#seperates the NA data\n",
    "train = data[['price', 'host_total_listings_count', 'accommodates', 'reviews_per_month']].dropna()\n",
    "test = test_data[['price', 'host_total_listings_count', 'accommodates', 'reviews_per_month']].dropna()\n",
    "\n",
    "#preps input and output for sklearn\n",
    "X_train = np.stack((train.host_total_listings_count, train.accommodates, train.reviews_per_month ),axis = 1)\n",
    "Y_train = train.price\n",
    "\n",
    "#constructs the training model\n",
    "m = slm.LinearRegression().fit(X_train, Y_train)\n",
    "\n",
    "#preps the input and output for the validation and rmse \n",
    "X_test = np.stack((test.host_total_listings_count, test.accommodates, test.reviews_per_month ),axis = 1)\n",
    "Y_test = test.price\n",
    "\n",
    "#calculates RMSE\n",
    "yhat = m.predict(X_test)\n",
    "rmse = np.sqrt(np.mean((yhat - Y_test)**2))\n",
    "rmse"
   ]
  },
  {
   "cell_type": "code",
   "execution_count": 4,
   "metadata": {},
   "outputs": [
    {
     "data": {
      "text/plain": [
       "192.95469587357871"
      ]
     },
     "execution_count": 4,
     "metadata": {},
     "output_type": "execute_result"
    }
   ],
   "source": [
    "#repeats the above process with every input that increased the adjusted r^2\n",
    "\n",
    "#seperates the NA data\n",
    "train = data[['price', 'accommodates' ,'bedrooms', 'host_total_listings_count', 'guests_included' ,'room_type', 'bathrooms', 'cancellation_policy', 'reviews_per_month', 'number_of_reviews_ltm', 'calculated_host_listings_count', 'review_scores_checkin', 'instant_bookable', 'maximum_nights', 'host_is_superhost', 'security_deposit', 'review_scores_accuracy', 'review_scores_rating', 'longitude', 'host_response_time', 'review_scores_cleanliness', 'minimum_nights']].dropna()\n",
    "test = test_data[['price', 'accommodates' ,'bedrooms', 'host_total_listings_count', 'guests_included' ,'room_type', 'bathrooms', 'cancellation_policy', 'reviews_per_month', 'number_of_reviews_ltm', 'calculated_host_listings_count', 'review_scores_checkin', 'instant_bookable', 'maximum_nights', 'host_is_superhost', 'security_deposit', 'review_scores_accuracy', 'review_scores_rating', 'longitude', 'host_response_time', 'review_scores_cleanliness', 'minimum_nights']].dropna()\n",
    "\n",
    "#preps input and output for sklearn\n",
    "X_train = np.stack((train.host_total_listings_count, train.accommodates, train.reviews_per_month ),axis = 1)\n",
    "Y_train = train.price\n",
    "\n",
    "#constructs the training model\n",
    "m = slm.LinearRegression().fit(X_train, Y_train)\n",
    "\n",
    "#preps the input and output for the validation and rmse \n",
    "X_test = np.stack((test.host_total_listings_count, test.accommodates, test.reviews_per_month ),axis = 1)\n",
    "Y_test = test.price\n",
    "\n",
    "#calculates RMSE\n",
    "yhat = m.predict(X_test)\n",
    "rmse = np.sqrt(np.mean((yhat - Y_test)**2))\n",
    "rmse"
   ]
  },
  {
   "cell_type": "code",
   "execution_count": 5,
   "metadata": {},
   "outputs": [
    {
     "data": {
      "text/plain": [
       "182.2919135459709"
      ]
     },
     "execution_count": 5,
     "metadata": {},
     "output_type": "execute_result"
    }
   ],
   "source": [
    "#repeats the process with a 5 variable model, using the 5 inputs that increased the adj r^2 by the most\n",
    "\n",
    "#seperates the NA data\n",
    "train = data[['price', 'host_total_listings_count', 'accommodates', 'reviews_per_month', 'calculated_host_listings_count' ,'security_deposit']].dropna()\n",
    "test = test_data[['price', 'host_total_listings_count', 'accommodates', 'reviews_per_month', 'calculated_host_listings_count' ,'security_deposit']].dropna()\n",
    "\n",
    "#preps input and output for sklearn\n",
    "X_train = np.stack((train.host_total_listings_count, train.accommodates, train.reviews_per_month ),axis = 1)\n",
    "Y_train = train.price\n",
    "\n",
    "#constructs the training model\n",
    "m = slm.LinearRegression().fit(X_train, Y_train)\n",
    "\n",
    "#preps the input and output for the validation and rmse \n",
    "X_test = np.stack((test.host_total_listings_count, test.accommodates, test.reviews_per_month ),axis = 1)\n",
    "Y_test = test.price\n",
    "\n",
    "#calculates RMSE\n",
    "yhat = m.predict(X_test)\n",
    "rmse = np.sqrt(np.mean((yhat - Y_test)**2))\n",
    "rmse"
   ]
  }
 ],
 "metadata": {
  "kernelspec": {
   "display_name": "Python 3",
   "language": "python",
   "name": "python3"
  },
  "language_info": {
   "codemirror_mode": {
    "name": "ipython",
    "version": 3
   },
   "file_extension": ".py",
   "mimetype": "text/x-python",
   "name": "python",
   "nbconvert_exporter": "python",
   "pygments_lexer": "ipython3",
   "version": "3.7.4"
  }
 },
 "nbformat": 4,
 "nbformat_minor": 2
}
