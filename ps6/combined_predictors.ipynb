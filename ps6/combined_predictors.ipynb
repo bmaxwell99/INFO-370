{
 "cells": [
  {
   "cell_type": "code",
   "execution_count": 1,
   "metadata": {},
   "outputs": [],
   "source": [
    "%run initial_data_cleaning.ipynb\n",
    "\n",
    "import matplotlib.pyplot as plt\n",
    "import statsmodels.formula.api as smf\n",
    "import statsmodels.tools.eval_measures as ste\n"
   ]
  },
  {
   "cell_type": "code",
   "execution_count": 36,
   "metadata": {},
   "outputs": [],
   "source": [
    "data = full_data[full_data['train_test'] == 'train']\n",
    "test_data = full_data[full_data['train_test'] == 'test']"
   ]
  },
  {
   "cell_type": "code",
   "execution_count": 3,
   "metadata": {
    "scrolled": true
   },
   "outputs": [
    {
     "data": {
      "text/plain": [
       "0.23894959457240716"
      ]
     },
     "execution_count": 3,
     "metadata": {},
     "output_type": "execute_result"
    }
   ],
   "source": [
    "#host_total_listings_count\n",
    "#accommodates\n",
    "m = smf.ols(formula = 'price ~ host_total_listings_count + accommodates', data = data, missing='drop').fit()\n",
    "m.rsquared_adj"
   ]
  },
  {
   "cell_type": "code",
   "execution_count": 4,
   "metadata": {},
   "outputs": [
    {
     "data": {
      "text/plain": [
       "0.23513742618713063"
      ]
     },
     "execution_count": 4,
     "metadata": {},
     "output_type": "execute_result"
    }
   ],
   "source": [
    "#host_total_listings_count\n",
    "#accommodates\n",
    "#cleaning_fee\n",
    "m = smf.ols(formula = 'price ~ host_total_listings_count + accommodates + cleaning_fee', data = data, missing='drop').fit()\n",
    "m.rsquared_adj"
   ]
  },
  {
   "cell_type": "code",
   "execution_count": 5,
   "metadata": {},
   "outputs": [
    {
     "data": {
      "text/plain": [
       "0.24557244341392104"
      ]
     },
     "execution_count": 5,
     "metadata": {},
     "output_type": "execute_result"
    }
   ],
   "source": [
    "#host_total_listings_count\n",
    "#accommodates\n",
    "#bedrooms\n",
    "m = smf.ols(formula = 'price ~ host_total_listings_count + accommodates + bedrooms', data = data, missing='drop').fit()\n",
    "m.rsquared_adj"
   ]
  },
  {
   "cell_type": "code",
   "execution_count": 6,
   "metadata": {
    "scrolled": true
   },
   "outputs": [
    {
     "data": {
      "text/plain": [
       "0.24922013117539765"
      ]
     },
     "execution_count": 6,
     "metadata": {},
     "output_type": "execute_result"
    }
   ],
   "source": [
    "#host_total_listings_count\n",
    "#accommodates\n",
    "#bedrooms\n",
    "#guests_included\n",
    "m = smf.ols(formula = 'price ~ host_total_listings_count + accommodates + bedrooms + guests_included', data = data, missing='drop').fit()\n",
    "m.rsquared_adj"
   ]
  },
  {
   "cell_type": "code",
   "execution_count": 7,
   "metadata": {},
   "outputs": [
    {
     "data": {
      "text/plain": [
       "0.2589654639606519"
      ]
     },
     "execution_count": 7,
     "metadata": {},
     "output_type": "execute_result"
    }
   ],
   "source": [
    "#host_total_listings_count\n",
    "#accommodates\n",
    "#bedrooms\n",
    "#guests_included\n",
    "#room_type\n",
    "m = smf.ols(formula = 'price ~ host_total_listings_count + accommodates + bedrooms + guests_included + room_type', data = data, missing='drop').fit()\n",
    "m.rsquared_adj"
   ]
  },
  {
   "cell_type": "code",
   "execution_count": 8,
   "metadata": {},
   "outputs": [
    {
     "data": {
      "text/plain": [
       "0.2588752637283712"
      ]
     },
     "execution_count": 8,
     "metadata": {},
     "output_type": "execute_result"
    }
   ],
   "source": [
    "#host_total_listings_count\n",
    "#accommodates\n",
    "#bedrooms\n",
    "#guests_included\n",
    "#room_type\n",
    "#beds\n",
    "m = smf.ols(formula = 'price ~ host_total_listings_count + accommodates + bedrooms + guests_included + room_type + beds', data = data, missing='drop').fit()\n",
    "m.rsquared_adj"
   ]
  },
  {
   "cell_type": "code",
   "execution_count": 9,
   "metadata": {},
   "outputs": [
    {
     "data": {
      "text/plain": [
       "0.2611412228513782"
      ]
     },
     "execution_count": 9,
     "metadata": {},
     "output_type": "execute_result"
    }
   ],
   "source": [
    "#host_total_listings_count\n",
    "#accommodates\n",
    "#bedrooms\n",
    "#guests_included\n",
    "#room_type\n",
    "#bathrooms\n",
    "m = smf.ols(formula = 'price ~ host_total_listings_count + accommodates + bedrooms + guests_included + room_type + bathrooms', data = data, missing='drop').fit()\n",
    "m.rsquared_adj"
   ]
  },
  {
   "cell_type": "code",
   "execution_count": 10,
   "metadata": {},
   "outputs": [
    {
     "data": {
      "text/plain": [
       "0.269284539081577"
      ]
     },
     "execution_count": 10,
     "metadata": {},
     "output_type": "execute_result"
    }
   ],
   "source": [
    "#host_total_listings_count\n",
    "#accommodates\n",
    "#bedrooms\n",
    "#guests_included\n",
    "#room_type\n",
    "#bathrooms\n",
    "#cancellation_policy\n",
    "m = smf.ols(formula = 'price ~ host_total_listings_count + accommodates + bedrooms + guests_included + room_type + bathrooms + cancellation_policy', data = data, missing='drop').fit()\n",
    "m.rsquared_adj"
   ]
  },
  {
   "cell_type": "code",
   "execution_count": 11,
   "metadata": {},
   "outputs": [
    {
     "data": {
      "text/plain": [
       "0.4138522347119288"
      ]
     },
     "execution_count": 11,
     "metadata": {},
     "output_type": "execute_result"
    }
   ],
   "source": [
    "#host_total_listings_count\n",
    "#accommodates\n",
    "#bedrooms\n",
    "#guests_included\n",
    "#room_type\n",
    "#bathrooms\n",
    "#cancellation_policy\n",
    "#reviews_per_month\n",
    "m = smf.ols(formula = 'price ~ host_total_listings_count + accommodates + bedrooms + guests_included + room_type + bathrooms + cancellation_policy + reviews_per_month', data = data, missing='drop').fit()\n",
    "m.rsquared_adj"
   ]
  },
  {
   "cell_type": "code",
   "execution_count": 12,
   "metadata": {},
   "outputs": [
    {
     "data": {
      "text/plain": [
       "0.4138278932777095"
      ]
     },
     "execution_count": 12,
     "metadata": {},
     "output_type": "execute_result"
    }
   ],
   "source": [
    "#host_total_listings_count\n",
    "#accommodates\n",
    "#bedrooms\n",
    "#guests_included\n",
    "#room_type\n",
    "#bathrooms\n",
    "#cancellation_policy\n",
    "#reviews_per_month\n",
    "#number_of_reviews\n",
    "m = smf.ols(formula = 'price ~ host_total_listings_count + accommodates + bedrooms + guests_included + room_type + bathrooms + cancellation_policy + reviews_per_month + number_of_reviews', data = data, missing='drop').fit()\n",
    "m.rsquared_adj"
   ]
  },
  {
   "cell_type": "code",
   "execution_count": 13,
   "metadata": {},
   "outputs": [
    {
     "data": {
      "text/plain": [
       "0.4139474711000425"
      ]
     },
     "execution_count": 13,
     "metadata": {},
     "output_type": "execute_result"
    }
   ],
   "source": [
    "#host_total_listings_count\n",
    "#accommodates\n",
    "#bedrooms\n",
    "#guests_included\n",
    "#room_type\n",
    "#bathrooms\n",
    "#cancellation_policy\n",
    "#reviews_per_month\n",
    "#number_of_reviews_ltm\n",
    "m = smf.ols(formula = 'price ~ host_total_listings_count + accommodates + bedrooms + guests_included + room_type + bathrooms + cancellation_policy + reviews_per_month + number_of_reviews_ltm', data = data, missing='drop').fit()\n",
    "m.rsquared_adj"
   ]
  },
  {
   "cell_type": "code",
   "execution_count": 14,
   "metadata": {},
   "outputs": [
    {
     "data": {
      "text/plain": [
       "0.4615807828201569"
      ]
     },
     "execution_count": 14,
     "metadata": {},
     "output_type": "execute_result"
    }
   ],
   "source": [
    "#host_total_listings_count\n",
    "#accommodates\n",
    "#bedrooms\n",
    "#guests_included\n",
    "#room_type\n",
    "#bathrooms\n",
    "#cancellation_policy\n",
    "#reviews_per_month\n",
    "#number_of_reviews_ltm\n",
    "#calculated_host_listings_count\n",
    "m = smf.ols(formula = 'price ~ host_total_listings_count + accommodates + bedrooms + guests_included + room_type + bathrooms + cancellation_policy + reviews_per_month + number_of_reviews_ltm + calculated_host_listings_count', data = data, missing='drop').fit()\n",
    "m.rsquared_adj"
   ]
  },
  {
   "cell_type": "code",
   "execution_count": 15,
   "metadata": {},
   "outputs": [
    {
     "data": {
      "text/plain": [
       "0.4608917835174726"
      ]
     },
     "execution_count": 15,
     "metadata": {},
     "output_type": "execute_result"
    }
   ],
   "source": [
    "#host_total_listings_count\n",
    "#accommodates\n",
    "#bedrooms\n",
    "#guests_included\n",
    "#room_type\n",
    "#bathrooms\n",
    "#cancellation_policy\n",
    "#reviews_per_month\n",
    "#number_of_reviews_ltm\n",
    "#calculated_host_listings_count\n",
    "#review_scores_checkin\n",
    "m = smf.ols(formula = 'price ~ host_total_listings_count + accommodates + bedrooms + guests_included + room_type + bathrooms + cancellation_policy + reviews_per_month + number_of_reviews_ltm + calculated_host_listings_count + review_scores_checkin', data = data, missing='drop').fit()\n",
    "m.rsquared_adj"
   ]
  },
  {
   "cell_type": "code",
   "execution_count": 16,
   "metadata": {},
   "outputs": [
    {
     "data": {
      "text/plain": [
       "0.46334443742329523"
      ]
     },
     "execution_count": 16,
     "metadata": {},
     "output_type": "execute_result"
    }
   ],
   "source": [
    "#host_total_listings_count\n",
    "#accommodates\n",
    "#bedrooms\n",
    "#guests_included\n",
    "#room_type\n",
    "#bathrooms\n",
    "#cancellation_policy\n",
    "#reviews_per_month\n",
    "#number_of_reviews_ltm\n",
    "#calculated_host_listings_count\n",
    "#review_scores_checkin\n",
    "#instant_bookable\n",
    "m = smf.ols(formula = 'price ~ host_total_listings_count + accommodates + bedrooms + guests_included + room_type + bathrooms + cancellation_policy + reviews_per_month + number_of_reviews_ltm + calculated_host_listings_count + review_scores_checkin + instant_bookable', data = data, missing='drop').fit()\n",
    "m.rsquared_adj"
   ]
  },
  {
   "cell_type": "code",
   "execution_count": 17,
   "metadata": {},
   "outputs": [
    {
     "data": {
      "text/plain": [
       "0.46373458120800704"
      ]
     },
     "execution_count": 17,
     "metadata": {},
     "output_type": "execute_result"
    }
   ],
   "source": [
    "#host_total_listings_count\n",
    "#accommodates\n",
    "#bedrooms\n",
    "#guests_included\n",
    "#room_type\n",
    "#bathrooms\n",
    "#cancellation_policy\n",
    "#reviews_per_month\n",
    "#number_of_reviews_ltm\n",
    "#calculated_host_listings_count\n",
    "#review_scores_checkin\n",
    "#instant_bookable\n",
    "#maximum_nights\n",
    "m = smf.ols(formula = 'price ~ host_total_listings_count + accommodates + bedrooms + guests_included + room_type + bathrooms + cancellation_policy + reviews_per_month + number_of_reviews_ltm + calculated_host_listings_count + review_scores_checkin + instant_bookable + maximum_nights', data = data, missing='drop').fit()\n",
    "m.rsquared_adj"
   ]
  },
  {
   "cell_type": "code",
   "execution_count": 18,
   "metadata": {},
   "outputs": [
    {
     "data": {
      "text/plain": [
       "0.4641693173529514"
      ]
     },
     "execution_count": 18,
     "metadata": {},
     "output_type": "execute_result"
    }
   ],
   "source": [
    "#host_total_listings_count\n",
    "#accommodates\n",
    "#bedrooms\n",
    "#guests_included\n",
    "#room_type\n",
    "#bathrooms\n",
    "#cancellation_policy\n",
    "#reviews_per_month\n",
    "#number_of_reviews_ltm\n",
    "#calculated_host_listings_count\n",
    "#review_scores_checkin\n",
    "#instant_bookable\n",
    "#maximum_nights\n",
    "#host_is_superhost\n",
    "m = smf.ols(formula = 'price ~ host_total_listings_count + accommodates + bedrooms + guests_included + room_type + bathrooms + cancellation_policy + reviews_per_month + number_of_reviews_ltm + calculated_host_listings_count + review_scores_checkin + instant_bookable + maximum_nights + host_is_superhost' , data = data, missing='drop').fit()\n",
    "m.rsquared_adj"
   ]
  },
  {
   "cell_type": "code",
   "execution_count": 19,
   "metadata": {},
   "outputs": [
    {
     "data": {
      "text/plain": [
       "0.4649083774392754"
      ]
     },
     "execution_count": 19,
     "metadata": {},
     "output_type": "execute_result"
    }
   ],
   "source": [
    "#host_total_listings_count\n",
    "#accommodates\n",
    "#bedrooms\n",
    "#guests_included\n",
    "#room_type\n",
    "#bathrooms\n",
    "#cancellation_policy\n",
    "#reviews_per_month\n",
    "#number_of_reviews_ltm\n",
    "#calculated_host_listings_count\n",
    "#review_scores_checkin\n",
    "#instant_bookable\n",
    "#maximum_nights\n",
    "#host_is_superhost\n",
    "#security_deposit\n",
    "m = smf.ols(formula = 'price ~ host_total_listings_count + accommodates + bedrooms + guests_included + room_type + bathrooms + cancellation_policy + reviews_per_month + number_of_reviews_ltm + calculated_host_listings_count + review_scores_checkin + instant_bookable + maximum_nights + host_is_superhost + security_deposit' , data = data, missing='drop').fit()\n",
    "m.rsquared_adj"
   ]
  },
  {
   "cell_type": "code",
   "execution_count": 20,
   "metadata": {},
   "outputs": [
    {
     "data": {
      "text/plain": [
       "0.46498411873806156"
      ]
     },
     "execution_count": 20,
     "metadata": {},
     "output_type": "execute_result"
    }
   ],
   "source": [
    "#host_total_listings_count\n",
    "#accommodates\n",
    "#bedrooms\n",
    "#guests_included\n",
    "#room_type\n",
    "#bathrooms\n",
    "#cancellation_policy\n",
    "#reviews_per_month\n",
    "#number_of_reviews_ltm\n",
    "#calculated_host_listings_count\n",
    "#review_scores_checkin\n",
    "#instant_bookable\n",
    "#maximum_nights\n",
    "#host_is_superhost\n",
    "#security_deposit\n",
    "#review_scores_communication\n",
    "m = smf.ols(formula = 'price ~ host_total_listings_count + accommodates + bedrooms + guests_included + room_type + bathrooms + cancellation_policy + reviews_per_month + number_of_reviews_ltm + calculated_host_listings_count + review_scores_checkin + instant_bookable + maximum_nights + host_is_superhost + security_deposit + review_scores_communication' , data = data, missing='drop').fit()\n",
    "m.rsquared_adj"
   ]
  },
  {
   "cell_type": "code",
   "execution_count": 21,
   "metadata": {},
   "outputs": [
    {
     "data": {
      "text/plain": [
       "0.46481785125348785"
      ]
     },
     "execution_count": 21,
     "metadata": {},
     "output_type": "execute_result"
    }
   ],
   "source": [
    "#host_total_listings_count\n",
    "#accommodates\n",
    "#bedrooms\n",
    "#guests_included\n",
    "#room_type\n",
    "#bathrooms\n",
    "#cancellation_policy\n",
    "#reviews_per_month\n",
    "#number_of_reviews_ltm\n",
    "#calculated_host_listings_count\n",
    "#review_scores_checkin\n",
    "#instant_bookable\n",
    "#maximum_nights\n",
    "#host_is_superhost\n",
    "#security_deposit\n",
    "#review_scores_value\n",
    "m = smf.ols(formula = 'price ~ host_total_listings_count + accommodates + bedrooms + guests_included + room_type + bathrooms + cancellation_policy + reviews_per_month + number_of_reviews_ltm + calculated_host_listings_count + review_scores_checkin + instant_bookable + maximum_nights + host_is_superhost + security_deposit + review_scores_value' , data = data, missing='drop').fit()\n",
    "m.rsquared_adj"
   ]
  },
  {
   "cell_type": "code",
   "execution_count": 22,
   "metadata": {},
   "outputs": [
    {
     "data": {
      "text/plain": [
       "0.4650943866481765"
      ]
     },
     "execution_count": 22,
     "metadata": {},
     "output_type": "execute_result"
    }
   ],
   "source": [
    "#host_total_listings_count\n",
    "#accommodates\n",
    "#bedrooms\n",
    "#guests_included\n",
    "#room_type\n",
    "#bathrooms\n",
    "#cancellation_policy\n",
    "#reviews_per_month\n",
    "#number_of_reviews_ltm\n",
    "#calculated_host_listings_count\n",
    "#review_scores_checkin\n",
    "#instant_bookable\n",
    "#maximum_nights\n",
    "#host_is_superhost\n",
    "#security_deposit\n",
    "#review_scores_accuracy\n",
    "m = smf.ols(formula = 'price ~ host_total_listings_count + accommodates + bedrooms + guests_included + room_type + bathrooms + cancellation_policy + reviews_per_month + number_of_reviews_ltm + calculated_host_listings_count + review_scores_checkin + instant_bookable + maximum_nights + host_is_superhost + security_deposit + review_scores_accuracy' , data = data, missing='drop').fit()\n",
    "m.rsquared_adj"
   ]
  },
  {
   "cell_type": "code",
   "execution_count": 23,
   "metadata": {},
   "outputs": [
    {
     "data": {
      "text/plain": [
       "0.46525417690903126"
      ]
     },
     "execution_count": 23,
     "metadata": {},
     "output_type": "execute_result"
    }
   ],
   "source": [
    "#host_total_listings_count\n",
    "#accommodates\n",
    "#bedrooms\n",
    "#guests_included\n",
    "#room_type\n",
    "#bathrooms\n",
    "#cancellation_policy\n",
    "#reviews_per_month\n",
    "#number_of_reviews_ltm\n",
    "#calculated_host_listings_count\n",
    "#review_scores_checkin\n",
    "#instant_bookable\n",
    "#maximum_nights\n",
    "#host_is_superhost\n",
    "#security_deposit\n",
    "#review_scores_accuracy\n",
    "#review_scores_rating\n",
    "m = smf.ols(formula = 'price ~ host_total_listings_count + accommodates + bedrooms + guests_included + room_type + bathrooms + cancellation_policy + reviews_per_month + number_of_reviews_ltm + calculated_host_listings_count + review_scores_checkin + instant_bookable + maximum_nights + host_is_superhost + security_deposit + review_scores_accuracy + review_scores_rating' , data = data, missing='drop').fit()\n",
    "m.rsquared_adj"
   ]
  },
  {
   "cell_type": "code",
   "execution_count": 24,
   "metadata": {},
   "outputs": [
    {
     "data": {
      "text/plain": [
       "0.4658877205420442"
      ]
     },
     "execution_count": 24,
     "metadata": {},
     "output_type": "execute_result"
    }
   ],
   "source": [
    "#host_total_listings_count\n",
    "#accommodates\n",
    "#bedrooms\n",
    "#guests_included\n",
    "#room_type\n",
    "#bathrooms\n",
    "#cancellation_policy\n",
    "#reviews_per_month\n",
    "#number_of_reviews_ltm\n",
    "#calculated_host_listings_count\n",
    "#review_scores_checkin\n",
    "#instant_bookable\n",
    "#maximum_nights\n",
    "#host_is_superhost\n",
    "#security_deposit\n",
    "#review_scores_accuracy\n",
    "#review_scores_rating\n",
    "#longitude\n",
    "m = smf.ols(formula = 'price ~ host_total_listings_count + accommodates + bedrooms + guests_included + room_type + bathrooms + cancellation_policy + reviews_per_month + number_of_reviews_ltm + calculated_host_listings_count + review_scores_checkin + instant_bookable + maximum_nights + host_is_superhost + security_deposit + review_scores_accuracy + review_scores_rating + longitude' , data = data, missing='drop').fit()\n",
    "m.rsquared_adj"
   ]
  },
  {
   "cell_type": "code",
   "execution_count": 25,
   "metadata": {},
   "outputs": [
    {
     "data": {
      "text/plain": [
       "0.46586895393682215"
      ]
     },
     "execution_count": 25,
     "metadata": {},
     "output_type": "execute_result"
    }
   ],
   "source": [
    "#host_total_listings_count\n",
    "#accommodates\n",
    "#bedrooms\n",
    "#guests_included\n",
    "#room_type\n",
    "#bathrooms\n",
    "#cancellation_policy\n",
    "#reviews_per_month\n",
    "#number_of_reviews_ltm\n",
    "#calculated_host_listings_count\n",
    "#review_scores_checkin\n",
    "#instant_bookable\n",
    "#maximum_nights\n",
    "#host_is_superhost\n",
    "#security_deposit\n",
    "#review_scores_accuracy\n",
    "#review_scores_rating\n",
    "#longitude\n",
    "#latitude\n",
    "m = smf.ols(formula = 'price ~ host_total_listings_count + accommodates + bedrooms + guests_included + room_type + bathrooms + cancellation_policy + reviews_per_month + number_of_reviews_ltm + calculated_host_listings_count + review_scores_checkin + instant_bookable + maximum_nights + host_is_superhost + security_deposit + review_scores_accuracy + review_scores_rating + longitude + latitude' , data = data, missing='drop').fit()\n",
    "m.rsquared_adj"
   ]
  },
  {
   "cell_type": "code",
   "execution_count": 26,
   "metadata": {},
   "outputs": [
    {
     "data": {
      "text/plain": [
       "0.46831686234958125"
      ]
     },
     "execution_count": 26,
     "metadata": {},
     "output_type": "execute_result"
    }
   ],
   "source": [
    "#host_total_listings_count\n",
    "#accommodates\n",
    "#bedrooms\n",
    "#guests_included\n",
    "#room_type\n",
    "#bathrooms\n",
    "#cancellation_policy\n",
    "#reviews_per_month\n",
    "#number_of_reviews_ltm\n",
    "#calculated_host_listings_count\n",
    "#review_scores_checkin\n",
    "#instant_bookable\n",
    "#maximum_nights\n",
    "#host_is_superhost\n",
    "#security_deposit\n",
    "#review_scores_accuracy\n",
    "#review_scores_rating\n",
    "#longitude\n",
    "#host_response_time\n",
    "m = smf.ols(formula = 'price ~ host_total_listings_count + accommodates + bedrooms + guests_included + room_type + bathrooms + cancellation_policy + reviews_per_month + number_of_reviews_ltm + calculated_host_listings_count + review_scores_checkin + instant_bookable + maximum_nights + host_is_superhost + security_deposit + review_scores_accuracy + review_scores_rating + longitude + host_response_time' , data = data, missing='drop').fit()\n",
    "m.rsquared_adj"
   ]
  },
  {
   "cell_type": "code",
   "execution_count": 27,
   "metadata": {},
   "outputs": [
    {
     "data": {
      "text/plain": [
       "0.4686727753247334"
      ]
     },
     "execution_count": 27,
     "metadata": {},
     "output_type": "execute_result"
    }
   ],
   "source": [
    "#host_total_listings_count\n",
    "#accommodates\n",
    "#bedrooms\n",
    "#guests_included\n",
    "#room_type\n",
    "#bathrooms\n",
    "#cancellation_policy\n",
    "#reviews_per_month\n",
    "#number_of_reviews_ltm\n",
    "#calculated_host_listings_count\n",
    "#review_scores_checkin\n",
    "#instant_bookable\n",
    "#maximum_nights\n",
    "#host_is_superhost\n",
    "#security_deposit\n",
    "#review_scores_accuracy\n",
    "#review_scores_rating\n",
    "#longitude\n",
    "#host_response_time\n",
    "#review_scores_cleanliness\n",
    "m = smf.ols(formula = 'price ~ host_total_listings_count + accommodates + bedrooms + guests_included + room_type + bathrooms + cancellation_policy + reviews_per_month + number_of_reviews_ltm + calculated_host_listings_count + review_scores_checkin + instant_bookable + maximum_nights + host_is_superhost + security_deposit + review_scores_accuracy + review_scores_rating + longitude + host_response_time + review_scores_cleanliness' , data = data, missing='drop').fit()\n",
    "m.rsquared_adj"
   ]
  },
  {
   "cell_type": "code",
   "execution_count": 28,
   "metadata": {},
   "outputs": [
    {
     "data": {
      "text/plain": [
       "0.47491291239762845"
      ]
     },
     "execution_count": 28,
     "metadata": {},
     "output_type": "execute_result"
    }
   ],
   "source": [
    "#host_total_listings_count\n",
    "#accommodates\n",
    "#bedrooms\n",
    "#guests_included\n",
    "#room_type\n",
    "#bathrooms\n",
    "#cancellation_policy\n",
    "#reviews_per_month\n",
    "#number_of_reviews_ltm\n",
    "#calculated_host_listings_count\n",
    "#review_scores_checkin\n",
    "#instant_bookable\n",
    "#maximum_nights\n",
    "#host_is_superhost\n",
    "#security_deposit\n",
    "#review_scores_accuracy\n",
    "#review_scores_rating\n",
    "#longitude\n",
    "#host_response_time\n",
    "#review_scores_cleanliness\n",
    "#minimum_nights\n",
    "m = smf.ols(formula = 'price ~ host_total_listings_count + accommodates + bedrooms + guests_included + room_type + bathrooms + cancellation_policy + reviews_per_month + number_of_reviews_ltm + calculated_host_listings_count + review_scores_checkin + instant_bookable + maximum_nights + host_is_superhost + security_deposit + review_scores_accuracy + review_scores_rating + longitude + host_response_time + review_scores_cleanliness + minimum_nights' , data = data, missing='drop').fit()\n",
    "m.rsquared_adj"
   ]
  },
  {
   "cell_type": "code",
   "execution_count": 29,
   "metadata": {
    "scrolled": false
   },
   "outputs": [
    {
     "data": {
      "text/plain": [
       "0.4747807846881237"
      ]
     },
     "execution_count": 29,
     "metadata": {},
     "output_type": "execute_result"
    }
   ],
   "source": [
    "#host_total_listings_count\n",
    "#accommodates\n",
    "#bedrooms\n",
    "#guests_included\n",
    "#room_type\n",
    "#bathrooms\n",
    "#cancellation_policy\n",
    "#reviews_per_month\n",
    "#number_of_reviews_ltm\n",
    "#calculated_host_listings_count\n",
    "#review_scores_checkin\n",
    "#instant_bookable\n",
    "#maximum_nights\n",
    "#host_is_superhost\n",
    "#security_deposit\n",
    "#review_scores_accuracy\n",
    "#review_scores_rating\n",
    "#longitude\n",
    "#host_response_time\n",
    "#review_scores_cleanliness\n",
    "#minimum_nights\n",
    "#extra_people\n",
    "m = smf.ols(formula = 'price ~ host_total_listings_count + accommodates + bedrooms + guests_included + room_type + bathrooms + cancellation_policy + reviews_per_month + number_of_reviews_ltm + calculated_host_listings_count + review_scores_checkin + instant_bookable + maximum_nights + host_is_superhost + security_deposit + review_scores_accuracy + review_scores_rating + longitude + host_response_time + review_scores_cleanliness + minimum_nights + extra_people' , data = data, missing='drop').fit()\n",
    "m.rsquared_adj"
   ]
  },
  {
   "cell_type": "code",
   "execution_count": null,
   "metadata": {},
   "outputs": [],
   "source": [
    "#The three biggest contributors to adj r^2\n",
    "\n",
    "#host_total_listings_count\n",
    "#accommodates\n",
    "#reviews_per_month\n",
    "m = smf.ols(formula = 'price ~ host_total_listings_count + accommodates + reviews_per_month', data = data, missing='drop').fit()\n",
    "m.summary()"
   ]
  },
  {
   "cell_type": "code",
   "execution_count": 30,
   "metadata": {
    "scrolled": true
   },
   "outputs": [
    {
     "data": {
      "text/html": [
       "<table class=\"simpletable\">\n",
       "<caption>OLS Regression Results</caption>\n",
       "<tr>\n",
       "  <th>Dep. Variable:</th>          <td>price</td>      <th>  R-squared:         </th> <td>   0.478</td> \n",
       "</tr>\n",
       "<tr>\n",
       "  <th>Model:</th>                   <td>OLS</td>       <th>  Adj. R-squared:    </th> <td>   0.475</td> \n",
       "</tr>\n",
       "<tr>\n",
       "  <th>Method:</th>             <td>Least Squares</td>  <th>  F-statistic:       </th> <td>   148.4</td> \n",
       "</tr>\n",
       "<tr>\n",
       "  <th>Date:</th>             <td>Wed, 04 Dec 2019</td> <th>  Prob (F-statistic):</th>  <td>  0.00</td>  \n",
       "</tr>\n",
       "<tr>\n",
       "  <th>Time:</th>                 <td>12:41:58</td>     <th>  Log-Likelihood:    </th> <td> -23607.</td> \n",
       "</tr>\n",
       "<tr>\n",
       "  <th>No. Observations:</th>      <td>  3749</td>      <th>  AIC:               </th> <td>4.726e+04</td>\n",
       "</tr>\n",
       "<tr>\n",
       "  <th>Df Residuals:</th>          <td>  3725</td>      <th>  BIC:               </th> <td>4.741e+04</td>\n",
       "</tr>\n",
       "<tr>\n",
       "  <th>Df Model:</th>              <td>    23</td>      <th>                     </th>     <td> </td>    \n",
       "</tr>\n",
       "<tr>\n",
       "  <th>Covariance Type:</th>      <td>nonrobust</td>    <th>                     </th>     <td> </td>    \n",
       "</tr>\n",
       "</table>\n",
       "<table class=\"simpletable\">\n",
       "<tr>\n",
       "                 <td></td>                   <th>coef</th>     <th>std err</th>      <th>t</th>      <th>P>|t|</th>  <th>[0.025</th>    <th>0.975]</th>  \n",
       "</tr>\n",
       "<tr>\n",
       "  <th>Intercept</th>                      <td>-1.872e+04</td> <td> 8198.266</td> <td>   -2.283</td> <td> 0.022</td> <td>-3.48e+04</td> <td>-2646.490</td>\n",
       "</tr>\n",
       "<tr>\n",
       "  <th>room_type[T.Hotel room]</th>        <td>  152.6373</td> <td>   17.070</td> <td>    8.942</td> <td> 0.000</td> <td>  119.171</td> <td>  186.104</td>\n",
       "</tr>\n",
       "<tr>\n",
       "  <th>room_type[T.Private room]</th>      <td>  -49.5914</td> <td>    6.453</td> <td>   -7.685</td> <td> 0.000</td> <td>  -62.243</td> <td>  -36.940</td>\n",
       "</tr>\n",
       "<tr>\n",
       "  <th>room_type[T.Shared room]</th>       <td> -113.5875</td> <td>   24.484</td> <td>   -4.639</td> <td> 0.000</td> <td> -161.590</td> <td>  -65.585</td>\n",
       "</tr>\n",
       "<tr>\n",
       "  <th>host_total_listings_count</th>      <td>    0.3730</td> <td>    0.009</td> <td>   39.928</td> <td> 0.000</td> <td>    0.355</td> <td>    0.391</td>\n",
       "</tr>\n",
       "<tr>\n",
       "  <th>accommodates</th>                   <td>    3.2558</td> <td>    1.824</td> <td>    1.785</td> <td> 0.074</td> <td>   -0.321</td> <td>    6.832</td>\n",
       "</tr>\n",
       "<tr>\n",
       "  <th>bedrooms</th>                       <td>   18.8227</td> <td>    3.971</td> <td>    4.740</td> <td> 0.000</td> <td>   11.038</td> <td>   26.608</td>\n",
       "</tr>\n",
       "<tr>\n",
       "  <th>guests_included</th>                <td>    9.1163</td> <td>    1.617</td> <td>    5.637</td> <td> 0.000</td> <td>    5.945</td> <td>   12.287</td>\n",
       "</tr>\n",
       "<tr>\n",
       "  <th>bathrooms</th>                      <td>   38.0019</td> <td>    4.897</td> <td>    7.760</td> <td> 0.000</td> <td>   28.400</td> <td>   47.604</td>\n",
       "</tr>\n",
       "<tr>\n",
       "  <th>cancellation_policy</th>            <td>   12.6776</td> <td>    2.069</td> <td>    6.129</td> <td> 0.000</td> <td>    8.622</td> <td>   16.733</td>\n",
       "</tr>\n",
       "<tr>\n",
       "  <th>reviews_per_month</th>              <td>   -5.9075</td> <td>    1.758</td> <td>   -3.360</td> <td> 0.001</td> <td>   -9.355</td> <td>   -2.460</td>\n",
       "</tr>\n",
       "<tr>\n",
       "  <th>number_of_reviews_ltm</th>          <td>   -0.1113</td> <td>    0.160</td> <td>   -0.695</td> <td> 0.487</td> <td>   -0.425</td> <td>    0.203</td>\n",
       "</tr>\n",
       "<tr>\n",
       "  <th>calculated_host_listings_count</th> <td>   -0.9006</td> <td>    0.044</td> <td>  -20.558</td> <td> 0.000</td> <td>   -0.986</td> <td>   -0.815</td>\n",
       "</tr>\n",
       "<tr>\n",
       "  <th>review_scores_checkin</th>          <td>   -4.0818</td> <td>    4.398</td> <td>   -0.928</td> <td> 0.353</td> <td>  -12.704</td> <td>    4.540</td>\n",
       "</tr>\n",
       "<tr>\n",
       "  <th>instant_bookable</th>               <td>   22.8509</td> <td>    4.771</td> <td>    4.789</td> <td> 0.000</td> <td>   13.496</td> <td>   32.206</td>\n",
       "</tr>\n",
       "<tr>\n",
       "  <th>maximum_nights</th>                 <td>    0.0044</td> <td>    0.004</td> <td>    1.071</td> <td> 0.284</td> <td>   -0.004</td> <td>    0.013</td>\n",
       "</tr>\n",
       "<tr>\n",
       "  <th>host_is_superhost</th>              <td>  -13.1005</td> <td>    5.193</td> <td>   -2.523</td> <td> 0.012</td> <td>  -23.283</td> <td>   -2.919</td>\n",
       "</tr>\n",
       "<tr>\n",
       "  <th>security_deposit</th>               <td>    0.0183</td> <td>    0.006</td> <td>    3.060</td> <td> 0.002</td> <td>    0.007</td> <td>    0.030</td>\n",
       "</tr>\n",
       "<tr>\n",
       "  <th>review_scores_accuracy</th>         <td>   -9.0899</td> <td>    4.349</td> <td>   -2.090</td> <td> 0.037</td> <td>  -17.616</td> <td>   -0.564</td>\n",
       "</tr>\n",
       "<tr>\n",
       "  <th>review_scores_rating</th>           <td>    0.0838</td> <td>    0.539</td> <td>    0.155</td> <td> 0.876</td> <td>   -0.973</td> <td>    1.141</td>\n",
       "</tr>\n",
       "<tr>\n",
       "  <th>longitude</th>                      <td> -153.9143</td> <td>   67.024</td> <td>   -2.296</td> <td> 0.022</td> <td> -285.322</td> <td>  -22.507</td>\n",
       "</tr>\n",
       "<tr>\n",
       "  <th>host_response_time</th>             <td>    3.3231</td> <td>    4.849</td> <td>    0.685</td> <td> 0.493</td> <td>   -6.183</td> <td>   12.830</td>\n",
       "</tr>\n",
       "<tr>\n",
       "  <th>review_scores_cleanliness</th>      <td>    6.0939</td> <td>    3.968</td> <td>    1.536</td> <td> 0.125</td> <td>   -1.685</td> <td>   13.873</td>\n",
       "</tr>\n",
       "<tr>\n",
       "  <th>minimum_nights</th>                 <td>   -1.6593</td> <td>    0.247</td> <td>   -6.729</td> <td> 0.000</td> <td>   -2.143</td> <td>   -1.176</td>\n",
       "</tr>\n",
       "</table>\n",
       "<table class=\"simpletable\">\n",
       "<tr>\n",
       "  <th>Omnibus:</th>       <td>7311.736</td> <th>  Durbin-Watson:     </th>   <td>   1.786</td>  \n",
       "</tr>\n",
       "<tr>\n",
       "  <th>Prob(Omnibus):</th>  <td> 0.000</td>  <th>  Jarque-Bera (JB):  </th> <td>42360724.060</td>\n",
       "</tr>\n",
       "<tr>\n",
       "  <th>Skew:</th>           <td>14.765</td>  <th>  Prob(JB):          </th>   <td>    0.00</td>  \n",
       "</tr>\n",
       "<tr>\n",
       "  <th>Kurtosis:</th>       <td>522.912</td> <th>  Cond. No.          </th>   <td>3.24e+06</td>  \n",
       "</tr>\n",
       "</table><br/><br/>Warnings:<br/>[1] Standard Errors assume that the covariance matrix of the errors is correctly specified.<br/>[2] The condition number is large, 3.24e+06. This might indicate that there are<br/>strong multicollinearity or other numerical problems."
      ],
      "text/plain": [
       "<class 'statsmodels.iolib.summary.Summary'>\n",
       "\"\"\"\n",
       "                            OLS Regression Results                            \n",
       "==============================================================================\n",
       "Dep. Variable:                  price   R-squared:                       0.478\n",
       "Model:                            OLS   Adj. R-squared:                  0.475\n",
       "Method:                 Least Squares   F-statistic:                     148.4\n",
       "Date:                Wed, 04 Dec 2019   Prob (F-statistic):               0.00\n",
       "Time:                        12:41:58   Log-Likelihood:                -23607.\n",
       "No. Observations:                3749   AIC:                         4.726e+04\n",
       "Df Residuals:                    3725   BIC:                         4.741e+04\n",
       "Df Model:                          23                                         \n",
       "Covariance Type:            nonrobust                                         \n",
       "==================================================================================================\n",
       "                                     coef    std err          t      P>|t|      [0.025      0.975]\n",
       "--------------------------------------------------------------------------------------------------\n",
       "Intercept                      -1.872e+04   8198.266     -2.283      0.022   -3.48e+04   -2646.490\n",
       "room_type[T.Hotel room]          152.6373     17.070      8.942      0.000     119.171     186.104\n",
       "room_type[T.Private room]        -49.5914      6.453     -7.685      0.000     -62.243     -36.940\n",
       "room_type[T.Shared room]        -113.5875     24.484     -4.639      0.000    -161.590     -65.585\n",
       "host_total_listings_count          0.3730      0.009     39.928      0.000       0.355       0.391\n",
       "accommodates                       3.2558      1.824      1.785      0.074      -0.321       6.832\n",
       "bedrooms                          18.8227      3.971      4.740      0.000      11.038      26.608\n",
       "guests_included                    9.1163      1.617      5.637      0.000       5.945      12.287\n",
       "bathrooms                         38.0019      4.897      7.760      0.000      28.400      47.604\n",
       "cancellation_policy               12.6776      2.069      6.129      0.000       8.622      16.733\n",
       "reviews_per_month                 -5.9075      1.758     -3.360      0.001      -9.355      -2.460\n",
       "number_of_reviews_ltm             -0.1113      0.160     -0.695      0.487      -0.425       0.203\n",
       "calculated_host_listings_count    -0.9006      0.044    -20.558      0.000      -0.986      -0.815\n",
       "review_scores_checkin             -4.0818      4.398     -0.928      0.353     -12.704       4.540\n",
       "instant_bookable                  22.8509      4.771      4.789      0.000      13.496      32.206\n",
       "maximum_nights                     0.0044      0.004      1.071      0.284      -0.004       0.013\n",
       "host_is_superhost                -13.1005      5.193     -2.523      0.012     -23.283      -2.919\n",
       "security_deposit                   0.0183      0.006      3.060      0.002       0.007       0.030\n",
       "review_scores_accuracy            -9.0899      4.349     -2.090      0.037     -17.616      -0.564\n",
       "review_scores_rating               0.0838      0.539      0.155      0.876      -0.973       1.141\n",
       "longitude                       -153.9143     67.024     -2.296      0.022    -285.322     -22.507\n",
       "host_response_time                 3.3231      4.849      0.685      0.493      -6.183      12.830\n",
       "review_scores_cleanliness          6.0939      3.968      1.536      0.125      -1.685      13.873\n",
       "minimum_nights                    -1.6593      0.247     -6.729      0.000      -2.143      -1.176\n",
       "==============================================================================\n",
       "Omnibus:                     7311.736   Durbin-Watson:                   1.786\n",
       "Prob(Omnibus):                  0.000   Jarque-Bera (JB):         42360724.060\n",
       "Skew:                          14.765   Prob(JB):                         0.00\n",
       "Kurtosis:                     522.912   Cond. No.                     3.24e+06\n",
       "==============================================================================\n",
       "\n",
       "Warnings:\n",
       "[1] Standard Errors assume that the covariance matrix of the errors is correctly specified.\n",
       "[2] The condition number is large, 3.24e+06. This might indicate that there are\n",
       "strong multicollinearity or other numerical problems.\n",
       "\"\"\""
      ]
     },
     "execution_count": 30,
     "metadata": {},
     "output_type": "execute_result"
    }
   ],
   "source": [
    "#The Comprehensive model\n",
    "\n",
    "#host_total_listings_count\n",
    "#accommodates\n",
    "#bedrooms\n",
    "#guests_included\n",
    "#room_type\n",
    "#bathrooms\n",
    "#cancellation_policy\n",
    "#reviews_per_month\n",
    "#number_of_reviews_ltm\n",
    "#calculated_host_listings_count\n",
    "#review_scores_checkin\n",
    "#instant_bookable\n",
    "#maximum_nights\n",
    "#host_is_superhost\n",
    "#security_deposit\n",
    "#review_scores_accuracy\n",
    "#review_scores_rating\n",
    "#longitude\n",
    "#host_response_time\n",
    "#review_scores_cleanliness\n",
    "#minimum_nights\n",
    "m = smf.ols(formula = 'price ~ host_total_listings_count + accommodates + bedrooms + guests_included + room_type + bathrooms + cancellation_policy + reviews_per_month + number_of_reviews_ltm + calculated_host_listings_count + review_scores_checkin + instant_bookable + maximum_nights + host_is_superhost + security_deposit + review_scores_accuracy + review_scores_rating + longitude + host_response_time + review_scores_cleanliness + minimum_nights' , data = data, missing='drop').fit()\n",
    "m.summary()"
   ]
  },
  {
   "cell_type": "markdown",
   "metadata": {},
   "source": []
  },
  {
   "cell_type": "code",
   "execution_count": 35,
   "metadata": {
    "scrolled": true
   },
   "outputs": [
    {
     "data": {
      "text/html": [
       "<table class=\"simpletable\">\n",
       "<caption>OLS Regression Results</caption>\n",
       "<tr>\n",
       "  <th>Dep. Variable:</th>          <td>price</td>      <th>  R-squared:         </th> <td>   0.413</td> \n",
       "</tr>\n",
       "<tr>\n",
       "  <th>Model:</th>                   <td>OLS</td>       <th>  Adj. R-squared:    </th> <td>   0.412</td> \n",
       "</tr>\n",
       "<tr>\n",
       "  <th>Method:</th>             <td>Least Squares</td>  <th>  F-statistic:       </th> <td>   909.2</td> \n",
       "</tr>\n",
       "<tr>\n",
       "  <th>Date:</th>             <td>Wed, 04 Dec 2019</td> <th>  Prob (F-statistic):</th>  <td>  0.00</td>  \n",
       "</tr>\n",
       "<tr>\n",
       "  <th>Time:</th>                 <td>12:56:35</td>     <th>  Log-Likelihood:    </th> <td> -32413.</td> \n",
       "</tr>\n",
       "<tr>\n",
       "  <th>No. Observations:</th>      <td>  5181</td>      <th>  AIC:               </th> <td>6.484e+04</td>\n",
       "</tr>\n",
       "<tr>\n",
       "  <th>Df Residuals:</th>          <td>  5176</td>      <th>  BIC:               </th> <td>6.487e+04</td>\n",
       "</tr>\n",
       "<tr>\n",
       "  <th>Df Model:</th>              <td>     4</td>      <th>                     </th>     <td> </td>    \n",
       "</tr>\n",
       "<tr>\n",
       "  <th>Covariance Type:</th>      <td>nonrobust</td>    <th>                     </th>     <td> </td>    \n",
       "</tr>\n",
       "</table>\n",
       "<table class=\"simpletable\">\n",
       "<tr>\n",
       "                 <td></td>                   <th>coef</th>     <th>std err</th>      <th>t</th>      <th>P>|t|</th>  <th>[0.025</th>    <th>0.975]</th>  \n",
       "</tr>\n",
       "<tr>\n",
       "  <th>Intercept</th>                      <td>   70.9051</td> <td>    3.965</td> <td>   17.883</td> <td> 0.000</td> <td>   63.132</td> <td>   78.678</td>\n",
       "</tr>\n",
       "<tr>\n",
       "  <th>host_total_listings_count</th>      <td>    0.3691</td> <td>    0.008</td> <td>   43.537</td> <td> 0.000</td> <td>    0.352</td> <td>    0.386</td>\n",
       "</tr>\n",
       "<tr>\n",
       "  <th>accommodates</th>                   <td>   25.7581</td> <td>    0.757</td> <td>   34.037</td> <td> 0.000</td> <td>   24.274</td> <td>   27.242</td>\n",
       "</tr>\n",
       "<tr>\n",
       "  <th>reviews_per_month</th>              <td>   -8.1270</td> <td>    0.779</td> <td>  -10.438</td> <td> 0.000</td> <td>   -9.653</td> <td>   -6.601</td>\n",
       "</tr>\n",
       "<tr>\n",
       "  <th>calculated_host_listings_count</th> <td>   -0.6352</td> <td>    0.037</td> <td>  -17.265</td> <td> 0.000</td> <td>   -0.707</td> <td>   -0.563</td>\n",
       "</tr>\n",
       "</table>\n",
       "<table class=\"simpletable\">\n",
       "<tr>\n",
       "  <th>Omnibus:</th>       <td>9443.316</td> <th>  Durbin-Watson:     </th>   <td>   1.769</td>  \n",
       "</tr>\n",
       "<tr>\n",
       "  <th>Prob(Omnibus):</th>  <td> 0.000</td>  <th>  Jarque-Bera (JB):  </th> <td>44409637.625</td>\n",
       "</tr>\n",
       "<tr>\n",
       "  <th>Skew:</th>           <td>12.771</td>  <th>  Prob(JB):          </th>   <td>    0.00</td>  \n",
       "</tr>\n",
       "<tr>\n",
       "  <th>Kurtosis:</th>       <td>455.843</td> <th>  Cond. No.          </th>   <td>    689.</td>  \n",
       "</tr>\n",
       "</table><br/><br/>Warnings:<br/>[1] Standard Errors assume that the covariance matrix of the errors is correctly specified."
      ],
      "text/plain": [
       "<class 'statsmodels.iolib.summary.Summary'>\n",
       "\"\"\"\n",
       "                            OLS Regression Results                            \n",
       "==============================================================================\n",
       "Dep. Variable:                  price   R-squared:                       0.413\n",
       "Model:                            OLS   Adj. R-squared:                  0.412\n",
       "Method:                 Least Squares   F-statistic:                     909.2\n",
       "Date:                Wed, 04 Dec 2019   Prob (F-statistic):               0.00\n",
       "Time:                        12:56:35   Log-Likelihood:                -32413.\n",
       "No. Observations:                5181   AIC:                         6.484e+04\n",
       "Df Residuals:                    5176   BIC:                         6.487e+04\n",
       "Df Model:                           4                                         \n",
       "Covariance Type:            nonrobust                                         \n",
       "==================================================================================================\n",
       "                                     coef    std err          t      P>|t|      [0.025      0.975]\n",
       "--------------------------------------------------------------------------------------------------\n",
       "Intercept                         70.9051      3.965     17.883      0.000      63.132      78.678\n",
       "host_total_listings_count          0.3691      0.008     43.537      0.000       0.352       0.386\n",
       "accommodates                      25.7581      0.757     34.037      0.000      24.274      27.242\n",
       "reviews_per_month                 -8.1270      0.779    -10.438      0.000      -9.653      -6.601\n",
       "calculated_host_listings_count    -0.6352      0.037    -17.265      0.000      -0.707      -0.563\n",
       "==============================================================================\n",
       "Omnibus:                     9443.316   Durbin-Watson:                   1.769\n",
       "Prob(Omnibus):                  0.000   Jarque-Bera (JB):         44409637.625\n",
       "Skew:                          12.771   Prob(JB):                         0.00\n",
       "Kurtosis:                     455.843   Cond. No.                         689.\n",
       "==============================================================================\n",
       "\n",
       "Warnings:\n",
       "[1] Standard Errors assume that the covariance matrix of the errors is correctly specified.\n",
       "\"\"\""
      ]
     },
     "execution_count": 35,
     "metadata": {},
     "output_type": "execute_result"
    }
   ],
   "source": [
    "#The model that is somewhere in between\n",
    "\n",
    "#host_total_listings_count\n",
    "#accommodates\n",
    "#reviews_per_month\n",
    "#calculated_host_listings_count\n",
    "m = smf.ols(formula = 'price ~ host_total_listings_count + accommodates + reviews_per_month + calculated_host_listings_count', data = data, missing='drop').fit()\n",
    "m.summary()"
   ]
  },
  {
   "cell_type": "code",
   "execution_count": 40,
   "metadata": {},
   "outputs": [
    {
     "data": {
      "text/html": [
       "<div>\n",
       "<style scoped>\n",
       "    .dataframe tbody tr th:only-of-type {\n",
       "        vertical-align: middle;\n",
       "    }\n",
       "\n",
       "    .dataframe tbody tr th {\n",
       "        vertical-align: top;\n",
       "    }\n",
       "\n",
       "    .dataframe thead th {\n",
       "        text-align: right;\n",
       "    }\n",
       "</style>\n",
       "<table border=\"1\" class=\"dataframe\">\n",
       "  <thead>\n",
       "    <tr style=\"text-align: right;\">\n",
       "      <th></th>\n",
       "      <th>price</th>\n",
       "      <th>host_total_listings_count</th>\n",
       "      <th>accommodates</th>\n",
       "      <th>reviews_per_month</th>\n",
       "      <th>pred_price</th>\n",
       "    </tr>\n",
       "  </thead>\n",
       "  <tbody>\n",
       "    <tr>\n",
       "      <th>0</th>\n",
       "      <td>296.0</td>\n",
       "      <td>2.0</td>\n",
       "      <td>9</td>\n",
       "      <td>0.21</td>\n",
       "      <td>295.819799</td>\n",
       "    </tr>\n",
       "    <tr>\n",
       "      <th>1</th>\n",
       "      <td>48.0</td>\n",
       "      <td>1.0</td>\n",
       "      <td>2</td>\n",
       "      <td>3.99</td>\n",
       "      <td>84.054024</td>\n",
       "    </tr>\n",
       "    <tr>\n",
       "      <th>2</th>\n",
       "      <td>62.0</td>\n",
       "      <td>8.0</td>\n",
       "      <td>2</td>\n",
       "      <td>1.29</td>\n",
       "      <td>104.187491</td>\n",
       "    </tr>\n",
       "    <tr>\n",
       "      <th>3</th>\n",
       "      <td>99.0</td>\n",
       "      <td>4.0</td>\n",
       "      <td>2</td>\n",
       "      <td>3.62</td>\n",
       "      <td>87.364191</td>\n",
       "    </tr>\n",
       "    <tr>\n",
       "      <th>4</th>\n",
       "      <td>165.0</td>\n",
       "      <td>2.0</td>\n",
       "      <td>4</td>\n",
       "      <td>0.39</td>\n",
       "      <td>161.778236</td>\n",
       "    </tr>\n",
       "  </tbody>\n",
       "</table>\n",
       "</div>"
      ],
      "text/plain": [
       "   price  host_total_listings_count  accommodates  reviews_per_month  \\\n",
       "0  296.0                        2.0             9               0.21   \n",
       "1   48.0                        1.0             2               3.99   \n",
       "2   62.0                        8.0             2               1.29   \n",
       "3   99.0                        4.0             2               3.62   \n",
       "4  165.0                        2.0             4               0.39   \n",
       "\n",
       "   pred_price  \n",
       "0  295.819799  \n",
       "1   84.054024  \n",
       "2  104.187491  \n",
       "3   87.364191  \n",
       "4  161.778236  "
      ]
     },
     "execution_count": 40,
     "metadata": {},
     "output_type": "execute_result"
    }
   ],
   "source": [
    "top_three = data[['price', 'host_total_listings_count', 'accommodates', 'reviews_per_month']]\n",
    "top_three = top_three.dropna()\n",
    "m = smf.ols(formula = 'price ~ host_total_listings_count + accommodates + reviews_per_month', data = top_three, missing='drop').fit()\n",
    "\n",
    "top_three['pred_price'] = m.predict()\n",
    "#ste.rmse(top_three.price, top_three.pred_price)\n",
    "top_three.head()"
   ]
  },
  {
   "cell_type": "code",
   "execution_count": null,
   "metadata": {},
   "outputs": [],
   "source": [
    "top_three = test_data[['price', 'host_total_listings_count', 'accommodates', 'reviews_per_month']]\n",
    "top_three = top_three.dropna()\n",
    "m = smf.ols(formula = 'price ~ host_total_listings_count + accommodates + reviews_per_month', data = top_three, missing='drop').fit()\n",
    "top_three['pred_price'] = m.predict()\n",
    "ste.rmse(top_three.price, top_three.pred_price)"
   ]
  },
  {
   "cell_type": "code",
   "execution_count": 34,
   "metadata": {},
   "outputs": [
    {
     "data": {
      "text/plain": [
       "131.36564043402362"
      ]
     },
     "execution_count": 34,
     "metadata": {},
     "output_type": "execute_result"
    }
   ],
   "source": [
    "test = data[['price', 'accommodates' ,'bedrooms', 'host_total_listings_count', 'guests_included' ,'room_type', 'bathrooms', 'cancellation_policy', 'reviews_per_month', 'number_of_reviews_ltm', 'calculated_host_listings_count', 'review_scores_checkin', 'instant_bookable', 'maximum_nights', 'host_is_superhost', 'security_deposit', 'review_scores_accuracy', 'review_scores_rating', 'longitude', 'host_response_time', 'review_scores_cleanliness', 'minimum_nights']]\n",
    "test = test.dropna()\n",
    "m = smf.ols(formula = 'price ~ host_total_listings_count + accommodates + bedrooms + guests_included + room_type + bathrooms + cancellation_policy + reviews_per_month + number_of_reviews_ltm + calculated_host_listings_count + review_scores_checkin + instant_bookable + maximum_nights + host_is_superhost + security_deposit + review_scores_accuracy + review_scores_rating + longitude + host_response_time + review_scores_cleanliness + minimum_nights' , data = test, missing='drop').fit()\n",
    "test['pred_price'] = m.predict()\n",
    "ste.rmse(test.price, test.pred_price)"
   ]
  }
 ],
 "metadata": {
  "kernelspec": {
   "display_name": "Python 3",
   "language": "python",
   "name": "python3"
  },
  "language_info": {
   "codemirror_mode": {
    "name": "ipython",
    "version": 3
   },
   "file_extension": ".py",
   "mimetype": "text/x-python",
   "name": "python",
   "nbconvert_exporter": "python",
   "pygments_lexer": "ipython3",
   "version": "3.7.3"
  }
 },
 "nbformat": 4,
 "nbformat_minor": 2
}
