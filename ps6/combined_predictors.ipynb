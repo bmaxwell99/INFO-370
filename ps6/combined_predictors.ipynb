{
 "cells": [
  {
   "cell_type": "code",
   "execution_count": 1,
   "metadata": {},
   "outputs": [],
   "source": [
    "%run initial_data_cleaning.ipynb\n",
    "\n",
    "import matplotlib.pyplot as plt\n",
    "import statsmodels.formula.api as smf"
   ]
  },
  {
   "cell_type": "code",
   "execution_count": 27,
   "metadata": {
    "scrolled": true
   },
   "outputs": [
    {
     "data": {
      "text/plain": [
       "0.25321135527907557"
      ]
     },
     "execution_count": 27,
     "metadata": {},
     "output_type": "execute_result"
    }
   ],
   "source": [
    "#host_total_listings_count\n",
    "#accommodates\n",
    "m = smf.ols(formula = 'price ~ host_total_listings_count + accommodates', data = data, missing='drop').fit()\n",
    "m.rsquared_adj"
   ]
  },
  {
   "cell_type": "code",
   "execution_count": 29,
   "metadata": {},
   "outputs": [
    {
     "data": {
      "text/plain": [
       "0.24947699198480489"
      ]
     },
     "execution_count": 29,
     "metadata": {},
     "output_type": "execute_result"
    }
   ],
   "source": [
    "#host_total_listings_count\n",
    "#accommodates\n",
    "#cleaning_fee\n",
    "m = smf.ols(formula = 'price ~ host_total_listings_count + accommodates + cleaning_fee', data = data, missing='drop').fit()\n",
    "m.rsquared_adj"
   ]
  },
  {
   "cell_type": "code",
   "execution_count": 28,
   "metadata": {},
   "outputs": [
    {
     "data": {
      "text/plain": [
       "0.25919851162749397"
      ]
     },
     "execution_count": 28,
     "metadata": {},
     "output_type": "execute_result"
    }
   ],
   "source": [
    "#host_total_listings_count\n",
    "#accommodates\n",
    "#bedrooms\n",
    "m = smf.ols(formula = 'price ~ host_total_listings_count + accommodates + bedrooms', data = data, missing='drop').fit()\n",
    "m.rsquared_adj"
   ]
  },
  {
   "cell_type": "code",
   "execution_count": 31,
   "metadata": {
    "scrolled": true
   },
   "outputs": [
    {
     "data": {
      "text/plain": [
       "0.263035036510071"
      ]
     },
     "execution_count": 31,
     "metadata": {},
     "output_type": "execute_result"
    }
   ],
   "source": [
    "#host_total_listings_count\n",
    "#accommodates\n",
    "#bedrooms\n",
    "#guests_included\n",
    "m = smf.ols(formula = 'price ~ host_total_listings_count + accommodates + bedrooms + guests_included', data = data, missing='drop').fit()\n",
    "m.rsquared_adj"
   ]
  },
  {
   "cell_type": "code",
   "execution_count": 37,
   "metadata": {},
   "outputs": [
    {
     "data": {
      "text/plain": [
       "0.27264432894983837"
      ]
     },
     "execution_count": 37,
     "metadata": {},
     "output_type": "execute_result"
    }
   ],
   "source": [
    "#host_total_listings_count\n",
    "#accommodates\n",
    "#bedrooms\n",
    "#guests_included\n",
    "#room_type\n",
    "m = smf.ols(formula = 'price ~ host_total_listings_count + accommodates + bedrooms + guests_included + room_type', data = data, missing='drop').fit()\n",
    "m.rsquared_adj"
   ]
  },
  {
   "cell_type": "code",
   "execution_count": 38,
   "metadata": {},
   "outputs": [
    {
     "data": {
      "text/plain": [
       "0.2725854088961115"
      ]
     },
     "execution_count": 38,
     "metadata": {},
     "output_type": "execute_result"
    }
   ],
   "source": [
    "#host_total_listings_count\n",
    "#accommodates\n",
    "#bedrooms\n",
    "#guests_included\n",
    "#room_type\n",
    "#beds\n",
    "m = smf.ols(formula = 'price ~ host_total_listings_count + accommodates + bedrooms + guests_included + room_type + beds', data = data, missing='drop').fit()\n",
    "m.rsquared_adj"
   ]
  },
  {
   "cell_type": "code",
   "execution_count": 44,
   "metadata": {},
   "outputs": [
    {
     "data": {
      "text/plain": [
       "0.2749387916321505"
      ]
     },
     "execution_count": 44,
     "metadata": {},
     "output_type": "execute_result"
    }
   ],
   "source": [
    "#host_total_listings_count\n",
    "#accommodates\n",
    "#bedrooms\n",
    "#guests_included\n",
    "#room_type\n",
    "#bathrooms\n",
    "m = smf.ols(formula = 'price ~ host_total_listings_count + accommodates + bedrooms + guests_included + room_type + bathrooms', data = data, missing='drop').fit()\n",
    "m.rsquared_adj"
   ]
  },
  {
   "cell_type": "code",
   "execution_count": 45,
   "metadata": {},
   "outputs": [
    {
     "data": {
      "text/plain": [
       "0.28312328006103904"
      ]
     },
     "execution_count": 45,
     "metadata": {},
     "output_type": "execute_result"
    }
   ],
   "source": [
    "#host_total_listings_count\n",
    "#accommodates\n",
    "#bedrooms\n",
    "#guests_included\n",
    "#room_type\n",
    "#bathrooms\n",
    "#cancellation_policy\n",
    "m = smf.ols(formula = 'price ~ host_total_listings_count + accommodates + bedrooms + guests_included + room_type + bathrooms + cancellation_policy', data = data, missing='drop').fit()\n",
    "m.rsquared_adj"
   ]
  },
  {
   "cell_type": "code",
   "execution_count": 46,
   "metadata": {},
   "outputs": [
    {
     "data": {
      "text/plain": [
       "0.4255261542431438"
      ]
     },
     "execution_count": 46,
     "metadata": {},
     "output_type": "execute_result"
    }
   ],
   "source": [
    "#host_total_listings_count\n",
    "#accommodates\n",
    "#bedrooms\n",
    "#guests_included\n",
    "#room_type\n",
    "#bathrooms\n",
    "#cancellation_policy\n",
    "#reviews_per_month\n",
    "m = smf.ols(formula = 'price ~ host_total_listings_count + accommodates + bedrooms + guests_included + room_type + bathrooms + cancellation_policy + reviews_per_month', data = data, missing='drop').fit()\n",
    "m.rsquared_adj"
   ]
  },
  {
   "cell_type": "code",
   "execution_count": 47,
   "metadata": {},
   "outputs": [
    {
     "data": {
      "text/plain": [
       "0.4254400483704237"
      ]
     },
     "execution_count": 47,
     "metadata": {},
     "output_type": "execute_result"
    }
   ],
   "source": [
    "#host_total_listings_count\n",
    "#accommodates\n",
    "#bedrooms\n",
    "#guests_included\n",
    "#room_type\n",
    "#bathrooms\n",
    "#cancellation_policy\n",
    "#reviews_per_month\n",
    "#number_of_reviews\n",
    "m = smf.ols(formula = 'price ~ host_total_listings_count + accommodates + bedrooms + guests_included + room_type + bathrooms + cancellation_policy + reviews_per_month + number_of_reviews', data = data, missing='drop').fit()\n",
    "m.rsquared_adj"
   ]
  },
  {
   "cell_type": "code",
   "execution_count": 48,
   "metadata": {},
   "outputs": [
    {
     "data": {
      "text/plain": [
       "0.42549518786684803"
      ]
     },
     "execution_count": 48,
     "metadata": {},
     "output_type": "execute_result"
    }
   ],
   "source": [
    "#host_total_listings_count\n",
    "#accommodates\n",
    "#bedrooms\n",
    "#guests_included\n",
    "#room_type\n",
    "#bathrooms\n",
    "#cancellation_policy\n",
    "#reviews_per_month\n",
    "#number_of_reviews_ltm\n",
    "m = smf.ols(formula = 'price ~ host_total_listings_count + accommodates + bedrooms + guests_included + room_type + bathrooms + cancellation_policy + reviews_per_month + number_of_reviews_ltm', data = data, missing='drop').fit()\n",
    "m.rsquared_adj"
   ]
  },
  {
   "cell_type": "code",
   "execution_count": 49,
   "metadata": {},
   "outputs": [
    {
     "data": {
      "text/plain": [
       "0.4755315073480707"
      ]
     },
     "execution_count": 49,
     "metadata": {},
     "output_type": "execute_result"
    }
   ],
   "source": [
    "#host_total_listings_count\n",
    "#accommodates\n",
    "#bedrooms\n",
    "#guests_included\n",
    "#room_type\n",
    "#bathrooms\n",
    "#cancellation_policy\n",
    "#reviews_per_month\n",
    "#number_of_reviews_ltm\n",
    "#calculated_host_listings_count\n",
    "m = smf.ols(formula = 'price ~ host_total_listings_count + accommodates + bedrooms + guests_included + room_type + bathrooms + cancellation_policy + reviews_per_month + number_of_reviews_ltm + calculated_host_listings_count', data = data, missing='drop').fit()\n",
    "m.rsquared_adj"
   ]
  },
  {
   "cell_type": "code",
   "execution_count": 50,
   "metadata": {},
   "outputs": [
    {
     "data": {
      "text/plain": [
       "0.47711933254226135"
      ]
     },
     "execution_count": 50,
     "metadata": {},
     "output_type": "execute_result"
    }
   ],
   "source": [
    "#host_total_listings_count\n",
    "#accommodates\n",
    "#bedrooms\n",
    "#guests_included\n",
    "#room_type\n",
    "#bathrooms\n",
    "#cancellation_policy\n",
    "#reviews_per_month\n",
    "#number_of_reviews_ltm\n",
    "#calculated_host_listings_count\n",
    "#review_scores_checkin\n",
    "m = smf.ols(formula = 'price ~ host_total_listings_count + accommodates + bedrooms + guests_included + room_type + bathrooms + cancellation_policy + reviews_per_month + number_of_reviews_ltm + calculated_host_listings_count + review_scores_checkin', data = data, missing='drop').fit()\n",
    "m.rsquared_adj"
   ]
  },
  {
   "cell_type": "code",
   "execution_count": 51,
   "metadata": {},
   "outputs": [
    {
     "data": {
      "text/plain": [
       "0.4796073535693419"
      ]
     },
     "execution_count": 51,
     "metadata": {},
     "output_type": "execute_result"
    }
   ],
   "source": [
    "#host_total_listings_count\n",
    "#accommodates\n",
    "#bedrooms\n",
    "#guests_included\n",
    "#room_type\n",
    "#bathrooms\n",
    "#cancellation_policy\n",
    "#reviews_per_month\n",
    "#number_of_reviews_ltm\n",
    "#calculated_host_listings_count\n",
    "#review_scores_checkin\n",
    "#instant_bookable\n",
    "m = smf.ols(formula = 'price ~ host_total_listings_count + accommodates + bedrooms + guests_included + room_type + bathrooms + cancellation_policy + reviews_per_month + number_of_reviews_ltm + calculated_host_listings_count + review_scores_checkin + instant_bookable', data = data, missing='drop').fit()\n",
    "m.rsquared_adj"
   ]
  },
  {
   "cell_type": "code",
   "execution_count": 52,
   "metadata": {},
   "outputs": [
    {
     "data": {
      "text/plain": [
       "0.4798560879174929"
      ]
     },
     "execution_count": 52,
     "metadata": {},
     "output_type": "execute_result"
    }
   ],
   "source": [
    "#host_total_listings_count\n",
    "#accommodates\n",
    "#bedrooms\n",
    "#guests_included\n",
    "#room_type\n",
    "#bathrooms\n",
    "#cancellation_policy\n",
    "#reviews_per_month\n",
    "#number_of_reviews_ltm\n",
    "#calculated_host_listings_count\n",
    "#review_scores_checkin\n",
    "#instant_bookable\n",
    "#maximum_nights\n",
    "m = smf.ols(formula = 'price ~ host_total_listings_count + accommodates + bedrooms + guests_included + room_type + bathrooms + cancellation_policy + reviews_per_month + number_of_reviews_ltm + calculated_host_listings_count + review_scores_checkin + instant_bookable + maximum_nights', data = data, missing='drop').fit()\n",
    "m.rsquared_adj"
   ]
  },
  {
   "cell_type": "code",
   "execution_count": 53,
   "metadata": {},
   "outputs": [
    {
     "data": {
      "text/plain": [
       "0.4801206545307255"
      ]
     },
     "execution_count": 53,
     "metadata": {},
     "output_type": "execute_result"
    }
   ],
   "source": [
    "#host_total_listings_count\n",
    "#accommodates\n",
    "#bedrooms\n",
    "#guests_included\n",
    "#room_type\n",
    "#bathrooms\n",
    "#cancellation_policy\n",
    "#reviews_per_month\n",
    "#number_of_reviews_ltm\n",
    "#calculated_host_listings_count\n",
    "#review_scores_checkin\n",
    "#instant_bookable\n",
    "#maximum_nights\n",
    "#host_is_superhost\n",
    "m = smf.ols(formula = 'price ~ host_total_listings_count + accommodates + bedrooms + guests_included + room_type + bathrooms + cancellation_policy + reviews_per_month + number_of_reviews_ltm + calculated_host_listings_count + review_scores_checkin + instant_bookable + maximum_nights + host_is_superhost' , data = data, missing='drop').fit()\n",
    "m.rsquared_adj"
   ]
  },
  {
   "cell_type": "code",
   "execution_count": 54,
   "metadata": {},
   "outputs": [
    {
     "data": {
      "text/plain": [
       "0.5026149192364424"
      ]
     },
     "execution_count": 54,
     "metadata": {},
     "output_type": "execute_result"
    }
   ],
   "source": [
    "#host_total_listings_count\n",
    "#accommodates\n",
    "#bedrooms\n",
    "#guests_included\n",
    "#room_type\n",
    "#bathrooms\n",
    "#cancellation_policy\n",
    "#reviews_per_month\n",
    "#number_of_reviews_ltm\n",
    "#calculated_host_listings_count\n",
    "#review_scores_checkin\n",
    "#instant_bookable\n",
    "#maximum_nights\n",
    "#host_is_superhost\n",
    "#security_deposit\n",
    "m = smf.ols(formula = 'price ~ host_total_listings_count + accommodates + bedrooms + guests_included + room_type + bathrooms + cancellation_policy + reviews_per_month + number_of_reviews_ltm + calculated_host_listings_count + review_scores_checkin + instant_bookable + maximum_nights + host_is_superhost + security_deposit' , data = data, missing='drop').fit()\n",
    "m.rsquared_adj"
   ]
  },
  {
   "cell_type": "code",
   "execution_count": 55,
   "metadata": {},
   "outputs": [
    {
     "data": {
      "text/plain": [
       "0.5025928240768345"
      ]
     },
     "execution_count": 55,
     "metadata": {},
     "output_type": "execute_result"
    }
   ],
   "source": [
    "#host_total_listings_count\n",
    "#accommodates\n",
    "#bedrooms\n",
    "#guests_included\n",
    "#room_type\n",
    "#bathrooms\n",
    "#cancellation_policy\n",
    "#reviews_per_month\n",
    "#number_of_reviews_ltm\n",
    "#calculated_host_listings_count\n",
    "#review_scores_checkin\n",
    "#instant_bookable\n",
    "#maximum_nights\n",
    "#host_is_superhost\n",
    "#security_deposit\n",
    "#review_scores_communication\n",
    "m = smf.ols(formula = 'price ~ host_total_listings_count + accommodates + bedrooms + guests_included + room_type + bathrooms + cancellation_policy + reviews_per_month + number_of_reviews_ltm + calculated_host_listings_count + review_scores_checkin + instant_bookable + maximum_nights + host_is_superhost + security_deposit + review_scores_communication' , data = data, missing='drop').fit()\n",
    "m.rsquared_adj"
   ]
  },
  {
   "cell_type": "code",
   "execution_count": 56,
   "metadata": {},
   "outputs": [
    {
     "data": {
      "text/plain": [
       "0.5025341580041994"
      ]
     },
     "execution_count": 56,
     "metadata": {},
     "output_type": "execute_result"
    }
   ],
   "source": [
    "#host_total_listings_count\n",
    "#accommodates\n",
    "#bedrooms\n",
    "#guests_included\n",
    "#room_type\n",
    "#bathrooms\n",
    "#cancellation_policy\n",
    "#reviews_per_month\n",
    "#number_of_reviews_ltm\n",
    "#calculated_host_listings_count\n",
    "#review_scores_checkin\n",
    "#instant_bookable\n",
    "#maximum_nights\n",
    "#host_is_superhost\n",
    "#security_deposit\n",
    "#review_scores_value\n",
    "m = smf.ols(formula = 'price ~ host_total_listings_count + accommodates + bedrooms + guests_included + room_type + bathrooms + cancellation_policy + reviews_per_month + number_of_reviews_ltm + calculated_host_listings_count + review_scores_checkin + instant_bookable + maximum_nights + host_is_superhost + security_deposit + review_scores_value' , data = data, missing='drop').fit()\n",
    "m.rsquared_adj"
   ]
  },
  {
   "cell_type": "code",
   "execution_count": 57,
   "metadata": {},
   "outputs": [
    {
     "data": {
      "text/plain": [
       "0.5025638092466338"
      ]
     },
     "execution_count": 57,
     "metadata": {},
     "output_type": "execute_result"
    }
   ],
   "source": [
    "#host_total_listings_count\n",
    "#accommodates\n",
    "#bedrooms\n",
    "#guests_included\n",
    "#room_type\n",
    "#bathrooms\n",
    "#cancellation_policy\n",
    "#reviews_per_month\n",
    "#number_of_reviews_ltm\n",
    "#calculated_host_listings_count\n",
    "#review_scores_checkin\n",
    "#instant_bookable\n",
    "#maximum_nights\n",
    "#host_is_superhost\n",
    "#security_deposit\n",
    "#review_scores_accuracy\n",
    "m = smf.ols(formula = 'price ~ host_total_listings_count + accommodates + bedrooms + guests_included + room_type + bathrooms + cancellation_policy + reviews_per_month + number_of_reviews_ltm + calculated_host_listings_count + review_scores_checkin + instant_bookable + maximum_nights + host_is_superhost + security_deposit + review_scores_accuracy' , data = data, missing='drop').fit()\n",
    "m.rsquared_adj"
   ]
  },
  {
   "cell_type": "code",
   "execution_count": 58,
   "metadata": {},
   "outputs": [
    {
     "data": {
      "text/plain": [
       "0.5030477364655574"
      ]
     },
     "execution_count": 58,
     "metadata": {},
     "output_type": "execute_result"
    }
   ],
   "source": [
    "#host_total_listings_count\n",
    "#accommodates\n",
    "#bedrooms\n",
    "#guests_included\n",
    "#room_type\n",
    "#bathrooms\n",
    "#cancellation_policy\n",
    "#reviews_per_month\n",
    "#number_of_reviews_ltm\n",
    "#calculated_host_listings_count\n",
    "#review_scores_checkin\n",
    "#instant_bookable\n",
    "#maximum_nights\n",
    "#host_is_superhost\n",
    "#security_deposit\n",
    "#review_scores_accuracy\n",
    "#review_scores_rating\n",
    "m = smf.ols(formula = 'price ~ host_total_listings_count + accommodates + bedrooms + guests_included + room_type + bathrooms + cancellation_policy + reviews_per_month + number_of_reviews_ltm + calculated_host_listings_count + review_scores_checkin + instant_bookable + maximum_nights + host_is_superhost + security_deposit + review_scores_accuracy + review_scores_rating' , data = data, missing='drop').fit()\n",
    "m.rsquared_adj"
   ]
  },
  {
   "cell_type": "code",
   "execution_count": 59,
   "metadata": {},
   "outputs": [
    {
     "data": {
      "text/plain": [
       "0.5036063604679895"
      ]
     },
     "execution_count": 59,
     "metadata": {},
     "output_type": "execute_result"
    }
   ],
   "source": [
    "#host_total_listings_count\n",
    "#accommodates\n",
    "#bedrooms\n",
    "#guests_included\n",
    "#room_type\n",
    "#bathrooms\n",
    "#cancellation_policy\n",
    "#reviews_per_month\n",
    "#number_of_reviews_ltm\n",
    "#calculated_host_listings_count\n",
    "#review_scores_checkin\n",
    "#instant_bookable\n",
    "#maximum_nights\n",
    "#host_is_superhost\n",
    "#security_deposit\n",
    "#review_scores_accuracy\n",
    "#review_scores_rating\n",
    "#longitude\n",
    "m = smf.ols(formula = 'price ~ host_total_listings_count + accommodates + bedrooms + guests_included + room_type + bathrooms + cancellation_policy + reviews_per_month + number_of_reviews_ltm + calculated_host_listings_count + review_scores_checkin + instant_bookable + maximum_nights + host_is_superhost + security_deposit + review_scores_accuracy + review_scores_rating + longitude' , data = data, missing='drop').fit()\n",
    "m.rsquared_adj"
   ]
  },
  {
   "cell_type": "code",
   "execution_count": 62,
   "metadata": {},
   "outputs": [
    {
     "data": {
      "text/plain": [
       "0.5036057231997397"
      ]
     },
     "execution_count": 62,
     "metadata": {},
     "output_type": "execute_result"
    }
   ],
   "source": [
    "#host_total_listings_count\n",
    "#accommodates\n",
    "#bedrooms\n",
    "#guests_included\n",
    "#room_type\n",
    "#bathrooms\n",
    "#cancellation_policy\n",
    "#reviews_per_month\n",
    "#number_of_reviews_ltm\n",
    "#calculated_host_listings_count\n",
    "#review_scores_checkin\n",
    "#instant_bookable\n",
    "#maximum_nights\n",
    "#host_is_superhost\n",
    "#security_deposit\n",
    "#review_scores_accuracy\n",
    "#review_scores_rating\n",
    "#longitude\n",
    "#latitude\n",
    "m = smf.ols(formula = 'price ~ host_total_listings_count + accommodates + bedrooms + guests_included + room_type + bathrooms + cancellation_policy + reviews_per_month + number_of_reviews_ltm + calculated_host_listings_count + review_scores_checkin + instant_bookable + maximum_nights + host_is_superhost + security_deposit + review_scores_accuracy + review_scores_rating + longitude + latitude' , data = data, missing='drop').fit()\n",
    "m.rsquared_adj"
   ]
  },
  {
   "cell_type": "code",
   "execution_count": 63,
   "metadata": {},
   "outputs": [
    {
     "data": {
      "text/plain": [
       "0.5080907894142734"
      ]
     },
     "execution_count": 63,
     "metadata": {},
     "output_type": "execute_result"
    }
   ],
   "source": [
    "#host_total_listings_count\n",
    "#accommodates\n",
    "#bedrooms\n",
    "#guests_included\n",
    "#room_type\n",
    "#bathrooms\n",
    "#cancellation_policy\n",
    "#reviews_per_month\n",
    "#number_of_reviews_ltm\n",
    "#calculated_host_listings_count\n",
    "#review_scores_checkin\n",
    "#instant_bookable\n",
    "#maximum_nights\n",
    "#host_is_superhost\n",
    "#security_deposit\n",
    "#review_scores_accuracy\n",
    "#review_scores_rating\n",
    "#longitude\n",
    "#host_response_time\n",
    "m = smf.ols(formula = 'price ~ host_total_listings_count + accommodates + bedrooms + guests_included + room_type + bathrooms + cancellation_policy + reviews_per_month + number_of_reviews_ltm + calculated_host_listings_count + review_scores_checkin + instant_bookable + maximum_nights + host_is_superhost + security_deposit + review_scores_accuracy + review_scores_rating + longitude + host_response_time' , data = data, missing='drop').fit()\n",
    "m.rsquared_adj"
   ]
  },
  {
   "cell_type": "code",
   "execution_count": 64,
   "metadata": {},
   "outputs": [
    {
     "data": {
      "text/plain": [
       "0.5085925839325065"
      ]
     },
     "execution_count": 64,
     "metadata": {},
     "output_type": "execute_result"
    }
   ],
   "source": [
    "#host_total_listings_count\n",
    "#accommodates\n",
    "#bedrooms\n",
    "#guests_included\n",
    "#room_type\n",
    "#bathrooms\n",
    "#cancellation_policy\n",
    "#reviews_per_month\n",
    "#number_of_reviews_ltm\n",
    "#calculated_host_listings_count\n",
    "#review_scores_checkin\n",
    "#instant_bookable\n",
    "#maximum_nights\n",
    "#host_is_superhost\n",
    "#security_deposit\n",
    "#review_scores_accuracy\n",
    "#review_scores_rating\n",
    "#longitude\n",
    "#host_response_time\n",
    "#review_scores_cleanliness\n",
    "m = smf.ols(formula = 'price ~ host_total_listings_count + accommodates + bedrooms + guests_included + room_type + bathrooms + cancellation_policy + reviews_per_month + number_of_reviews_ltm + calculated_host_listings_count + review_scores_checkin + instant_bookable + maximum_nights + host_is_superhost + security_deposit + review_scores_accuracy + review_scores_rating + longitude + host_response_time + review_scores_cleanliness' , data = data, missing='drop').fit()\n",
    "m.rsquared_adj"
   ]
  },
  {
   "cell_type": "code",
   "execution_count": 65,
   "metadata": {},
   "outputs": [
    {
     "data": {
      "text/plain": [
       "0.5149935068916318"
      ]
     },
     "execution_count": 65,
     "metadata": {},
     "output_type": "execute_result"
    }
   ],
   "source": [
    "#host_total_listings_count\n",
    "#accommodates\n",
    "#bedrooms\n",
    "#guests_included\n",
    "#room_type\n",
    "#bathrooms\n",
    "#cancellation_policy\n",
    "#reviews_per_month\n",
    "#number_of_reviews_ltm\n",
    "#calculated_host_listings_count\n",
    "#review_scores_checkin\n",
    "#instant_bookable\n",
    "#maximum_nights\n",
    "#host_is_superhost\n",
    "#security_deposit\n",
    "#review_scores_accuracy\n",
    "#review_scores_rating\n",
    "#longitude\n",
    "#host_response_time\n",
    "#review_scores_cleanliness\n",
    "#minimum_nights\n",
    "m = smf.ols(formula = 'price ~ host_total_listings_count + accommodates + bedrooms + guests_included + room_type + bathrooms + cancellation_policy + reviews_per_month + number_of_reviews_ltm + calculated_host_listings_count + review_scores_checkin + instant_bookable + maximum_nights + host_is_superhost + security_deposit + review_scores_accuracy + review_scores_rating + longitude + host_response_time + review_scores_cleanliness + minimum_nights' , data = data, missing='drop').fit()\n",
    "m.rsquared_adj"
   ]
  },
  {
   "cell_type": "code",
   "execution_count": 66,
   "metadata": {
    "scrolled": true
   },
   "outputs": [
    {
     "data": {
      "text/plain": [
       "0.5148899671908214"
      ]
     },
     "execution_count": 66,
     "metadata": {},
     "output_type": "execute_result"
    }
   ],
   "source": [
    "#host_total_listings_count\n",
    "#accommodates\n",
    "#bedrooms\n",
    "#guests_included\n",
    "#room_type\n",
    "#bathrooms\n",
    "#cancellation_policy\n",
    "#reviews_per_month\n",
    "#number_of_reviews_ltm\n",
    "#calculated_host_listings_count\n",
    "#review_scores_checkin\n",
    "#instant_bookable\n",
    "#maximum_nights\n",
    "#host_is_superhost\n",
    "#security_deposit\n",
    "#review_scores_accuracy\n",
    "#review_scores_rating\n",
    "#longitude\n",
    "#host_response_time\n",
    "#review_scores_cleanliness\n",
    "#minimum_nights\n",
    "#extra_people\n",
    "m = smf.ols(formula = 'price ~ host_total_listings_count + accommodates + bedrooms + guests_included + room_type + bathrooms + cancellation_policy + reviews_per_month + number_of_reviews_ltm + calculated_host_listings_count + review_scores_checkin + instant_bookable + maximum_nights + host_is_superhost + security_deposit + review_scores_accuracy + review_scores_rating + longitude + host_response_time + review_scores_cleanliness + minimum_nights + extra_people' , data = data, missing='drop').fit()\n",
    "m.rsquared_adj"
   ]
  },
  {
   "cell_type": "markdown",
   "metadata": {},
   "source": [
    "The Comprehensive model"
   ]
  },
  {
   "cell_type": "code",
   "execution_count": 67,
   "metadata": {
    "scrolled": false
   },
   "outputs": [
    {
     "data": {
      "text/html": [
       "<table class=\"simpletable\">\n",
       "<caption>OLS Regression Results</caption>\n",
       "<tr>\n",
       "  <th>Dep. Variable:</th>          <td>price</td>      <th>  R-squared:         </th> <td>   0.517</td> \n",
       "</tr>\n",
       "<tr>\n",
       "  <th>Model:</th>                   <td>OLS</td>       <th>  Adj. R-squared:    </th> <td>   0.515</td> \n",
       "</tr>\n",
       "<tr>\n",
       "  <th>Method:</th>             <td>Least Squares</td>  <th>  F-statistic:       </th> <td>   216.1</td> \n",
       "</tr>\n",
       "<tr>\n",
       "  <th>Date:</th>             <td>Sun, 01 Dec 2019</td> <th>  Prob (F-statistic):</th>  <td>  0.00</td>  \n",
       "</tr>\n",
       "<tr>\n",
       "  <th>Time:</th>                 <td>11:32:40</td>     <th>  Log-Likelihood:    </th> <td> -29137.</td> \n",
       "</tr>\n",
       "<tr>\n",
       "  <th>No. Observations:</th>      <td>  4661</td>      <th>  AIC:               </th> <td>5.832e+04</td>\n",
       "</tr>\n",
       "<tr>\n",
       "  <th>Df Residuals:</th>          <td>  4637</td>      <th>  BIC:               </th> <td>5.848e+04</td>\n",
       "</tr>\n",
       "<tr>\n",
       "  <th>Df Model:</th>              <td>    23</td>      <th>                     </th>     <td> </td>    \n",
       "</tr>\n",
       "<tr>\n",
       "  <th>Covariance Type:</th>      <td>nonrobust</td>    <th>                     </th>     <td> </td>    \n",
       "</tr>\n",
       "</table>\n",
       "<table class=\"simpletable\">\n",
       "<tr>\n",
       "                 <td></td>                   <th>coef</th>     <th>std err</th>      <th>t</th>      <th>P>|t|</th>  <th>[0.025</th>    <th>0.975]</th>  \n",
       "</tr>\n",
       "<tr>\n",
       "  <th>Intercept</th>                      <td>-1.674e+04</td> <td> 6999.731</td> <td>   -2.392</td> <td> 0.017</td> <td>-3.05e+04</td> <td>-3020.346</td>\n",
       "</tr>\n",
       "<tr>\n",
       "  <th>room_type[T.Hotel room]</th>        <td>  152.7379</td> <td>   14.900</td> <td>   10.251</td> <td> 0.000</td> <td>  123.528</td> <td>  181.948</td>\n",
       "</tr>\n",
       "<tr>\n",
       "  <th>room_type[T.Private room]</th>      <td>  -47.4736</td> <td>    5.505</td> <td>   -8.623</td> <td> 0.000</td> <td>  -58.267</td> <td>  -36.681</td>\n",
       "</tr>\n",
       "<tr>\n",
       "  <th>room_type[T.Shared room]</th>       <td> -105.9270</td> <td>   19.922</td> <td>   -5.317</td> <td> 0.000</td> <td> -144.983</td> <td>  -66.871</td>\n",
       "</tr>\n",
       "<tr>\n",
       "  <th>host_total_listings_count</th>      <td>    0.3857</td> <td>    0.008</td> <td>   48.629</td> <td> 0.000</td> <td>    0.370</td> <td>    0.401</td>\n",
       "</tr>\n",
       "<tr>\n",
       "  <th>accommodates</th>                   <td>    5.7623</td> <td>    1.534</td> <td>    3.755</td> <td> 0.000</td> <td>    2.754</td> <td>    8.770</td>\n",
       "</tr>\n",
       "<tr>\n",
       "  <th>bedrooms</th>                       <td>   17.2367</td> <td>    3.395</td> <td>    5.078</td> <td> 0.000</td> <td>   10.582</td> <td>   23.892</td>\n",
       "</tr>\n",
       "<tr>\n",
       "  <th>guests_included</th>                <td>    8.1325</td> <td>    1.380</td> <td>    5.893</td> <td> 0.000</td> <td>    5.427</td> <td>   10.838</td>\n",
       "</tr>\n",
       "<tr>\n",
       "  <th>bathrooms</th>                      <td>   34.8385</td> <td>    4.146</td> <td>    8.402</td> <td> 0.000</td> <td>   26.709</td> <td>   42.968</td>\n",
       "</tr>\n",
       "<tr>\n",
       "  <th>cancellation_policy</th>            <td>   12.5103</td> <td>    1.770</td> <td>    7.066</td> <td> 0.000</td> <td>    9.039</td> <td>   15.981</td>\n",
       "</tr>\n",
       "<tr>\n",
       "  <th>reviews_per_month</th>              <td>   -6.9449</td> <td>    1.496</td> <td>   -4.644</td> <td> 0.000</td> <td>   -9.877</td> <td>   -4.013</td>\n",
       "</tr>\n",
       "<tr>\n",
       "  <th>number_of_reviews_ltm</th>          <td>   -0.0180</td> <td>    0.137</td> <td>   -0.132</td> <td> 0.895</td> <td>   -0.286</td> <td>    0.250</td>\n",
       "</tr>\n",
       "<tr>\n",
       "  <th>calculated_host_listings_count</th> <td>   -0.9284</td> <td>    0.037</td> <td>  -24.889</td> <td> 0.000</td> <td>   -1.002</td> <td>   -0.855</td>\n",
       "</tr>\n",
       "<tr>\n",
       "  <th>review_scores_checkin</th>          <td>   -9.0118</td> <td>    3.818</td> <td>   -2.360</td> <td> 0.018</td> <td>  -16.497</td> <td>   -1.526</td>\n",
       "</tr>\n",
       "<tr>\n",
       "  <th>instant_bookable</th>               <td>   22.5643</td> <td>    4.097</td> <td>    5.507</td> <td> 0.000</td> <td>   14.532</td> <td>   30.597</td>\n",
       "</tr>\n",
       "<tr>\n",
       "  <th>maximum_nights</th>                 <td>    0.0051</td> <td>    0.004</td> <td>    1.420</td> <td> 0.156</td> <td>   -0.002</td> <td>    0.012</td>\n",
       "</tr>\n",
       "<tr>\n",
       "  <th>host_is_superhost</th>              <td>  -13.2231</td> <td>    4.469</td> <td>   -2.959</td> <td> 0.003</td> <td>  -21.985</td> <td>   -4.461</td>\n",
       "</tr>\n",
       "<tr>\n",
       "  <th>security_deposit</th>               <td>    0.0161</td> <td>    0.005</td> <td>    3.047</td> <td> 0.002</td> <td>    0.006</td> <td>    0.026</td>\n",
       "</tr>\n",
       "<tr>\n",
       "  <th>review_scores_accuracy</th>         <td>   -8.1914</td> <td>    3.804</td> <td>   -2.153</td> <td> 0.031</td> <td>  -15.650</td> <td>   -0.733</td>\n",
       "</tr>\n",
       "<tr>\n",
       "  <th>review_scores_rating</th>           <td>    0.4645</td> <td>    0.471</td> <td>    0.987</td> <td> 0.324</td> <td>   -0.458</td> <td>    1.387</td>\n",
       "</tr>\n",
       "<tr>\n",
       "  <th>longitude</th>                      <td> -137.7255</td> <td>   57.227</td> <td>   -2.407</td> <td> 0.016</td> <td> -249.917</td> <td>  -25.534</td>\n",
       "</tr>\n",
       "<tr>\n",
       "  <th>host_response_time</th>             <td>    3.5122</td> <td>    4.113</td> <td>    0.854</td> <td> 0.393</td> <td>   -4.551</td> <td>   11.575</td>\n",
       "</tr>\n",
       "<tr>\n",
       "  <th>review_scores_cleanliness</th>      <td>    6.7721</td> <td>    3.441</td> <td>    1.968</td> <td> 0.049</td> <td>    0.025</td> <td>   13.519</td>\n",
       "</tr>\n",
       "<tr>\n",
       "  <th>minimum_nights</th>                 <td>   -1.7244</td> <td>    0.219</td> <td>   -7.887</td> <td> 0.000</td> <td>   -2.153</td> <td>   -1.296</td>\n",
       "</tr>\n",
       "</table>\n",
       "<table class=\"simpletable\">\n",
       "<tr>\n",
       "  <th>Omnibus:</th>       <td>8841.867</td> <th>  Durbin-Watson:     </th>   <td>   1.729</td>  \n",
       "</tr>\n",
       "<tr>\n",
       "  <th>Prob(Omnibus):</th>  <td> 0.000</td>  <th>  Jarque-Bera (JB):  </th> <td>50060908.716</td>\n",
       "</tr>\n",
       "<tr>\n",
       "  <th>Skew:</th>           <td>13.908</td>  <th>  Prob(JB):          </th>   <td>    0.00</td>  \n",
       "</tr>\n",
       "<tr>\n",
       "  <th>Kurtosis:</th>       <td>509.947</td> <th>  Cond. No.          </th>   <td>3.21e+06</td>  \n",
       "</tr>\n",
       "</table><br/><br/>Warnings:<br/>[1] Standard Errors assume that the covariance matrix of the errors is correctly specified.<br/>[2] The condition number is large, 3.21e+06. This might indicate that there are<br/>strong multicollinearity or other numerical problems."
      ],
      "text/plain": [
       "<class 'statsmodels.iolib.summary.Summary'>\n",
       "\"\"\"\n",
       "                            OLS Regression Results                            \n",
       "==============================================================================\n",
       "Dep. Variable:                  price   R-squared:                       0.517\n",
       "Model:                            OLS   Adj. R-squared:                  0.515\n",
       "Method:                 Least Squares   F-statistic:                     216.1\n",
       "Date:                Sun, 01 Dec 2019   Prob (F-statistic):               0.00\n",
       "Time:                        11:32:40   Log-Likelihood:                -29137.\n",
       "No. Observations:                4661   AIC:                         5.832e+04\n",
       "Df Residuals:                    4637   BIC:                         5.848e+04\n",
       "Df Model:                          23                                         \n",
       "Covariance Type:            nonrobust                                         \n",
       "==================================================================================================\n",
       "                                     coef    std err          t      P>|t|      [0.025      0.975]\n",
       "--------------------------------------------------------------------------------------------------\n",
       "Intercept                      -1.674e+04   6999.731     -2.392      0.017   -3.05e+04   -3020.346\n",
       "room_type[T.Hotel room]          152.7379     14.900     10.251      0.000     123.528     181.948\n",
       "room_type[T.Private room]        -47.4736      5.505     -8.623      0.000     -58.267     -36.681\n",
       "room_type[T.Shared room]        -105.9270     19.922     -5.317      0.000    -144.983     -66.871\n",
       "host_total_listings_count          0.3857      0.008     48.629      0.000       0.370       0.401\n",
       "accommodates                       5.7623      1.534      3.755      0.000       2.754       8.770\n",
       "bedrooms                          17.2367      3.395      5.078      0.000      10.582      23.892\n",
       "guests_included                    8.1325      1.380      5.893      0.000       5.427      10.838\n",
       "bathrooms                         34.8385      4.146      8.402      0.000      26.709      42.968\n",
       "cancellation_policy               12.5103      1.770      7.066      0.000       9.039      15.981\n",
       "reviews_per_month                 -6.9449      1.496     -4.644      0.000      -9.877      -4.013\n",
       "number_of_reviews_ltm             -0.0180      0.137     -0.132      0.895      -0.286       0.250\n",
       "calculated_host_listings_count    -0.9284      0.037    -24.889      0.000      -1.002      -0.855\n",
       "review_scores_checkin             -9.0118      3.818     -2.360      0.018     -16.497      -1.526\n",
       "instant_bookable                  22.5643      4.097      5.507      0.000      14.532      30.597\n",
       "maximum_nights                     0.0051      0.004      1.420      0.156      -0.002       0.012\n",
       "host_is_superhost                -13.2231      4.469     -2.959      0.003     -21.985      -4.461\n",
       "security_deposit                   0.0161      0.005      3.047      0.002       0.006       0.026\n",
       "review_scores_accuracy            -8.1914      3.804     -2.153      0.031     -15.650      -0.733\n",
       "review_scores_rating               0.4645      0.471      0.987      0.324      -0.458       1.387\n",
       "longitude                       -137.7255     57.227     -2.407      0.016    -249.917     -25.534\n",
       "host_response_time                 3.5122      4.113      0.854      0.393      -4.551      11.575\n",
       "review_scores_cleanliness          6.7721      3.441      1.968      0.049       0.025      13.519\n",
       "minimum_nights                    -1.7244      0.219     -7.887      0.000      -2.153      -1.296\n",
       "==============================================================================\n",
       "Omnibus:                     8841.867   Durbin-Watson:                   1.729\n",
       "Prob(Omnibus):                  0.000   Jarque-Bera (JB):         50060908.716\n",
       "Skew:                          13.908   Prob(JB):                         0.00\n",
       "Kurtosis:                     509.947   Cond. No.                     3.21e+06\n",
       "==============================================================================\n",
       "\n",
       "Warnings:\n",
       "[1] Standard Errors assume that the covariance matrix of the errors is correctly specified.\n",
       "[2] The condition number is large, 3.21e+06. This might indicate that there are\n",
       "strong multicollinearity or other numerical problems.\n",
       "\"\"\""
      ]
     },
     "execution_count": 67,
     "metadata": {},
     "output_type": "execute_result"
    }
   ],
   "source": [
    "#host_total_listings_count\n",
    "#accommodates\n",
    "#bedrooms\n",
    "#guests_included\n",
    "#room_type\n",
    "#bathrooms\n",
    "#cancellation_policy\n",
    "#reviews_per_month\n",
    "#number_of_reviews_ltm\n",
    "#calculated_host_listings_count\n",
    "#review_scores_checkin\n",
    "#instant_bookable\n",
    "#maximum_nights\n",
    "#host_is_superhost\n",
    "#security_deposit\n",
    "#review_scores_accuracy\n",
    "#review_scores_rating\n",
    "#longitude\n",
    "#host_response_time\n",
    "#review_scores_cleanliness\n",
    "#minimum_nights\n",
    "m = smf.ols(formula = 'price ~ host_total_listings_count + accommodates + bedrooms + guests_included + room_type + bathrooms + cancellation_policy + reviews_per_month + number_of_reviews_ltm + calculated_host_listings_count + review_scores_checkin + instant_bookable + maximum_nights + host_is_superhost + security_deposit + review_scores_accuracy + review_scores_rating + longitude + host_response_time + review_scores_cleanliness + minimum_nights' , data = data, missing='drop').fit()\n",
    "m.summary()"
   ]
  },
  {
   "cell_type": "markdown",
   "metadata": {},
   "source": [
    "The four biggest contributors to adj r^2"
   ]
  },
  {
   "cell_type": "code",
   "execution_count": 68,
   "metadata": {},
   "outputs": [
    {
     "data": {
      "text/html": [
       "<table class=\"simpletable\">\n",
       "<caption>OLS Regression Results</caption>\n",
       "<tr>\n",
       "  <th>Dep. Variable:</th>          <td>price</td>      <th>  R-squared:         </th> <td>   0.429</td> \n",
       "</tr>\n",
       "<tr>\n",
       "  <th>Model:</th>                   <td>OLS</td>       <th>  Adj. R-squared:    </th> <td>   0.428</td> \n",
       "</tr>\n",
       "<tr>\n",
       "  <th>Method:</th>             <td>Least Squares</td>  <th>  F-statistic:       </th> <td>   1210.</td> \n",
       "</tr>\n",
       "<tr>\n",
       "  <th>Date:</th>             <td>Sun, 01 Dec 2019</td> <th>  Prob (F-statistic):</th>  <td>  0.00</td>  \n",
       "</tr>\n",
       "<tr>\n",
       "  <th>Time:</th>                 <td>11:41:52</td>     <th>  Log-Likelihood:    </th> <td> -40411.</td> \n",
       "</tr>\n",
       "<tr>\n",
       "  <th>No. Observations:</th>      <td>  6452</td>      <th>  AIC:               </th> <td>8.083e+04</td>\n",
       "</tr>\n",
       "<tr>\n",
       "  <th>Df Residuals:</th>          <td>  6447</td>      <th>  BIC:               </th> <td>8.087e+04</td>\n",
       "</tr>\n",
       "<tr>\n",
       "  <th>Df Model:</th>              <td>     4</td>      <th>                     </th>     <td> </td>    \n",
       "</tr>\n",
       "<tr>\n",
       "  <th>Covariance Type:</th>      <td>nonrobust</td>    <th>                     </th>     <td> </td>    \n",
       "</tr>\n",
       "</table>\n",
       "<table class=\"simpletable\">\n",
       "<tr>\n",
       "                 <td></td>                   <th>coef</th>     <th>std err</th>      <th>t</th>      <th>P>|t|</th>  <th>[0.025</th>    <th>0.975]</th>  \n",
       "</tr>\n",
       "<tr>\n",
       "  <th>Intercept</th>                      <td>   68.4219</td> <td>    3.567</td> <td>   19.182</td> <td> 0.000</td> <td>   61.429</td> <td>   75.414</td>\n",
       "</tr>\n",
       "<tr>\n",
       "  <th>host_total_listings_count</th>      <td>    0.3839</td> <td>    0.008</td> <td>   50.830</td> <td> 0.000</td> <td>    0.369</td> <td>    0.399</td>\n",
       "</tr>\n",
       "<tr>\n",
       "  <th>accommodates</th>                   <td>   26.4686</td> <td>    0.683</td> <td>   38.740</td> <td> 0.000</td> <td>   25.129</td> <td>   27.808</td>\n",
       "</tr>\n",
       "<tr>\n",
       "  <th>reviews_per_month</th>              <td>   -8.0465</td> <td>    0.702</td> <td>  -11.458</td> <td> 0.000</td> <td>   -9.423</td> <td>   -6.670</td>\n",
       "</tr>\n",
       "<tr>\n",
       "  <th>calculated_host_listings_count</th> <td>   -0.6763</td> <td>    0.033</td> <td>  -20.379</td> <td> 0.000</td> <td>   -0.741</td> <td>   -0.611</td>\n",
       "</tr>\n",
       "</table>\n",
       "<table class=\"simpletable\">\n",
       "<tr>\n",
       "  <th>Omnibus:</th>       <td>11434.961</td> <th>  Durbin-Watson:     </th>   <td>   1.723</td>  \n",
       "</tr>\n",
       "<tr>\n",
       "  <th>Prob(Omnibus):</th>  <td> 0.000</td>   <th>  Jarque-Bera (JB):  </th> <td>42462812.148</td>\n",
       "</tr>\n",
       "<tr>\n",
       "  <th>Skew:</th>           <td>12.119</td>   <th>  Prob(JB):          </th>   <td>    0.00</td>  \n",
       "</tr>\n",
       "<tr>\n",
       "  <th>Kurtosis:</th>       <td>399.692</td>  <th>  Cond. No.          </th>   <td>    691.</td>  \n",
       "</tr>\n",
       "</table><br/><br/>Warnings:<br/>[1] Standard Errors assume that the covariance matrix of the errors is correctly specified."
      ],
      "text/plain": [
       "<class 'statsmodels.iolib.summary.Summary'>\n",
       "\"\"\"\n",
       "                            OLS Regression Results                            \n",
       "==============================================================================\n",
       "Dep. Variable:                  price   R-squared:                       0.429\n",
       "Model:                            OLS   Adj. R-squared:                  0.428\n",
       "Method:                 Least Squares   F-statistic:                     1210.\n",
       "Date:                Sun, 01 Dec 2019   Prob (F-statistic):               0.00\n",
       "Time:                        11:41:52   Log-Likelihood:                -40411.\n",
       "No. Observations:                6452   AIC:                         8.083e+04\n",
       "Df Residuals:                    6447   BIC:                         8.087e+04\n",
       "Df Model:                           4                                         \n",
       "Covariance Type:            nonrobust                                         \n",
       "==================================================================================================\n",
       "                                     coef    std err          t      P>|t|      [0.025      0.975]\n",
       "--------------------------------------------------------------------------------------------------\n",
       "Intercept                         68.4219      3.567     19.182      0.000      61.429      75.414\n",
       "host_total_listings_count          0.3839      0.008     50.830      0.000       0.369       0.399\n",
       "accommodates                      26.4686      0.683     38.740      0.000      25.129      27.808\n",
       "reviews_per_month                 -8.0465      0.702    -11.458      0.000      -9.423      -6.670\n",
       "calculated_host_listings_count    -0.6763      0.033    -20.379      0.000      -0.741      -0.611\n",
       "==============================================================================\n",
       "Omnibus:                    11434.961   Durbin-Watson:                   1.723\n",
       "Prob(Omnibus):                  0.000   Jarque-Bera (JB):         42462812.148\n",
       "Skew:                          12.119   Prob(JB):                         0.00\n",
       "Kurtosis:                     399.692   Cond. No.                         691.\n",
       "==============================================================================\n",
       "\n",
       "Warnings:\n",
       "[1] Standard Errors assume that the covariance matrix of the errors is correctly specified.\n",
       "\"\"\""
      ]
     },
     "execution_count": 68,
     "metadata": {},
     "output_type": "execute_result"
    }
   ],
   "source": [
    "#host_total_listings_count\n",
    "#accommodates\n",
    "#reviews_per_month\n",
    "#calculated_host_listings_count\n",
    "m = smf.ols(formula = 'price ~ host_total_listings_count + accommodates + reviews_per_month + calculated_host_listings_count', data = data, missing='drop').fit()\n",
    "m.summary()"
   ]
  }
 ],
 "metadata": {
  "kernelspec": {
   "display_name": "Python 3",
   "language": "python",
   "name": "python3"
  },
  "language_info": {
   "codemirror_mode": {
    "name": "ipython",
    "version": 3
   },
   "file_extension": ".py",
   "mimetype": "text/x-python",
   "name": "python",
   "nbconvert_exporter": "python",
   "pygments_lexer": "ipython3",
   "version": "3.7.4"
  }
 },
 "nbformat": 4,
 "nbformat_minor": 2
}
