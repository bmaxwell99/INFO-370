{
 "cells": [
  {
   "cell_type": "code",
   "execution_count": 1,
   "metadata": {},
   "outputs": [],
   "source": [
    "%run Cleaning.ipynb\n",
    "import sklearn.linear_model as slm\n",
    "from statistics import mean \n"
   ]
  },
  {
   "cell_type": "code",
   "execution_count": 2,
   "metadata": {},
   "outputs": [],
   "source": [
    "#helper function\n",
    "def testVStrain(x):\n",
    "    if x >= .80:\n",
    "        r = 'test'\n",
    "    else:\n",
    "        r = 'train'\n",
    "    return(r)"
   ]
  },
  {
   "cell_type": "code",
   "execution_count": 3,
   "metadata": {},
   "outputs": [],
   "source": [
    "full_data['train_test'] = np.random.uniform(size = 7540)\n",
    "full_data['train_test'] = full_data.train_test.apply(lambda x: testVStrain(x))"
   ]
  },
  {
   "cell_type": "code",
   "execution_count": 4,
   "metadata": {},
   "outputs": [],
   "source": [
    "def repeat(df):\n",
    "    \n",
    "    #randomly sorts 80% of the rows into test and 20% into train\n",
    "    df['train_test'] = np.random.uniform(size = len(df.index))\n",
    "    df['train_test'] = df.train_test.apply(lambda x: testVStrain(x))\n",
    "    \n",
    "    #seperates the training set from the test set\n",
    "    train = df[df['train_test'] == 'train']\n",
    "    test = df[df['train_test'] == 'test']\n",
    "\n",
    "    #preps input and output for training with sklearn\n",
    "    X_train = np.stack((train.host_total_listings_count, train.accommodates, train.reviews_per_month ),axis = 1)\n",
    "    Y_train = train.price\n",
    "\n",
    "    #constructs the training model\n",
    "    m = slm.LinearRegression().fit(X_train, Y_train)\n",
    "\n",
    "    #preps the input and output for the validation and rmse \n",
    "    X_test = np.stack((test.host_total_listings_count, test.accommodates, test.reviews_per_month ),axis = 1)\n",
    "    Y_test = test.price\n",
    "\n",
    "    #calculates RMSE\n",
    "    yhat = m.predict(X_test)\n",
    "    rmse = np.sqrt(np.mean((yhat - Y_test)**2))\n",
    "    \n",
    "    return(rmse)"
   ]
  },
  {
   "cell_type": "code",
   "execution_count": 5,
   "metadata": {},
   "outputs": [],
   "source": [
    "def rmse(df, n):\n",
    "    #creates storage array\n",
    "    rmse_array = []\n",
    "    \n",
    "    #adds the rmse to the array n times\n",
    "    for i in range(n):\n",
    "        rmse_array.append(repeat(df))\n",
    "    \n",
    "    #converts array to DF before returning\n",
    "    r = pd.DataFrame(rmse_array)\n",
    "    return(r)"
   ]
  },
  {
   "cell_type": "code",
   "execution_count": 6,
   "metadata": {},
   "outputs": [
    {
     "data": {
      "text/html": [
       "<div>\n",
       "<style scoped>\n",
       "    .dataframe tbody tr th:only-of-type {\n",
       "        vertical-align: middle;\n",
       "    }\n",
       "\n",
       "    .dataframe tbody tr th {\n",
       "        vertical-align: top;\n",
       "    }\n",
       "\n",
       "    .dataframe thead th {\n",
       "        text-align: right;\n",
       "    }\n",
       "</style>\n",
       "<table border=\"1\" class=\"dataframe\">\n",
       "  <thead>\n",
       "    <tr style=\"text-align: right;\">\n",
       "      <th></th>\n",
       "      <th>0</th>\n",
       "    </tr>\n",
       "  </thead>\n",
       "  <tbody>\n",
       "    <tr>\n",
       "      <td>count</td>\n",
       "      <td>10000.000000</td>\n",
       "    </tr>\n",
       "    <tr>\n",
       "      <td>mean</td>\n",
       "      <td>128.262833</td>\n",
       "    </tr>\n",
       "    <tr>\n",
       "      <td>std</td>\n",
       "      <td>27.997552</td>\n",
       "    </tr>\n",
       "    <tr>\n",
       "      <td>min</td>\n",
       "      <td>90.868959</td>\n",
       "    </tr>\n",
       "    <tr>\n",
       "      <td>25%</td>\n",
       "      <td>108.229634</td>\n",
       "    </tr>\n",
       "    <tr>\n",
       "      <td>50%</td>\n",
       "      <td>114.936365</td>\n",
       "    </tr>\n",
       "    <tr>\n",
       "      <td>75%</td>\n",
       "      <td>138.980067</td>\n",
       "    </tr>\n",
       "    <tr>\n",
       "      <td>max</td>\n",
       "      <td>209.629548</td>\n",
       "    </tr>\n",
       "  </tbody>\n",
       "</table>\n",
       "</div>"
      ],
      "text/plain": [
       "                  0\n",
       "count  10000.000000\n",
       "mean     128.262833\n",
       "std       27.997552\n",
       "min       90.868959\n",
       "25%      108.229634\n",
       "50%      114.936365\n",
       "75%      138.980067\n",
       "max      209.629548"
      ]
     },
     "execution_count": 6,
     "metadata": {},
     "output_type": "execute_result"
    }
   ],
   "source": [
    "df = full_data[['price', 'host_total_listings_count', 'accommodates', 'reviews_per_month']].dropna()\n",
    "\n",
    "top_three = rmse(df, 10000)\n",
    "top_three.describe()"
   ]
  },
  {
   "cell_type": "code",
   "execution_count": 7,
   "metadata": {
    "scrolled": true
   },
   "outputs": [
    {
     "data": {
      "text/html": [
       "<div>\n",
       "<style scoped>\n",
       "    .dataframe tbody tr th:only-of-type {\n",
       "        vertical-align: middle;\n",
       "    }\n",
       "\n",
       "    .dataframe tbody tr th {\n",
       "        vertical-align: top;\n",
       "    }\n",
       "\n",
       "    .dataframe thead th {\n",
       "        text-align: right;\n",
       "    }\n",
       "</style>\n",
       "<table border=\"1\" class=\"dataframe\">\n",
       "  <thead>\n",
       "    <tr style=\"text-align: right;\">\n",
       "      <th></th>\n",
       "      <th>0</th>\n",
       "    </tr>\n",
       "  </thead>\n",
       "  <tbody>\n",
       "    <tr>\n",
       "      <td>count</td>\n",
       "      <td>10000.000000</td>\n",
       "    </tr>\n",
       "    <tr>\n",
       "      <td>mean</td>\n",
       "      <td>135.682623</td>\n",
       "    </tr>\n",
       "    <tr>\n",
       "      <td>std</td>\n",
       "      <td>33.760239</td>\n",
       "    </tr>\n",
       "    <tr>\n",
       "      <td>min</td>\n",
       "      <td>91.311171</td>\n",
       "    </tr>\n",
       "    <tr>\n",
       "      <td>25%</td>\n",
       "      <td>115.088887</td>\n",
       "    </tr>\n",
       "    <tr>\n",
       "      <td>50%</td>\n",
       "      <td>121.211808</td>\n",
       "    </tr>\n",
       "    <tr>\n",
       "      <td>75%</td>\n",
       "      <td>131.142360</td>\n",
       "    </tr>\n",
       "    <tr>\n",
       "      <td>max</td>\n",
       "      <td>216.320433</td>\n",
       "    </tr>\n",
       "  </tbody>\n",
       "</table>\n",
       "</div>"
      ],
      "text/plain": [
       "                  0\n",
       "count  10000.000000\n",
       "mean     135.682623\n",
       "std       33.760239\n",
       "min       91.311171\n",
       "25%      115.088887\n",
       "50%      121.211808\n",
       "75%      131.142360\n",
       "max      216.320433"
      ]
     },
     "execution_count": 7,
     "metadata": {},
     "output_type": "execute_result"
    }
   ],
   "source": [
    "df = full_data[['price', 'accommodates' ,'bedrooms', 'host_total_listings_count', 'guests_included' ,'room_type', 'bathrooms', 'cancellation_policy', 'reviews_per_month', 'number_of_reviews_ltm', 'calculated_host_listings_count', 'review_scores_checkin', 'instant_bookable', 'maximum_nights', 'host_is_superhost', 'security_deposit', 'review_scores_accuracy', 'review_scores_rating', 'longitude', 'host_response_time', 'review_scores_cleanliness', 'minimum_nights']].dropna()\n",
    "\n",
    "full_model = rmse(df, 10000)\n",
    "full_model.describe()"
   ]
  },
  {
   "cell_type": "code",
   "execution_count": 8,
   "metadata": {},
   "outputs": [
    {
     "data": {
      "text/html": [
       "<div>\n",
       "<style scoped>\n",
       "    .dataframe tbody tr th:only-of-type {\n",
       "        vertical-align: middle;\n",
       "    }\n",
       "\n",
       "    .dataframe tbody tr th {\n",
       "        vertical-align: top;\n",
       "    }\n",
       "\n",
       "    .dataframe thead th {\n",
       "        text-align: right;\n",
       "    }\n",
       "</style>\n",
       "<table border=\"1\" class=\"dataframe\">\n",
       "  <thead>\n",
       "    <tr style=\"text-align: right;\">\n",
       "      <th></th>\n",
       "      <th>0</th>\n",
       "    </tr>\n",
       "  </thead>\n",
       "  <tbody>\n",
       "    <tr>\n",
       "      <td>count</td>\n",
       "      <td>10000.000000</td>\n",
       "    </tr>\n",
       "    <tr>\n",
       "      <td>mean</td>\n",
       "      <td>131.812854</td>\n",
       "    </tr>\n",
       "    <tr>\n",
       "      <td>std</td>\n",
       "      <td>30.402879</td>\n",
       "    </tr>\n",
       "    <tr>\n",
       "      <td>min</td>\n",
       "      <td>92.820454</td>\n",
       "    </tr>\n",
       "    <tr>\n",
       "      <td>25%</td>\n",
       "      <td>113.171930</td>\n",
       "    </tr>\n",
       "    <tr>\n",
       "      <td>50%</td>\n",
       "      <td>118.677535</td>\n",
       "    </tr>\n",
       "    <tr>\n",
       "      <td>75%</td>\n",
       "      <td>128.043760</td>\n",
       "    </tr>\n",
       "    <tr>\n",
       "      <td>max</td>\n",
       "      <td>205.733975</td>\n",
       "    </tr>\n",
       "  </tbody>\n",
       "</table>\n",
       "</div>"
      ],
      "text/plain": [
       "                  0\n",
       "count  10000.000000\n",
       "mean     131.812854\n",
       "std       30.402879\n",
       "min       92.820454\n",
       "25%      113.171930\n",
       "50%      118.677535\n",
       "75%      128.043760\n",
       "max      205.733975"
      ]
     },
     "execution_count": 8,
     "metadata": {},
     "output_type": "execute_result"
    }
   ],
   "source": [
    "df = full_data[['price', 'host_total_listings_count', 'accommodates', 'reviews_per_month', 'calculated_host_listings_count' ,'security_deposit']].dropna()\n",
    "\n",
    "full_model = rmse(df, 10000)\n",
    "full_model.describe()"
   ]
  }
 ],
 "metadata": {
  "kernelspec": {
   "display_name": "Python 3",
   "language": "python",
   "name": "python3"
  },
  "language_info": {
   "codemirror_mode": {
    "name": "ipython",
    "version": 3
   },
   "file_extension": ".py",
   "mimetype": "text/x-python",
   "name": "python",
   "nbconvert_exporter": "python",
   "pygments_lexer": "ipython3",
   "version": "3.7.4"
  }
 },
 "nbformat": 4,
 "nbformat_minor": 2
}
