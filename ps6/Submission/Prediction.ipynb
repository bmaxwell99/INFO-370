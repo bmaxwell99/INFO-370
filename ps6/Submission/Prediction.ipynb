{
 "cells": [
  {
   "cell_type": "code",
   "execution_count": 1,
   "metadata": {},
   "outputs": [],
   "source": [
    "%run Cleaning.ipynb\n",
    "\n",
    "import statsmodels.formula.api as smf\n",
    "import sklearn.linear_model as slm\n",
    "from sklearn.model_selection import train_test_split\n"
   ]
  },
  {
   "cell_type": "code",
   "execution_count": 2,
   "metadata": {},
   "outputs": [],
   "source": [
    "def repeat(df, model):\n",
    "    train, test = train_test_split(full_data, test_size = .2)\n",
    "\n",
    "    m = smf.ols(formula = model, data = train, missing='drop').fit()\n",
    "    \n",
    "    #calculates RMSE\n",
    "    yhat = m.predict(test)\n",
    "    rmse = np.sqrt(np.mean((yhat - test.price)**2))\n",
    "    \n",
    "    return(rmse)"
   ]
  },
  {
   "cell_type": "code",
   "execution_count": 3,
   "metadata": {},
   "outputs": [],
   "source": [
    "def rmse_repeat(df, model, n):\n",
    "    #creates storage array\n",
    "    rmse_array = []\n",
    "    \n",
    "    #adds the rmse to the array n times\n",
    "    for i in range(n):\n",
    "        rmse_array.append(repeat(df, model))\n",
    "    \n",
    "    #converts array to DF before returning\n",
    "    r = rmse_array\n",
    "    return(r)"
   ]
  },
  {
   "cell_type": "code",
   "execution_count": 4,
   "metadata": {},
   "outputs": [
    {
     "data": {
      "text/plain": [
       "190.46116658389738"
      ]
     },
     "execution_count": 4,
     "metadata": {},
     "output_type": "execute_result"
    }
   ],
   "source": [
    "#runs a model of price dependent on a constant to benchmark\n",
    "model = 'price ~ 1'\n",
    "r = rmse_repeat(full_data, model, 100)\n",
    "np.mean(r)"
   ]
  },
  {
   "cell_type": "code",
   "execution_count": 5,
   "metadata": {},
   "outputs": [
    {
     "data": {
      "text/plain": [
       "127.02859816711343"
      ]
     },
     "execution_count": 5,
     "metadata": {},
     "output_type": "execute_result"
    }
   ],
   "source": [
    "#runs the model with top three prefered inputs\n",
    "model = 'price ~ host_total_listings_count + accommodates + reviews_per_month'\n",
    "r = rmse_repeat(full_data, model, 500)\n",
    "np.mean(r)"
   ]
  },
  {
   "cell_type": "code",
   "execution_count": 6,
   "metadata": {
    "scrolled": true
   },
   "outputs": [
    {
     "data": {
      "text/plain": [
       "118.0851131930856"
      ]
     },
     "execution_count": 6,
     "metadata": {},
     "output_type": "execute_result"
    }
   ],
   "source": [
    "#runs the full model\n",
    "model = 'price ~ host_total_listings_count + accommodates + bedrooms + guests_included + room_type + bathrooms + cancellation_policy + reviews_per_month + number_of_reviews_ltm + calculated_host_listings_count + review_scores_checkin + instant_bookable + maximum_nights + host_is_superhost + security_deposit + review_scores_accuracy + review_scores_rating + longitude + host_response_time + review_scores_cleanliness + minimum_nights + extra_people'\n",
    "r = rmse_repeat(full_data, model, 500)\n",
    "np.mean(r)"
   ]
  },
  {
   "cell_type": "code",
   "execution_count": 7,
   "metadata": {},
   "outputs": [
    {
     "data": {
      "text/plain": [
       "126.13564456553955"
      ]
     },
     "execution_count": 7,
     "metadata": {},
     "output_type": "execute_result"
    }
   ],
   "source": [
    "#runs the in-between model\n",
    "model = 'price ~ host_total_listings_count + accommodates + reviews_per_month + calculated_host_listings_count + security_deposit'\n",
    "r = rmse_repeat(full_data, model, 500)\n",
    "np.mean(r)"
   ]
  }
 ],
 "metadata": {
  "kernelspec": {
   "display_name": "Python 3",
   "language": "python",
   "name": "python3"
  },
  "language_info": {
   "codemirror_mode": {
    "name": "ipython",
    "version": 3
   },
   "file_extension": ".py",
   "mimetype": "text/x-python",
   "name": "python",
   "nbconvert_exporter": "python",
   "pygments_lexer": "ipython3",
   "version": "3.7.4"
  }
 },
 "nbformat": 4,
 "nbformat_minor": 2
}
