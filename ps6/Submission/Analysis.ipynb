{
 "cells": [
  {
   "cell_type": "code",
   "execution_count": 2,
   "metadata": {},
   "outputs": [],
   "source": [
    "%run Cleaning.ipynb\n",
    "\n",
    "import statsmodels.formula.api as smf\n",
    "\n",
    "data = full_data"
   ]
  },
  {
   "cell_type": "code",
   "execution_count": null,
   "metadata": {},
   "outputs": [],
   "source": [
    "#The three biggest contributors to adj r^2\n",
    "\n",
    "#host_total_listings_count\n",
    "#accommodates\n",
    "#reviews_per_month\n",
    "m = smf.ols(formula = 'price ~ host_total_listings_count + accommodates + reviews_per_month', data = data, missing='drop').fit()\n",
    "m.summary()"
   ]
  },
  {
   "cell_type": "code",
   "execution_count": 4,
   "metadata": {},
   "outputs": [
    {
     "data": {
      "text/html": [
       "<table class=\"simpletable\">\n",
       "<caption>OLS Regression Results</caption>\n",
       "<tr>\n",
       "  <th>Dep. Variable:</th>          <td>price</td>      <th>  R-squared:         </th> <td>   0.517</td> \n",
       "</tr>\n",
       "<tr>\n",
       "  <th>Model:</th>                   <td>OLS</td>       <th>  Adj. R-squared:    </th> <td>   0.515</td> \n",
       "</tr>\n",
       "<tr>\n",
       "  <th>Method:</th>             <td>Least Squares</td>  <th>  F-statistic:       </th> <td>   207.1</td> \n",
       "</tr>\n",
       "<tr>\n",
       "  <th>Date:</th>             <td>Thu, 05 Dec 2019</td> <th>  Prob (F-statistic):</th>  <td>  0.00</td>  \n",
       "</tr>\n",
       "<tr>\n",
       "  <th>Time:</th>                 <td>11:52:45</td>     <th>  Log-Likelihood:    </th> <td> -29137.</td> \n",
       "</tr>\n",
       "<tr>\n",
       "  <th>No. Observations:</th>      <td>  4661</td>      <th>  AIC:               </th> <td>5.832e+04</td>\n",
       "</tr>\n",
       "<tr>\n",
       "  <th>Df Residuals:</th>          <td>  4636</td>      <th>  BIC:               </th> <td>5.848e+04</td>\n",
       "</tr>\n",
       "<tr>\n",
       "  <th>Df Model:</th>              <td>    24</td>      <th>                     </th>     <td> </td>    \n",
       "</tr>\n",
       "<tr>\n",
       "  <th>Covariance Type:</th>      <td>nonrobust</td>    <th>                     </th>     <td> </td>    \n",
       "</tr>\n",
       "</table>\n",
       "<table class=\"simpletable\">\n",
       "<tr>\n",
       "                 <td></td>                   <th>coef</th>     <th>std err</th>      <th>t</th>      <th>P>|t|</th>  <th>[0.025</th>    <th>0.975]</th>  \n",
       "</tr>\n",
       "<tr>\n",
       "  <th>Intercept</th>                      <td>-1.674e+04</td> <td> 7000.764</td> <td>   -2.391</td> <td> 0.017</td> <td>-3.05e+04</td> <td>-3011.902</td>\n",
       "</tr>\n",
       "<tr>\n",
       "  <th>room_type[T.Hotel room]</th>        <td>  152.8591</td> <td>   14.949</td> <td>   10.225</td> <td> 0.000</td> <td>  123.552</td> <td>  182.166</td>\n",
       "</tr>\n",
       "<tr>\n",
       "  <th>room_type[T.Private room]</th>      <td>  -47.4867</td> <td>    5.507</td> <td>   -8.622</td> <td> 0.000</td> <td>  -58.284</td> <td>  -36.690</td>\n",
       "</tr>\n",
       "<tr>\n",
       "  <th>room_type[T.Shared room]</th>       <td> -106.0125</td> <td>   19.942</td> <td>   -5.316</td> <td> 0.000</td> <td> -145.107</td> <td>  -66.918</td>\n",
       "</tr>\n",
       "<tr>\n",
       "  <th>host_total_listings_count</th>      <td>    0.3858</td> <td>    0.008</td> <td>   48.421</td> <td> 0.000</td> <td>    0.370</td> <td>    0.401</td>\n",
       "</tr>\n",
       "<tr>\n",
       "  <th>accommodates</th>                   <td>    5.7803</td> <td>    1.545</td> <td>    3.742</td> <td> 0.000</td> <td>    2.752</td> <td>    8.809</td>\n",
       "</tr>\n",
       "<tr>\n",
       "  <th>bedrooms</th>                       <td>   17.2293</td> <td>    3.396</td> <td>    5.074</td> <td> 0.000</td> <td>   10.572</td> <td>   23.886</td>\n",
       "</tr>\n",
       "<tr>\n",
       "  <th>guests_included</th>                <td>    8.0912</td> <td>    1.439</td> <td>    5.624</td> <td> 0.000</td> <td>    5.271</td> <td>   10.912</td>\n",
       "</tr>\n",
       "<tr>\n",
       "  <th>bathrooms</th>                      <td>   34.8463</td> <td>    4.148</td> <td>    8.401</td> <td> 0.000</td> <td>   26.715</td> <td>   42.978</td>\n",
       "</tr>\n",
       "<tr>\n",
       "  <th>cancellation_policy</th>            <td>   12.5149</td> <td>    1.771</td> <td>    7.066</td> <td> 0.000</td> <td>    9.043</td> <td>   15.987</td>\n",
       "</tr>\n",
       "<tr>\n",
       "  <th>reviews_per_month</th>              <td>   -6.9382</td> <td>    1.497</td> <td>   -4.634</td> <td> 0.000</td> <td>   -9.873</td> <td>   -4.003</td>\n",
       "</tr>\n",
       "<tr>\n",
       "  <th>number_of_reviews_ltm</th>          <td>   -0.0186</td> <td>    0.137</td> <td>   -0.136</td> <td> 0.892</td> <td>   -0.287</td> <td>    0.249</td>\n",
       "</tr>\n",
       "<tr>\n",
       "  <th>calculated_host_listings_count</th> <td>   -0.9289</td> <td>    0.038</td> <td>  -24.703</td> <td> 0.000</td> <td>   -1.003</td> <td>   -0.855</td>\n",
       "</tr>\n",
       "<tr>\n",
       "  <th>review_scores_checkin</th>          <td>   -9.0076</td> <td>    3.819</td> <td>   -2.359</td> <td> 0.018</td> <td>  -16.494</td> <td>   -1.521</td>\n",
       "</tr>\n",
       "<tr>\n",
       "  <th>instant_bookable</th>               <td>   22.5918</td> <td>    4.106</td> <td>    5.502</td> <td> 0.000</td> <td>   14.541</td> <td>   30.642</td>\n",
       "</tr>\n",
       "<tr>\n",
       "  <th>maximum_nights</th>                 <td>    0.0051</td> <td>    0.004</td> <td>    1.422</td> <td> 0.155</td> <td>   -0.002</td> <td>    0.012</td>\n",
       "</tr>\n",
       "<tr>\n",
       "  <th>host_is_superhost</th>              <td>  -13.2303</td> <td>    4.470</td> <td>   -2.960</td> <td> 0.003</td> <td>  -21.994</td> <td>   -4.467</td>\n",
       "</tr>\n",
       "<tr>\n",
       "  <th>security_deposit</th>               <td>    0.0160</td> <td>    0.005</td> <td>    3.019</td> <td> 0.003</td> <td>    0.006</td> <td>    0.026</td>\n",
       "</tr>\n",
       "<tr>\n",
       "  <th>review_scores_accuracy</th>         <td>   -8.1891</td> <td>    3.805</td> <td>   -2.152</td> <td> 0.031</td> <td>  -15.648</td> <td>   -0.730</td>\n",
       "</tr>\n",
       "<tr>\n",
       "  <th>review_scores_rating</th>           <td>    0.4640</td> <td>    0.471</td> <td>    0.986</td> <td> 0.324</td> <td>   -0.459</td> <td>    1.387</td>\n",
       "</tr>\n",
       "<tr>\n",
       "  <th>longitude</th>                      <td> -137.6719</td> <td>   57.235</td> <td>   -2.405</td> <td> 0.016</td> <td> -249.880</td> <td>  -25.463</td>\n",
       "</tr>\n",
       "<tr>\n",
       "  <th>host_response_time</th>             <td>    3.4940</td> <td>    4.117</td> <td>    0.849</td> <td> 0.396</td> <td>   -4.577</td> <td>   11.565</td>\n",
       "</tr>\n",
       "<tr>\n",
       "  <th>review_scores_cleanliness</th>      <td>    6.7708</td> <td>    3.442</td> <td>    1.967</td> <td> 0.049</td> <td>    0.023</td> <td>   13.518</td>\n",
       "</tr>\n",
       "<tr>\n",
       "  <th>minimum_nights</th>                 <td>   -1.7242</td> <td>    0.219</td> <td>   -7.885</td> <td> 0.000</td> <td>   -2.153</td> <td>   -1.296</td>\n",
       "</tr>\n",
       "<tr>\n",
       "  <th>extra_people</th>                   <td>    0.0094</td> <td>    0.092</td> <td>    0.101</td> <td> 0.919</td> <td>   -0.172</td> <td>    0.190</td>\n",
       "</tr>\n",
       "</table>\n",
       "<table class=\"simpletable\">\n",
       "<tr>\n",
       "  <th>Omnibus:</th>       <td>8841.789</td> <th>  Durbin-Watson:     </th>   <td>   1.729</td>  \n",
       "</tr>\n",
       "<tr>\n",
       "  <th>Prob(Omnibus):</th>  <td> 0.000</td>  <th>  Jarque-Bera (JB):  </th> <td>50053936.581</td>\n",
       "</tr>\n",
       "<tr>\n",
       "  <th>Skew:</th>           <td>13.908</td>  <th>  Prob(JB):          </th>   <td>    0.00</td>  \n",
       "</tr>\n",
       "<tr>\n",
       "  <th>Kurtosis:</th>       <td>509.912</td> <th>  Cond. No.          </th>   <td>3.21e+06</td>  \n",
       "</tr>\n",
       "</table><br/><br/>Warnings:<br/>[1] Standard Errors assume that the covariance matrix of the errors is correctly specified.<br/>[2] The condition number is large, 3.21e+06. This might indicate that there are<br/>strong multicollinearity or other numerical problems."
      ],
      "text/plain": [
       "<class 'statsmodels.iolib.summary.Summary'>\n",
       "\"\"\"\n",
       "                            OLS Regression Results                            \n",
       "==============================================================================\n",
       "Dep. Variable:                  price   R-squared:                       0.517\n",
       "Model:                            OLS   Adj. R-squared:                  0.515\n",
       "Method:                 Least Squares   F-statistic:                     207.1\n",
       "Date:                Thu, 05 Dec 2019   Prob (F-statistic):               0.00\n",
       "Time:                        11:52:45   Log-Likelihood:                -29137.\n",
       "No. Observations:                4661   AIC:                         5.832e+04\n",
       "Df Residuals:                    4636   BIC:                         5.848e+04\n",
       "Df Model:                          24                                         \n",
       "Covariance Type:            nonrobust                                         \n",
       "==================================================================================================\n",
       "                                     coef    std err          t      P>|t|      [0.025      0.975]\n",
       "--------------------------------------------------------------------------------------------------\n",
       "Intercept                      -1.674e+04   7000.764     -2.391      0.017   -3.05e+04   -3011.902\n",
       "room_type[T.Hotel room]          152.8591     14.949     10.225      0.000     123.552     182.166\n",
       "room_type[T.Private room]        -47.4867      5.507     -8.622      0.000     -58.284     -36.690\n",
       "room_type[T.Shared room]        -106.0125     19.942     -5.316      0.000    -145.107     -66.918\n",
       "host_total_listings_count          0.3858      0.008     48.421      0.000       0.370       0.401\n",
       "accommodates                       5.7803      1.545      3.742      0.000       2.752       8.809\n",
       "bedrooms                          17.2293      3.396      5.074      0.000      10.572      23.886\n",
       "guests_included                    8.0912      1.439      5.624      0.000       5.271      10.912\n",
       "bathrooms                         34.8463      4.148      8.401      0.000      26.715      42.978\n",
       "cancellation_policy               12.5149      1.771      7.066      0.000       9.043      15.987\n",
       "reviews_per_month                 -6.9382      1.497     -4.634      0.000      -9.873      -4.003\n",
       "number_of_reviews_ltm             -0.0186      0.137     -0.136      0.892      -0.287       0.249\n",
       "calculated_host_listings_count    -0.9289      0.038    -24.703      0.000      -1.003      -0.855\n",
       "review_scores_checkin             -9.0076      3.819     -2.359      0.018     -16.494      -1.521\n",
       "instant_bookable                  22.5918      4.106      5.502      0.000      14.541      30.642\n",
       "maximum_nights                     0.0051      0.004      1.422      0.155      -0.002       0.012\n",
       "host_is_superhost                -13.2303      4.470     -2.960      0.003     -21.994      -4.467\n",
       "security_deposit                   0.0160      0.005      3.019      0.003       0.006       0.026\n",
       "review_scores_accuracy            -8.1891      3.805     -2.152      0.031     -15.648      -0.730\n",
       "review_scores_rating               0.4640      0.471      0.986      0.324      -0.459       1.387\n",
       "longitude                       -137.6719     57.235     -2.405      0.016    -249.880     -25.463\n",
       "host_response_time                 3.4940      4.117      0.849      0.396      -4.577      11.565\n",
       "review_scores_cleanliness          6.7708      3.442      1.967      0.049       0.023      13.518\n",
       "minimum_nights                    -1.7242      0.219     -7.885      0.000      -2.153      -1.296\n",
       "extra_people                       0.0094      0.092      0.101      0.919      -0.172       0.190\n",
       "==============================================================================\n",
       "Omnibus:                     8841.789   Durbin-Watson:                   1.729\n",
       "Prob(Omnibus):                  0.000   Jarque-Bera (JB):         50053936.581\n",
       "Skew:                          13.908   Prob(JB):                         0.00\n",
       "Kurtosis:                     509.912   Cond. No.                     3.21e+06\n",
       "==============================================================================\n",
       "\n",
       "Warnings:\n",
       "[1] Standard Errors assume that the covariance matrix of the errors is correctly specified.\n",
       "[2] The condition number is large, 3.21e+06. This might indicate that there are\n",
       "strong multicollinearity or other numerical problems.\n",
       "\"\"\""
      ]
     },
     "execution_count": 4,
     "metadata": {},
     "output_type": "execute_result"
    }
   ],
   "source": [
    "#The comprehensive model\n",
    "m = smf.ols(formula = 'price ~ host_total_listings_count + accommodates + bedrooms + guests_included + room_type + bathrooms + cancellation_policy + reviews_per_month + number_of_reviews_ltm + calculated_host_listings_count + review_scores_checkin + instant_bookable + maximum_nights + host_is_superhost + security_deposit + review_scores_accuracy + review_scores_rating + longitude + host_response_time + review_scores_cleanliness + minimum_nights + extra_people' , data = data, missing='drop').fit()\n",
    "m.summary()"
   ]
  },
  {
   "cell_type": "code",
   "execution_count": 6,
   "metadata": {
    "scrolled": true
   },
   "outputs": [
    {
     "data": {
      "text/html": [
       "<table class=\"simpletable\">\n",
       "<caption>OLS Regression Results</caption>\n",
       "<tr>\n",
       "  <th>Dep. Variable:</th>          <td>price</td>      <th>  R-squared:         </th> <td>   0.451</td> \n",
       "</tr>\n",
       "<tr>\n",
       "  <th>Model:</th>                   <td>OLS</td>       <th>  Adj. R-squared:    </th> <td>   0.450</td> \n",
       "</tr>\n",
       "<tr>\n",
       "  <th>Method:</th>             <td>Least Squares</td>  <th>  F-statistic:       </th> <td>   887.1</td> \n",
       "</tr>\n",
       "<tr>\n",
       "  <th>Date:</th>             <td>Thu, 05 Dec 2019</td> <th>  Prob (F-statistic):</th>  <td>  0.00</td>  \n",
       "</tr>\n",
       "<tr>\n",
       "  <th>Time:</th>                 <td>11:56:07</td>     <th>  Log-Likelihood:    </th> <td> -34001.</td> \n",
       "</tr>\n",
       "<tr>\n",
       "  <th>No. Observations:</th>      <td>  5416</td>      <th>  AIC:               </th> <td>6.801e+04</td>\n",
       "</tr>\n",
       "<tr>\n",
       "  <th>Df Residuals:</th>          <td>  5410</td>      <th>  BIC:               </th> <td>6.805e+04</td>\n",
       "</tr>\n",
       "<tr>\n",
       "  <th>Df Model:</th>              <td>     5</td>      <th>                     </th>     <td> </td>    \n",
       "</tr>\n",
       "<tr>\n",
       "  <th>Covariance Type:</th>      <td>nonrobust</td>    <th>                     </th>     <td> </td>    \n",
       "</tr>\n",
       "</table>\n",
       "<table class=\"simpletable\">\n",
       "<tr>\n",
       "                 <td></td>                   <th>coef</th>     <th>std err</th>      <th>t</th>      <th>P>|t|</th>  <th>[0.025</th>    <th>0.975]</th>  \n",
       "</tr>\n",
       "<tr>\n",
       "  <th>Intercept</th>                      <td>   69.4476</td> <td>    4.154</td> <td>   16.717</td> <td> 0.000</td> <td>   61.304</td> <td>   77.592</td>\n",
       "</tr>\n",
       "<tr>\n",
       "  <th>host_total_listings_count</th>      <td>    0.3891</td> <td>    0.008</td> <td>   49.910</td> <td> 0.000</td> <td>    0.374</td> <td>    0.404</td>\n",
       "</tr>\n",
       "<tr>\n",
       "  <th>accommodates</th>                   <td>   25.4091</td> <td>    0.757</td> <td>   33.570</td> <td> 0.000</td> <td>   23.925</td> <td>   26.893</td>\n",
       "</tr>\n",
       "<tr>\n",
       "  <th>reviews_per_month</th>              <td>   -8.5052</td> <td>    0.794</td> <td>  -10.717</td> <td> 0.000</td> <td>  -10.061</td> <td>   -6.949</td>\n",
       "</tr>\n",
       "<tr>\n",
       "  <th>calculated_host_listings_count</th> <td>   -0.7390</td> <td>    0.035</td> <td>  -21.404</td> <td> 0.000</td> <td>   -0.807</td> <td>   -0.671</td>\n",
       "</tr>\n",
       "<tr>\n",
       "  <th>security_deposit</th>               <td>    0.0283</td> <td>    0.005</td> <td>    5.939</td> <td> 0.000</td> <td>    0.019</td> <td>    0.038</td>\n",
       "</tr>\n",
       "</table>\n",
       "<table class=\"simpletable\">\n",
       "<tr>\n",
       "  <th>Omnibus:</th>       <td>9383.113</td> <th>  Durbin-Watson:     </th>   <td>   1.668</td>  \n",
       "</tr>\n",
       "<tr>\n",
       "  <th>Prob(Omnibus):</th>  <td> 0.000</td>  <th>  Jarque-Bera (JB):  </th> <td>34736045.474</td>\n",
       "</tr>\n",
       "<tr>\n",
       "  <th>Skew:</th>           <td>11.468</td>  <th>  Prob(JB):          </th>   <td>    0.00</td>  \n",
       "</tr>\n",
       "<tr>\n",
       "  <th>Kurtosis:</th>       <td>394.663</td> <th>  Cond. No.          </th>   <td>1.11e+03</td>  \n",
       "</tr>\n",
       "</table><br/><br/>Warnings:<br/>[1] Standard Errors assume that the covariance matrix of the errors is correctly specified.<br/>[2] The condition number is large, 1.11e+03. This might indicate that there are<br/>strong multicollinearity or other numerical problems."
      ],
      "text/plain": [
       "<class 'statsmodels.iolib.summary.Summary'>\n",
       "\"\"\"\n",
       "                            OLS Regression Results                            \n",
       "==============================================================================\n",
       "Dep. Variable:                  price   R-squared:                       0.451\n",
       "Model:                            OLS   Adj. R-squared:                  0.450\n",
       "Method:                 Least Squares   F-statistic:                     887.1\n",
       "Date:                Thu, 05 Dec 2019   Prob (F-statistic):               0.00\n",
       "Time:                        11:56:07   Log-Likelihood:                -34001.\n",
       "No. Observations:                5416   AIC:                         6.801e+04\n",
       "Df Residuals:                    5410   BIC:                         6.805e+04\n",
       "Df Model:                           5                                         \n",
       "Covariance Type:            nonrobust                                         \n",
       "==================================================================================================\n",
       "                                     coef    std err          t      P>|t|      [0.025      0.975]\n",
       "--------------------------------------------------------------------------------------------------\n",
       "Intercept                         69.4476      4.154     16.717      0.000      61.304      77.592\n",
       "host_total_listings_count          0.3891      0.008     49.910      0.000       0.374       0.404\n",
       "accommodates                      25.4091      0.757     33.570      0.000      23.925      26.893\n",
       "reviews_per_month                 -8.5052      0.794    -10.717      0.000     -10.061      -6.949\n",
       "calculated_host_listings_count    -0.7390      0.035    -21.404      0.000      -0.807      -0.671\n",
       "security_deposit                   0.0283      0.005      5.939      0.000       0.019       0.038\n",
       "==============================================================================\n",
       "Omnibus:                     9383.113   Durbin-Watson:                   1.668\n",
       "Prob(Omnibus):                  0.000   Jarque-Bera (JB):         34736045.474\n",
       "Skew:                          11.468   Prob(JB):                         0.00\n",
       "Kurtosis:                     394.663   Cond. No.                     1.11e+03\n",
       "==============================================================================\n",
       "\n",
       "Warnings:\n",
       "[1] Standard Errors assume that the covariance matrix of the errors is correctly specified.\n",
       "[2] The condition number is large, 1.11e+03. This might indicate that there are\n",
       "strong multicollinearity or other numerical problems.\n",
       "\"\"\""
      ]
     },
     "execution_count": 6,
     "metadata": {},
     "output_type": "execute_result"
    }
   ],
   "source": [
    "#The somewhere in between model\n",
    "\n",
    "#host_total_listings_count\n",
    "#accommodates\n",
    "#reviews_per_month\n",
    "#calculated_host_listings_count\n",
    "#security_deposit\n",
    "m = smf.ols(formula = 'price ~ host_total_listings_count + accommodates + reviews_per_month + calculated_host_listings_count + security_deposit', data = data, missing='drop').fit()\n",
    "m.summary()"
   ]
  },
  {
   "cell_type": "markdown",
   "metadata": {},
   "source": [
    "The below is the audit trail for how we decided which values were good predictors, or rather, which values increased adj r^2 in a multivariate model"
   ]
  },
  {
   "cell_type": "code",
   "execution_count": 2,
   "metadata": {
    "scrolled": true
   },
   "outputs": [
    {
     "data": {
      "text/plain": [
       "0.25321135527907557"
      ]
     },
     "execution_count": 2,
     "metadata": {},
     "output_type": "execute_result"
    }
   ],
   "source": [
    "#host_total_listings_count\n",
    "#accommodates\n",
    "m = smf.ols(formula = 'price ~ host_total_listings_count + accommodates', data = data, missing='drop').fit()\n",
    "m.rsquared_adj"
   ]
  },
  {
   "cell_type": "code",
   "execution_count": 3,
   "metadata": {},
   "outputs": [
    {
     "data": {
      "text/plain": [
       "0.24947699198480489"
      ]
     },
     "execution_count": 3,
     "metadata": {},
     "output_type": "execute_result"
    }
   ],
   "source": [
    "#host_total_listings_count\n",
    "#accommodates\n",
    "#cleaning_fee\n",
    "m = smf.ols(formula = 'price ~ host_total_listings_count + accommodates + cleaning_fee', data = data, missing='drop').fit()\n",
    "m.rsquared_adj"
   ]
  },
  {
   "cell_type": "code",
   "execution_count": 4,
   "metadata": {},
   "outputs": [
    {
     "data": {
      "text/plain": [
       "0.25919851162749397"
      ]
     },
     "execution_count": 4,
     "metadata": {},
     "output_type": "execute_result"
    }
   ],
   "source": [
    "#host_total_listings_count\n",
    "#accommodates\n",
    "#bedrooms\n",
    "m = smf.ols(formula = 'price ~ host_total_listings_count + accommodates + bedrooms', data = data, missing='drop').fit()\n",
    "m.rsquared_adj"
   ]
  },
  {
   "cell_type": "code",
   "execution_count": 5,
   "metadata": {
    "scrolled": true
   },
   "outputs": [
    {
     "data": {
      "text/plain": [
       "0.263035036510071"
      ]
     },
     "execution_count": 5,
     "metadata": {},
     "output_type": "execute_result"
    }
   ],
   "source": [
    "#host_total_listings_count\n",
    "#accommodates\n",
    "#bedrooms\n",
    "#guests_included\n",
    "m = smf.ols(formula = 'price ~ host_total_listings_count + accommodates + bedrooms + guests_included', data = data, missing='drop').fit()\n",
    "m.rsquared_adj"
   ]
  },
  {
   "cell_type": "code",
   "execution_count": 6,
   "metadata": {},
   "outputs": [
    {
     "data": {
      "text/plain": [
       "0.27264432894983837"
      ]
     },
     "execution_count": 6,
     "metadata": {},
     "output_type": "execute_result"
    }
   ],
   "source": [
    "#host_total_listings_count\n",
    "#accommodates\n",
    "#bedrooms\n",
    "#guests_included\n",
    "#room_type\n",
    "m = smf.ols(formula = 'price ~ host_total_listings_count + accommodates + bedrooms + guests_included + room_type', data = data, missing='drop').fit()\n",
    "m.rsquared_adj"
   ]
  },
  {
   "cell_type": "code",
   "execution_count": 7,
   "metadata": {},
   "outputs": [
    {
     "data": {
      "text/plain": [
       "0.2725854088961115"
      ]
     },
     "execution_count": 7,
     "metadata": {},
     "output_type": "execute_result"
    }
   ],
   "source": [
    "#host_total_listings_count\n",
    "#accommodates\n",
    "#bedrooms\n",
    "#guests_included\n",
    "#room_type\n",
    "#beds\n",
    "m = smf.ols(formula = 'price ~ host_total_listings_count + accommodates + bedrooms + guests_included + room_type + beds', data = data, missing='drop').fit()\n",
    "m.rsquared_adj"
   ]
  },
  {
   "cell_type": "code",
   "execution_count": 8,
   "metadata": {},
   "outputs": [
    {
     "data": {
      "text/plain": [
       "0.2749387916321505"
      ]
     },
     "execution_count": 8,
     "metadata": {},
     "output_type": "execute_result"
    }
   ],
   "source": [
    "#host_total_listings_count\n",
    "#accommodates\n",
    "#bedrooms\n",
    "#guests_included\n",
    "#room_type\n",
    "#bathrooms\n",
    "m = smf.ols(formula = 'price ~ host_total_listings_count + accommodates + bedrooms + guests_included + room_type + bathrooms', data = data, missing='drop').fit()\n",
    "m.rsquared_adj"
   ]
  },
  {
   "cell_type": "code",
   "execution_count": 9,
   "metadata": {},
   "outputs": [
    {
     "data": {
      "text/plain": [
       "0.28312328006103904"
      ]
     },
     "execution_count": 9,
     "metadata": {},
     "output_type": "execute_result"
    }
   ],
   "source": [
    "#host_total_listings_count\n",
    "#accommodates\n",
    "#bedrooms\n",
    "#guests_included\n",
    "#room_type\n",
    "#bathrooms\n",
    "#cancellation_policy\n",
    "m = smf.ols(formula = 'price ~ host_total_listings_count + accommodates + bedrooms + guests_included + room_type + bathrooms + cancellation_policy', data = data, missing='drop').fit()\n",
    "m.rsquared_adj"
   ]
  },
  {
   "cell_type": "code",
   "execution_count": 10,
   "metadata": {},
   "outputs": [
    {
     "data": {
      "text/plain": [
       "0.4255261542431438"
      ]
     },
     "execution_count": 10,
     "metadata": {},
     "output_type": "execute_result"
    }
   ],
   "source": [
    "#host_total_listings_count\n",
    "#accommodates\n",
    "#bedrooms\n",
    "#guests_included\n",
    "#room_type\n",
    "#bathrooms\n",
    "#cancellation_policy\n",
    "#reviews_per_month\n",
    "m = smf.ols(formula = 'price ~ host_total_listings_count + accommodates + bedrooms + guests_included + room_type + bathrooms + cancellation_policy + reviews_per_month', data = data, missing='drop').fit()\n",
    "m.rsquared_adj"
   ]
  },
  {
   "cell_type": "code",
   "execution_count": 11,
   "metadata": {},
   "outputs": [
    {
     "data": {
      "text/plain": [
       "0.4254400483704237"
      ]
     },
     "execution_count": 11,
     "metadata": {},
     "output_type": "execute_result"
    }
   ],
   "source": [
    "#host_total_listings_count\n",
    "#accommodates\n",
    "#bedrooms\n",
    "#guests_included\n",
    "#room_type\n",
    "#bathrooms\n",
    "#cancellation_policy\n",
    "#reviews_per_month\n",
    "#number_of_reviews\n",
    "m = smf.ols(formula = 'price ~ host_total_listings_count + accommodates + bedrooms + guests_included + room_type + bathrooms + cancellation_policy + reviews_per_month + number_of_reviews', data = data, missing='drop').fit()\n",
    "m.rsquared_adj"
   ]
  },
  {
   "cell_type": "code",
   "execution_count": 12,
   "metadata": {},
   "outputs": [
    {
     "data": {
      "text/plain": [
       "0.42549518786684803"
      ]
     },
     "execution_count": 12,
     "metadata": {},
     "output_type": "execute_result"
    }
   ],
   "source": [
    "#host_total_listings_count\n",
    "#accommodates\n",
    "#bedrooms\n",
    "#guests_included\n",
    "#room_type\n",
    "#bathrooms\n",
    "#cancellation_policy\n",
    "#reviews_per_month\n",
    "#number_of_reviews_ltm\n",
    "m = smf.ols(formula = 'price ~ host_total_listings_count + accommodates + bedrooms + guests_included + room_type + bathrooms + cancellation_policy + reviews_per_month + number_of_reviews_ltm', data = data, missing='drop').fit()\n",
    "m.rsquared_adj"
   ]
  },
  {
   "cell_type": "code",
   "execution_count": 13,
   "metadata": {},
   "outputs": [
    {
     "data": {
      "text/plain": [
       "0.4755315073480707"
      ]
     },
     "execution_count": 13,
     "metadata": {},
     "output_type": "execute_result"
    }
   ],
   "source": [
    "#host_total_listings_count\n",
    "#accommodates\n",
    "#bedrooms\n",
    "#guests_included\n",
    "#room_type\n",
    "#bathrooms\n",
    "#cancellation_policy\n",
    "#reviews_per_month\n",
    "#number_of_reviews_ltm\n",
    "#calculated_host_listings_count\n",
    "m = smf.ols(formula = 'price ~ host_total_listings_count + accommodates + bedrooms + guests_included + room_type + bathrooms + cancellation_policy + reviews_per_month + number_of_reviews_ltm + calculated_host_listings_count', data = data, missing='drop').fit()\n",
    "m.rsquared_adj"
   ]
  },
  {
   "cell_type": "code",
   "execution_count": 14,
   "metadata": {},
   "outputs": [
    {
     "data": {
      "text/plain": [
       "0.47711933254226135"
      ]
     },
     "execution_count": 14,
     "metadata": {},
     "output_type": "execute_result"
    }
   ],
   "source": [
    "#host_total_listings_count\n",
    "#accommodates\n",
    "#bedrooms\n",
    "#guests_included\n",
    "#room_type\n",
    "#bathrooms\n",
    "#cancellation_policy\n",
    "#reviews_per_month\n",
    "#number_of_reviews_ltm\n",
    "#calculated_host_listings_count\n",
    "#review_scores_checkin\n",
    "m = smf.ols(formula = 'price ~ host_total_listings_count + accommodates + bedrooms + guests_included + room_type + bathrooms + cancellation_policy + reviews_per_month + number_of_reviews_ltm + calculated_host_listings_count + review_scores_checkin', data = data, missing='drop').fit()\n",
    "m.rsquared_adj"
   ]
  },
  {
   "cell_type": "code",
   "execution_count": 15,
   "metadata": {},
   "outputs": [
    {
     "data": {
      "text/plain": [
       "0.4796073535693419"
      ]
     },
     "execution_count": 15,
     "metadata": {},
     "output_type": "execute_result"
    }
   ],
   "source": [
    "#host_total_listings_count\n",
    "#accommodates\n",
    "#bedrooms\n",
    "#guests_included\n",
    "#room_type\n",
    "#bathrooms\n",
    "#cancellation_policy\n",
    "#reviews_per_month\n",
    "#number_of_reviews_ltm\n",
    "#calculated_host_listings_count\n",
    "#review_scores_checkin\n",
    "#instant_bookable\n",
    "m = smf.ols(formula = 'price ~ host_total_listings_count + accommodates + bedrooms + guests_included + room_type + bathrooms + cancellation_policy + reviews_per_month + number_of_reviews_ltm + calculated_host_listings_count + review_scores_checkin + instant_bookable', data = data, missing='drop').fit()\n",
    "m.rsquared_adj"
   ]
  },
  {
   "cell_type": "code",
   "execution_count": 16,
   "metadata": {},
   "outputs": [
    {
     "data": {
      "text/plain": [
       "0.4798560879174929"
      ]
     },
     "execution_count": 16,
     "metadata": {},
     "output_type": "execute_result"
    }
   ],
   "source": [
    "#host_total_listings_count\n",
    "#accommodates\n",
    "#bedrooms\n",
    "#guests_included\n",
    "#room_type\n",
    "#bathrooms\n",
    "#cancellation_policy\n",
    "#reviews_per_month\n",
    "#number_of_reviews_ltm\n",
    "#calculated_host_listings_count\n",
    "#review_scores_checkin\n",
    "#instant_bookable\n",
    "#maximum_nights\n",
    "m = smf.ols(formula = 'price ~ host_total_listings_count + accommodates + bedrooms + guests_included + room_type + bathrooms + cancellation_policy + reviews_per_month + number_of_reviews_ltm + calculated_host_listings_count + review_scores_checkin + instant_bookable + maximum_nights', data = data, missing='drop').fit()\n",
    "m.rsquared_adj"
   ]
  },
  {
   "cell_type": "code",
   "execution_count": 17,
   "metadata": {},
   "outputs": [
    {
     "data": {
      "text/plain": [
       "0.4801206545307255"
      ]
     },
     "execution_count": 17,
     "metadata": {},
     "output_type": "execute_result"
    }
   ],
   "source": [
    "#host_total_listings_count\n",
    "#accommodates\n",
    "#bedrooms\n",
    "#guests_included\n",
    "#room_type\n",
    "#bathrooms\n",
    "#cancellation_policy\n",
    "#reviews_per_month\n",
    "#number_of_reviews_ltm\n",
    "#calculated_host_listings_count\n",
    "#review_scores_checkin\n",
    "#instant_bookable\n",
    "#maximum_nights\n",
    "#host_is_superhost\n",
    "m = smf.ols(formula = 'price ~ host_total_listings_count + accommodates + bedrooms + guests_included + room_type + bathrooms + cancellation_policy + reviews_per_month + number_of_reviews_ltm + calculated_host_listings_count + review_scores_checkin + instant_bookable + maximum_nights + host_is_superhost' , data = data, missing='drop').fit()\n",
    "m.rsquared_adj"
   ]
  },
  {
   "cell_type": "code",
   "execution_count": 18,
   "metadata": {},
   "outputs": [
    {
     "data": {
      "text/plain": [
       "0.5026149192364424"
      ]
     },
     "execution_count": 18,
     "metadata": {},
     "output_type": "execute_result"
    }
   ],
   "source": [
    "#host_total_listings_count\n",
    "#accommodates\n",
    "#bedrooms\n",
    "#guests_included\n",
    "#room_type\n",
    "#bathrooms\n",
    "#cancellation_policy\n",
    "#reviews_per_month\n",
    "#number_of_reviews_ltm\n",
    "#calculated_host_listings_count\n",
    "#review_scores_checkin\n",
    "#instant_bookable\n",
    "#maximum_nights\n",
    "#host_is_superhost\n",
    "#security_deposit\n",
    "m = smf.ols(formula = 'price ~ host_total_listings_count + accommodates + bedrooms + guests_included + room_type + bathrooms + cancellation_policy + reviews_per_month + number_of_reviews_ltm + calculated_host_listings_count + review_scores_checkin + instant_bookable + maximum_nights + host_is_superhost + security_deposit' , data = data, missing='drop').fit()\n",
    "m.rsquared_adj"
   ]
  },
  {
   "cell_type": "code",
   "execution_count": 19,
   "metadata": {},
   "outputs": [
    {
     "data": {
      "text/plain": [
       "0.5025928240768345"
      ]
     },
     "execution_count": 19,
     "metadata": {},
     "output_type": "execute_result"
    }
   ],
   "source": [
    "#host_total_listings_count\n",
    "#accommodates\n",
    "#bedrooms\n",
    "#guests_included\n",
    "#room_type\n",
    "#bathrooms\n",
    "#cancellation_policy\n",
    "#reviews_per_month\n",
    "#number_of_reviews_ltm\n",
    "#calculated_host_listings_count\n",
    "#review_scores_checkin\n",
    "#instant_bookable\n",
    "#maximum_nights\n",
    "#host_is_superhost\n",
    "#security_deposit\n",
    "#review_scores_communication\n",
    "m = smf.ols(formula = 'price ~ host_total_listings_count + accommodates + bedrooms + guests_included + room_type + bathrooms + cancellation_policy + reviews_per_month + number_of_reviews_ltm + calculated_host_listings_count + review_scores_checkin + instant_bookable + maximum_nights + host_is_superhost + security_deposit + review_scores_communication' , data = data, missing='drop').fit()\n",
    "m.rsquared_adj"
   ]
  },
  {
   "cell_type": "code",
   "execution_count": 20,
   "metadata": {},
   "outputs": [
    {
     "data": {
      "text/plain": [
       "0.5025341580041994"
      ]
     },
     "execution_count": 20,
     "metadata": {},
     "output_type": "execute_result"
    }
   ],
   "source": [
    "#host_total_listings_count\n",
    "#accommodates\n",
    "#bedrooms\n",
    "#guests_included\n",
    "#room_type\n",
    "#bathrooms\n",
    "#cancellation_policy\n",
    "#reviews_per_month\n",
    "#number_of_reviews_ltm\n",
    "#calculated_host_listings_count\n",
    "#review_scores_checkin\n",
    "#instant_bookable\n",
    "#maximum_nights\n",
    "#host_is_superhost\n",
    "#security_deposit\n",
    "#review_scores_value\n",
    "m = smf.ols(formula = 'price ~ host_total_listings_count + accommodates + bedrooms + guests_included + room_type + bathrooms + cancellation_policy + reviews_per_month + number_of_reviews_ltm + calculated_host_listings_count + review_scores_checkin + instant_bookable + maximum_nights + host_is_superhost + security_deposit + review_scores_value' , data = data, missing='drop').fit()\n",
    "m.rsquared_adj"
   ]
  },
  {
   "cell_type": "code",
   "execution_count": 21,
   "metadata": {},
   "outputs": [
    {
     "data": {
      "text/plain": [
       "0.5025638092466338"
      ]
     },
     "execution_count": 21,
     "metadata": {},
     "output_type": "execute_result"
    }
   ],
   "source": [
    "#host_total_listings_count\n",
    "#accommodates\n",
    "#bedrooms\n",
    "#guests_included\n",
    "#room_type\n",
    "#bathrooms\n",
    "#cancellation_policy\n",
    "#reviews_per_month\n",
    "#number_of_reviews_ltm\n",
    "#calculated_host_listings_count\n",
    "#review_scores_checkin\n",
    "#instant_bookable\n",
    "#maximum_nights\n",
    "#host_is_superhost\n",
    "#security_deposit\n",
    "#review_scores_accuracy\n",
    "m = smf.ols(formula = 'price ~ host_total_listings_count + accommodates + bedrooms + guests_included + room_type + bathrooms + cancellation_policy + reviews_per_month + number_of_reviews_ltm + calculated_host_listings_count + review_scores_checkin + instant_bookable + maximum_nights + host_is_superhost + security_deposit + review_scores_accuracy' , data = data, missing='drop').fit()\n",
    "m.rsquared_adj"
   ]
  },
  {
   "cell_type": "code",
   "execution_count": 22,
   "metadata": {},
   "outputs": [
    {
     "data": {
      "text/plain": [
       "0.5030477364655574"
      ]
     },
     "execution_count": 22,
     "metadata": {},
     "output_type": "execute_result"
    }
   ],
   "source": [
    "#host_total_listings_count\n",
    "#accommodates\n",
    "#bedrooms\n",
    "#guests_included\n",
    "#room_type\n",
    "#bathrooms\n",
    "#cancellation_policy\n",
    "#reviews_per_month\n",
    "#number_of_reviews_ltm\n",
    "#calculated_host_listings_count\n",
    "#review_scores_checkin\n",
    "#instant_bookable\n",
    "#maximum_nights\n",
    "#host_is_superhost\n",
    "#security_deposit\n",
    "#review_scores_accuracy\n",
    "#review_scores_rating\n",
    "m = smf.ols(formula = 'price ~ host_total_listings_count + accommodates + bedrooms + guests_included + room_type + bathrooms + cancellation_policy + reviews_per_month + number_of_reviews_ltm + calculated_host_listings_count + review_scores_checkin + instant_bookable + maximum_nights + host_is_superhost + security_deposit + review_scores_accuracy + review_scores_rating' , data = data, missing='drop').fit()\n",
    "m.rsquared_adj"
   ]
  },
  {
   "cell_type": "code",
   "execution_count": 23,
   "metadata": {},
   "outputs": [
    {
     "data": {
      "text/plain": [
       "0.5036063604679895"
      ]
     },
     "execution_count": 23,
     "metadata": {},
     "output_type": "execute_result"
    }
   ],
   "source": [
    "#host_total_listings_count\n",
    "#accommodates\n",
    "#bedrooms\n",
    "#guests_included\n",
    "#room_type\n",
    "#bathrooms\n",
    "#cancellation_policy\n",
    "#reviews_per_month\n",
    "#number_of_reviews_ltm\n",
    "#calculated_host_listings_count\n",
    "#review_scores_checkin\n",
    "#instant_bookable\n",
    "#maximum_nights\n",
    "#host_is_superhost\n",
    "#security_deposit\n",
    "#review_scores_accuracy\n",
    "#review_scores_rating\n",
    "#longitude\n",
    "m = smf.ols(formula = 'price ~ host_total_listings_count + accommodates + bedrooms + guests_included + room_type + bathrooms + cancellation_policy + reviews_per_month + number_of_reviews_ltm + calculated_host_listings_count + review_scores_checkin + instant_bookable + maximum_nights + host_is_superhost + security_deposit + review_scores_accuracy + review_scores_rating + longitude' , data = data, missing='drop').fit()\n",
    "m.rsquared_adj"
   ]
  },
  {
   "cell_type": "code",
   "execution_count": 24,
   "metadata": {},
   "outputs": [
    {
     "data": {
      "text/plain": [
       "0.5036057231997397"
      ]
     },
     "execution_count": 24,
     "metadata": {},
     "output_type": "execute_result"
    }
   ],
   "source": [
    "#host_total_listings_count\n",
    "#accommodates\n",
    "#bedrooms\n",
    "#guests_included\n",
    "#room_type\n",
    "#bathrooms\n",
    "#cancellation_policy\n",
    "#reviews_per_month\n",
    "#number_of_reviews_ltm\n",
    "#calculated_host_listings_count\n",
    "#review_scores_checkin\n",
    "#instant_bookable\n",
    "#maximum_nights\n",
    "#host_is_superhost\n",
    "#security_deposit\n",
    "#review_scores_accuracy\n",
    "#review_scores_rating\n",
    "#longitude\n",
    "#latitude\n",
    "m = smf.ols(formula = 'price ~ host_total_listings_count + accommodates + bedrooms + guests_included + room_type + bathrooms + cancellation_policy + reviews_per_month + number_of_reviews_ltm + calculated_host_listings_count + review_scores_checkin + instant_bookable + maximum_nights + host_is_superhost + security_deposit + review_scores_accuracy + review_scores_rating + longitude + latitude' , data = data, missing='drop').fit()\n",
    "m.rsquared_adj"
   ]
  },
  {
   "cell_type": "code",
   "execution_count": 26,
   "metadata": {},
   "outputs": [
    {
     "data": {
      "text/plain": [
       "0.5085925839325065"
      ]
     },
     "execution_count": 26,
     "metadata": {},
     "output_type": "execute_result"
    }
   ],
   "source": [
    "#host_total_listings_count\n",
    "#accommodates\n",
    "#bedrooms\n",
    "#guests_included\n",
    "#room_type\n",
    "#bathrooms\n",
    "#cancellation_policy\n",
    "#reviews_per_month\n",
    "#number_of_reviews_ltm\n",
    "#calculated_host_listings_count\n",
    "#review_scores_checkin\n",
    "#instant_bookable\n",
    "#maximum_nights\n",
    "#host_is_superhost\n",
    "#security_deposit\n",
    "#review_scores_accuracy\n",
    "#review_scores_rating\n",
    "#longitude\n",
    "#host_response_time\n",
    "#review_scores_cleanliness\n",
    "m = smf.ols(formula = 'price ~ host_total_listings_count + accommodates + bedrooms + guests_included + room_type + bathrooms + cancellation_policy + reviews_per_month + number_of_reviews_ltm + calculated_host_listings_count + review_scores_checkin + instant_bookable + maximum_nights + host_is_superhost + security_deposit + review_scores_accuracy + review_scores_rating + longitude + host_response_time + review_scores_cleanliness' , data = data, missing='drop').fit()\n",
    "m.rsquared_adj"
   ]
  },
  {
   "cell_type": "code",
   "execution_count": 27,
   "metadata": {},
   "outputs": [
    {
     "data": {
      "text/plain": [
       "0.5149935068916318"
      ]
     },
     "execution_count": 27,
     "metadata": {},
     "output_type": "execute_result"
    }
   ],
   "source": [
    "#host_total_listings_count\n",
    "#accommodates\n",
    "#bedrooms\n",
    "#guests_included\n",
    "#room_type\n",
    "#bathrooms\n",
    "#cancellation_policy\n",
    "#reviews_per_month\n",
    "#number_of_reviews_ltm\n",
    "#calculated_host_listings_count\n",
    "#review_scores_checkin\n",
    "#instant_bookable\n",
    "#maximum_nights\n",
    "#host_is_superhost\n",
    "#security_deposit\n",
    "#review_scores_accuracy\n",
    "#review_scores_rating\n",
    "#longitude\n",
    "#host_response_time\n",
    "#review_scores_cleanliness\n",
    "#minimum_nights\n",
    "m = smf.ols(formula = 'price ~ host_total_listings_count + accommodates + bedrooms + guests_included + room_type + bathrooms + cancellation_policy + reviews_per_month + number_of_reviews_ltm + calculated_host_listings_count + review_scores_checkin + instant_bookable + maximum_nights + host_is_superhost + security_deposit + review_scores_accuracy + review_scores_rating + longitude + host_response_time + review_scores_cleanliness + minimum_nights' , data = data, missing='drop').fit()\n",
    "m.rsquared_adj"
   ]
  },
  {
   "cell_type": "code",
   "execution_count": 28,
   "metadata": {
    "scrolled": true
   },
   "outputs": [
    {
     "data": {
      "text/plain": [
       "0.5148899671908214"
      ]
     },
     "execution_count": 28,
     "metadata": {},
     "output_type": "execute_result"
    }
   ],
   "source": [
    "#host_total_listings_count\n",
    "#accommodates\n",
    "#bedrooms\n",
    "#guests_included\n",
    "#room_type\n",
    "#bathrooms\n",
    "#cancellation_policy\n",
    "#reviews_per_month\n",
    "#number_of_reviews_ltm\n",
    "#calculated_host_listings_count\n",
    "#review_scores_checkin\n",
    "#instant_bookable\n",
    "#maximum_nights\n",
    "#host_is_superhost\n",
    "#security_deposit\n",
    "#review_scores_accuracy\n",
    "#review_scores_rating\n",
    "#longitude\n",
    "#host_response_time\n",
    "#review_scores_cleanliness\n",
    "#minimum_nights\n",
    "#extra_people\n",
    "m = smf.ols(formula = 'price ~ host_total_listings_count + accommodates + bedrooms + guests_included + room_type + bathrooms + cancellation_policy + reviews_per_month + number_of_reviews_ltm + calculated_host_listings_count + review_scores_checkin + instant_bookable + maximum_nights + host_is_superhost + security_deposit + review_scores_accuracy + review_scores_rating + longitude + host_response_time + review_scores_cleanliness + minimum_nights + extra_people' , data = data, missing='drop').fit()\n",
    "m.rsquared_adj"
   ]
  }
 ],
 "metadata": {
  "kernelspec": {
   "display_name": "Python 3",
   "language": "python",
   "name": "python3"
  },
  "language_info": {
   "codemirror_mode": {
    "name": "ipython",
    "version": 3
   },
   "file_extension": ".py",
   "mimetype": "text/x-python",
   "name": "python",
   "nbconvert_exporter": "python",
   "pygments_lexer": "ipython3",
   "version": "3.7.4"
  }
 },
 "nbformat": 4,
 "nbformat_minor": 2
}
