{
 "cells": [
  {
   "cell_type": "code",
   "execution_count": 1,
   "metadata": {},
   "outputs": [],
   "source": [
    "import pandas as pd\n",
    "import numpy as np\n",
    "import matplotlib.pyplot as plt\n",
    "import statsmodels.formula.api as smf\n",
    "import statsmodels.tools.eval_measures as ste\n",
    "import sklearn.linear_model as slm\n",
    "\n",
    "full_data = pd.read_csv('airbnb-seattle-listings-train.csv.bz2', sep = '\\t')\n",
    "\n",
    "full_data = full_data[[ 'id', \n",
    "              'host_since',\n",
    "              'host_response_time', #suggest to factor into four levels\n",
    "              'host_is_superhost', \n",
    "              'host_total_listings_count',\n",
    "              'latitude',\n",
    "              'longitude',\n",
    "              'is_location_exact', \n",
    "              'room_type', #seems relevant if it could be reduced\n",
    "              'accommodates',\n",
    "              'bathrooms',\n",
    "              'bedrooms',\n",
    "              'beds',\n",
    "              'price',\n",
    "              'security_deposit',\n",
    "              'cleaning_fee',\n",
    "              'guests_included',\n",
    "              'extra_people',\n",
    "              'minimum_nights',\n",
    "              'maximum_nights',\n",
    "              'number_of_reviews',\n",
    "              'number_of_reviews_ltm', # not sure how this is different. What does ltm mean?\n",
    "              'review_scores_rating',\n",
    "              'review_scores_accuracy',\n",
    "              'review_scores_cleanliness',\n",
    "              'review_scores_checkin',\n",
    "              'review_scores_communication',\n",
    "              'review_scores_location',\n",
    "              'review_scores_value',\n",
    "              'instant_bookable',\n",
    "              'cancellation_policy', \n",
    "              'calculated_host_listings_count',\n",
    "              'reviews_per_month']]"
   ]
  },
  {
   "cell_type": "code",
   "execution_count": 2,
   "metadata": {
    "scrolled": true
   },
   "outputs": [],
   "source": [
    "#regex to clean integer data\n",
    "full_data.price = full_data.price.replace('[\\$,]', '', regex=True).astype(float)\n",
    "full_data.security_deposit = full_data.security_deposit.replace('[\\$,]', '', regex=True).astype(float)\n",
    "full_data.cleaning_fee = full_data.cleaning_fee.replace('[\\$,]', '', regex=True).astype(float)\n",
    "full_data.extra_people = full_data.extra_people.replace('[\\$,]', '', regex=True).astype(float)\n",
    "\n",
    "#converts boolean values into 0,1\n",
    "full_data['host_is_superhost'] = (full_data.host_is_superhost == 't').astype('int')\n",
    "full_data['instant_bookable'] = (full_data.instant_bookable == 't').astype('int')"
   ]
  },
  {
   "cell_type": "code",
   "execution_count": 3,
   "metadata": {},
   "outputs": [],
   "source": [
    "#function and code to convert ordinal cancellation policy string data to integer\n",
    "\n",
    "def cancelpol (x):\n",
    "    if x == 'flexible':\n",
    "        r = 0\n",
    "    elif x == 'moderate':\n",
    "        r = 1\n",
    "    elif x == 'strict':\n",
    "        r = 2\n",
    "    elif x == 'strict_14_with_grace_period':\n",
    "       r = 3\n",
    "    elif x == 'super_strict_30':\n",
    "       r = 3\n",
    "    elif x == 'super_strict_60':\n",
    "       r = 3\n",
    "    else:\n",
    "       r = np.nan\n",
    "    return(r)\n",
    "\n",
    "full_data['cancellation_policy'] = full_data.cancellation_policy.apply(lambda x: cancelpol(x))"
   ]
  },
  {
   "cell_type": "code",
   "execution_count": 4,
   "metadata": {},
   "outputs": [],
   "source": [
    "#helper function and code to convert ordinal response time string data to integer\n",
    "\n",
    "def responsetime (x):\n",
    "    if x == 'within an hour':\n",
    "        r = 0\n",
    "    elif x == 'within a few hours':\n",
    "        r = 1\n",
    "    elif x == 'within a day':\n",
    "        r = 2\n",
    "    #else:\n",
    "        #r = 3\n",
    "    elif x == 'a few days or more':\n",
    "       r = 3\n",
    "    else:\n",
    "       r = np.nan\n",
    "    return(r)\n",
    "\n",
    "full_data['host_response_time'] = full_data.host_response_time.apply(lambda x: responsetime(x))"
   ]
  }
 ],
 "metadata": {
  "kernelspec": {
   "display_name": "Python 3",
   "language": "python",
   "name": "python3"
  },
  "language_info": {
   "codemirror_mode": {
    "name": "ipython",
    "version": 3
   },
   "file_extension": ".py",
   "mimetype": "text/x-python",
   "name": "python",
   "nbconvert_exporter": "python",
   "pygments_lexer": "ipython3",
   "version": "3.7.3"
  }
 },
 "nbformat": 4,
 "nbformat_minor": 2
}
