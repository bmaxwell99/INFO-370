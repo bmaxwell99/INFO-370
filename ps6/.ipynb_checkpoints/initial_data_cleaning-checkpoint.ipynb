{
 "cells": [
  {
   "cell_type": "code",
   "execution_count": 51,
   "metadata": {},
   "outputs": [],
   "source": [
    "import pandas as pd\n",
    "import numpy as np\n",
    "\n",
    "data = pd.read_csv('airbnb-seattle-listings-train.csv.bz2', sep = '\\t')\n",
    "pd.set_option(\"display.max_columns\", 500)\n",
    "pd.set_option(\"display.max_rows\", 500)\n",
    "pd.set_option(\"display.max_seq_items\", 500)"
   ]
  },
  {
   "cell_type": "code",
   "execution_count": null,
   "metadata": {},
   "outputs": [],
   "source": [
    "data.price = data.price.replace('[\\$,]', '', regex=True).astype(float)\n",
    "data.security_deposit = data.security_deposit.replace('[\\$,]', '', regex=True).astype(float)\n",
    "data.cleaning_fee = data.cleaning_fee.replace('[\\$,]', '', regex=True).astype(float)\n",
    "data.host_response_rate = data.host_response_rate.replace('\\%', '', regex = True).astype(float)\n",
    "\n",
    "data['host_is_superhost'] = (data.host_is_superhost == 't').astype('int')"
   ]
  },
  {
   "cell_type": "code",
   "execution_count": 41,
   "metadata": {},
   "outputs": [],
   "source": [
    "data = data[['id', \n",
    "              'host_since',\n",
    "              'host_response_time', #suggest to factor into four levels\n",
    "              #'host_response_rate',  #bad predictor due to value distribution\n",
    "              'host_is_superhost', \n",
    "              #'host_neighbourhood', #too likely to overlap\n",
    "              'host_total_listings_count',\n",
    "              #'neighbourhood_group_cleansed', #has too much noise\n",
    "              #'neighbourhood', #bad predictor due to false precision\n",
    "              #'zipcode', #bad predictor due to false precision\n",
    "              'latitude',\n",
    "              'longitude',\n",
    "              'is_location_exact',\n",
    "              'property_type', #should reduce categories\n",
    "              'room_type', #suggest to factor into four levels?\n",
    "              'accommodates',\n",
    "              'bathrooms',\n",
    "              'bedrooms',\n",
    "              'beds',\n",
    "              #'square_feet', #missing 90% of observations\n",
    "              'price',\n",
    "              #'weekly_price',  #missing 90% of observations\n",
    "              #'monthly_price',  #missing 90% of observations\n",
    "              'security_deposit',\n",
    "              'cleaning_fee',\n",
    "              'guests_included',\n",
    "              'extra_people',\n",
    "              'minimum_nights',\n",
    "              'maximum_nights',\n",
    "              'number_of_reviews',\n",
    "              'number_of_reviews_ltm', # not sure how this is different. What does ltm mean?\n",
    "              'review_scores_rating',\n",
    "              'review_scores_accuracy',\n",
    "              'review_scores_cleanliness',\n",
    "              'review_scores_checkin',\n",
    "              'review_scores_communication',\n",
    "              'review_scores_location',\n",
    "              'review_scores_value',\n",
    "              'instant_bookable',\n",
    "              'cancellation_policy',\n",
    "              'require_guest_profile_picture',\n",
    "              'require_guest_phone_verification',\n",
    "              'calculated_host_listings_count',\n",
    "              'reviews_per_month']]"
   ]
  },
  {
   "cell_type": "code",
   "execution_count": null,
   "metadata": {},
   "outputs": [],
   "source": [
    "def proptype (propstr):\n",
    "    if propstr == 'Apartment':\n",
    "        r = 'Apartment'\n",
    "    elif propstr == 'House':\n",
    "        r = 'House'\n",
    "    elif propstr == 'Guest suite':\n",
    "        r = 'Guest suite'\n",
    "    elif propstr == 'Townhouse':\n",
    "        r = 'Townhouse' \n",
    "    elif propstr == 'Condominium':\n",
    "        r = 'Condominium'\n",
    "    else:\n",
    "        r = 'Other'\n",
    "    return(r)"
   ]
  },
  {
   "cell_type": "code",
   "execution_count": null,
   "metadata": {},
   "outputs": [],
   "source": [
    "data['property_type'] = data.property_type.apply(lambda x: proptype(x))"
   ]
  }
 ],
 "metadata": {
  "kernelspec": {
   "display_name": "Python 3",
   "language": "python",
   "name": "python3"
  },
  "language_info": {
   "codemirror_mode": {
    "name": "ipython",
    "version": 3
   },
   "file_extension": ".py",
   "mimetype": "text/x-python",
   "name": "python",
   "nbconvert_exporter": "python",
   "pygments_lexer": "ipython3",
   "version": "3.7.4"
  }
 },
 "nbformat": 4,
 "nbformat_minor": 2
}
