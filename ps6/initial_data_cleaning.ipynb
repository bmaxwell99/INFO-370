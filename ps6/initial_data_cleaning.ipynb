{
 "cells": [
  {
   "cell_type": "code",
   "execution_count": 51,
   "metadata": {},
   "outputs": [],
   "source": [
    "import pandas as pd\n",
    "import numpy as np\n",
    "\n",
    "data = pd.read_csv('airbnb-seattle-listings-train.csv.bz2', sep = '\\t')\n",
    "pd.set_option(\"display.max_columns\", 500)\n",
    "pd.set_option(\"display.max_rows\", 500)\n",
    "pd.set_option(\"display.max_seq_items\", 500)"
   ]
  },
  {
   "cell_type": "code",
   "execution_count": 63,
   "metadata": {},
   "outputs": [],
   "source": [
    "data.price = data.price.replace('[\\$,]', '', regex=True).astype(float)\n",
    "data.security_deposit = data.security_deposit.replace('[\\$,]', '', regex=True).astype(float)\n",
    "data.cleaning_fee = data.cleaning_fee.replace('[\\$,]', '', regex=True).astype(float)\n",
    "data.extra_people = data.extra_people.replace('[\\$,]', '', regex=True).astype(float)\n",
    "\n",
    "data.host_response_rate = data.host_response_rate.replace('\\%', '', regex = True).astype(float)\n",
    "\n",
    "\n",
    "#converts boolean values into 0,1\n",
    "data['host_is_superhost'] = (data.host_is_superhost == 't').astype('int')\n",
    "data['instant_bookable'] = (data.instant_bookable == 't').astype('int')"
   ]
  },
  {
   "cell_type": "code",
   "execution_count": 41,
   "metadata": {},
   "outputs": [],
   "source": [
    "data = data[['id', \n",
    "              'host_since',\n",
    "              'host_response_time', #suggest to factor into four levels\n",
    "              'host_response_rate',  #bad predictor due to value distribution\n",
    "              'host_is_superhost', \n",
    "              #'host_neighbourhood', #too likely to overlap\n",
    "              'host_total_listings_count',\n",
    "              #'neighbourhood_group_cleansed', #has too much noise\n",
    "              #'neighbourhood', #bad predictor due to false precision\n",
    "              #'zipcode', #bad predictor due to false precision\n",
    "              'latitude',\n",
    "              'longitude',\n",
    "              'is_location_exact', \n",
    "              'property_type', #nominal\n",
    "              'room_type', #seems relevant if it could be reduced\n",
    "              'accommodates',\n",
    "              'bathrooms',\n",
    "              'bedrooms',\n",
    "              'beds',\n",
    "              #'square_feet', #missing 90% of observations\n",
    "              'price',\n",
    "              #'weekly_price',  #missing 90% of observations\n",
    "              #'monthly_price',  #missing 90% of observations\n",
    "              'security_deposit',\n",
    "              'cleaning_fee',\n",
    "              'guests_included',\n",
    "              'extra_people',\n",
    "              'minimum_nights',\n",
    "              'maximum_nights',\n",
    "              'number_of_reviews',\n",
    "              'number_of_reviews_ltm', # not sure how this is different. What does ltm mean?\n",
    "              'review_scores_rating',\n",
    "              'review_scores_accuracy',\n",
    "              'review_scores_cleanliness',\n",
    "              'review_scores_checkin',\n",
    "              'review_scores_communication',\n",
    "              'review_scores_location',\n",
    "              'review_scores_value',\n",
    "              'instant_bookable',\n",
    "              'cancellation_policy', #\n",
    "              #'require_guest_profile_picture', #bad predictor due to value distribution\n",
    "              #'require_guest_phone_verification', #bad predictor due to value distribution\n",
    "              'calculated_host_listings_count',\n",
    "              'reviews_per_month']]"
   ]
  },
  {
   "cell_type": "code",
   "execution_count": null,
   "metadata": {},
   "outputs": [],
   "source": [
    "def proptype (propstr):\n",
    "    if propstr == 'Apartment':\n",
    "        r = 'Apartment'\n",
    "    elif propstr == 'House':\n",
    "        r = 'House'\n",
    "    elif propstr == 'Guest suite':\n",
    "        r = 'Guest suite'\n",
    "    elif propstr == 'Townhouse':\n",
    "        r = 'Townhouse' \n",
    "    elif propstr == 'Condominium':\n",
    "        r = 'Condominium'\n",
    "    else:\n",
    "        r = 'Other'\n",
    "    return(r)"
   ]
  },
  {
   "cell_type": "code",
   "execution_count": null,
   "metadata": {},
   "outputs": [],
   "source": [
    "data['property_type'] = data.property_type.apply(lambda x: proptype(x))"
   ]
  },
  {
   "cell_type": "code",
   "execution_count": null,
   "metadata": {},
   "outputs": [],
   "source": [
    "def responsetime (x):\n",
    "    if x == 'within an hour':\n",
    "        r = 0\n",
    "    elif x == 'within a few hours':\n",
    "        r = 1\n",
    "    elif x == 'within a day':\n",
    "        r = 2\n",
    "    #else:\n",
    "        #r = 3\n",
    "    elif x == 'a few days or more':\n",
    "       r = 3\n",
    "    else:\n",
    "       r = np.nan\n",
    "    return(r)\n",
    "\n",
    "data['host_response_time'] = data.host_response_time.apply(lambda x: responsetime(x))"
   ]
  },
  {
   "cell_type": "code",
   "execution_count": 62,
   "metadata": {},
   "outputs": [],
   "source": [
    "def cancelpol (x):\n",
    "    if x == 'flexible':\n",
    "        r = 0\n",
    "    elif x == 'moderate':\n",
    "        r = 1\n",
    "    elif x == 'strict':\n",
    "        r = 2\n",
    "    elif x == 'strict_14_with_grace_period':\n",
    "       r = 3\n",
    "    elif x == 'super_strict_30':\n",
    "       r = 3\n",
    "    elif x == 'super_strict_60':\n",
    "       r = 3\n",
    "    else:\n",
    "       r = np.nan\n",
    "    return(r)\n",
    "\n",
    "data['cancellation_policy'] = data.cancellation_policy.apply(lambda x: cancelpol(x))"
   ]
  }
 ],
 "metadata": {
  "kernelspec": {
   "display_name": "Python 3",
   "language": "python",
   "name": "python3"
  },
  "language_info": {
   "codemirror_mode": {
    "name": "ipython",
    "version": 3
   },
   "file_extension": ".py",
   "mimetype": "text/x-python",
   "name": "python",
   "nbconvert_exporter": "python",
   "pygments_lexer": "ipython3",
   "version": "3.7.4"
  }
 },
 "nbformat": 4,
 "nbformat_minor": 2
}
