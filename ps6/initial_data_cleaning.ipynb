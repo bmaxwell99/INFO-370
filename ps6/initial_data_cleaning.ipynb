{
 "cells": [
  {
   "cell_type": "code",
   "execution_count": 1,
   "metadata": {},
   "outputs": [],
   "source": [
    "import pandas as pd\n",
    "import numpy as np\n",
    "\n",
    "full_data = pd.read_csv('airbnb-seattle-listings-train.csv.bz2', sep = '\\t')\n",
    "pd.set_option(\"display.max_columns\", 500)\n",
    "pd.set_option(\"display.max_rows\", 500)\n",
    "pd.set_option(\"display.max_seq_items\", 500)"
   ]
  },
  {
   "cell_type": "code",
   "execution_count": 2,
   "metadata": {},
   "outputs": [
    {
     "ename": "NameError",
     "evalue": "name 'data' is not defined",
     "output_type": "error",
     "traceback": [
      "\u001b[1;31m---------------------------------------------------------------------------\u001b[0m",
      "\u001b[1;31mNameError\u001b[0m                                 Traceback (most recent call last)",
      "\u001b[1;32m<ipython-input-2-bb64b7183d24>\u001b[0m in \u001b[0;36m<module>\u001b[1;34m\u001b[0m\n\u001b[1;32m----> 1\u001b[1;33m \u001b[0mfull_data\u001b[0m\u001b[1;33m.\u001b[0m\u001b[0mprice\u001b[0m \u001b[1;33m=\u001b[0m \u001b[0mdata\u001b[0m\u001b[1;33m.\u001b[0m\u001b[0mprice\u001b[0m\u001b[1;33m.\u001b[0m\u001b[0mreplace\u001b[0m\u001b[1;33m(\u001b[0m\u001b[1;34m'[\\$,]'\u001b[0m\u001b[1;33m,\u001b[0m \u001b[1;34m''\u001b[0m\u001b[1;33m,\u001b[0m \u001b[0mregex\u001b[0m\u001b[1;33m=\u001b[0m\u001b[1;32mTrue\u001b[0m\u001b[1;33m)\u001b[0m\u001b[1;33m.\u001b[0m\u001b[0mastype\u001b[0m\u001b[1;33m(\u001b[0m\u001b[0mfloat\u001b[0m\u001b[1;33m)\u001b[0m\u001b[1;33m\u001b[0m\u001b[1;33m\u001b[0m\u001b[0m\n\u001b[0m\u001b[0;32m      2\u001b[0m \u001b[0mfull_data\u001b[0m\u001b[1;33m.\u001b[0m\u001b[0msecurity_deposit\u001b[0m \u001b[1;33m=\u001b[0m \u001b[0mdata\u001b[0m\u001b[1;33m.\u001b[0m\u001b[0msecurity_deposit\u001b[0m\u001b[1;33m.\u001b[0m\u001b[0mreplace\u001b[0m\u001b[1;33m(\u001b[0m\u001b[1;34m'[\\$,]'\u001b[0m\u001b[1;33m,\u001b[0m \u001b[1;34m''\u001b[0m\u001b[1;33m,\u001b[0m \u001b[0mregex\u001b[0m\u001b[1;33m=\u001b[0m\u001b[1;32mTrue\u001b[0m\u001b[1;33m)\u001b[0m\u001b[1;33m.\u001b[0m\u001b[0mastype\u001b[0m\u001b[1;33m(\u001b[0m\u001b[0mfloat\u001b[0m\u001b[1;33m)\u001b[0m\u001b[1;33m\u001b[0m\u001b[1;33m\u001b[0m\u001b[0m\n\u001b[0;32m      3\u001b[0m \u001b[0mfull_data\u001b[0m\u001b[1;33m.\u001b[0m\u001b[0mcleaning_fee\u001b[0m \u001b[1;33m=\u001b[0m \u001b[0mdata\u001b[0m\u001b[1;33m.\u001b[0m\u001b[0mcleaning_fee\u001b[0m\u001b[1;33m.\u001b[0m\u001b[0mreplace\u001b[0m\u001b[1;33m(\u001b[0m\u001b[1;34m'[\\$,]'\u001b[0m\u001b[1;33m,\u001b[0m \u001b[1;34m''\u001b[0m\u001b[1;33m,\u001b[0m \u001b[0mregex\u001b[0m\u001b[1;33m=\u001b[0m\u001b[1;32mTrue\u001b[0m\u001b[1;33m)\u001b[0m\u001b[1;33m.\u001b[0m\u001b[0mastype\u001b[0m\u001b[1;33m(\u001b[0m\u001b[0mfloat\u001b[0m\u001b[1;33m)\u001b[0m\u001b[1;33m\u001b[0m\u001b[1;33m\u001b[0m\u001b[0m\n\u001b[0;32m      4\u001b[0m \u001b[0mfull_data\u001b[0m\u001b[1;33m.\u001b[0m\u001b[0mextra_people\u001b[0m \u001b[1;33m=\u001b[0m \u001b[0mdata\u001b[0m\u001b[1;33m.\u001b[0m\u001b[0mextra_people\u001b[0m\u001b[1;33m.\u001b[0m\u001b[0mreplace\u001b[0m\u001b[1;33m(\u001b[0m\u001b[1;34m'[\\$,]'\u001b[0m\u001b[1;33m,\u001b[0m \u001b[1;34m''\u001b[0m\u001b[1;33m,\u001b[0m \u001b[0mregex\u001b[0m\u001b[1;33m=\u001b[0m\u001b[1;32mTrue\u001b[0m\u001b[1;33m)\u001b[0m\u001b[1;33m.\u001b[0m\u001b[0mastype\u001b[0m\u001b[1;33m(\u001b[0m\u001b[0mfloat\u001b[0m\u001b[1;33m)\u001b[0m\u001b[1;33m\u001b[0m\u001b[1;33m\u001b[0m\u001b[0m\n\u001b[0;32m      5\u001b[0m \u001b[1;33m\u001b[0m\u001b[0m\n",
      "\u001b[1;31mNameError\u001b[0m: name 'data' is not defined"
     ]
    }
   ],
   "source": [
    "full_data.price = full_data.price.replace('[\\$,]', '', regex=True).astype(float)\n",
    "full_data.security_deposit = full_data.security_deposit.replace('[\\$,]', '', regex=True).astype(float)\n",
    "full_data.cleaning_fee = full_data.cleaning_fee.replace('[\\$,]', '', regex=True).astype(float)\n",
    "full_data.extra_people = full_data.extra_people.replace('[\\$,]', '', regex=True).astype(float)\n",
    "\n",
    "full_data.host_response_rate = full_data.host_response_rate.replace('\\%', '', regex = True).astype(float)\n",
    "\n",
    "#converts boolean values into 0,1\n",
    "full_data['host_is_superhost'] = (full_data.host_is_superhost == 't').astype('int')\n",
    "full_data['instant_bookable'] = (full_data.instant_bookable == 't').astype('int')"
   ]
  },
  {
   "cell_type": "code",
   "execution_count": null,
   "metadata": {},
   "outputs": [],
   "source": [
    "full_data = full_data[[ 'id', \n",
    "              'host_since',\n",
    "              'host_response_time', #suggest to factor into four levels\n",
    "              'host_response_rate',  #bad predictor due to value distribution\n",
    "              'host_is_superhost', \n",
    "              #'host_neighbourhood', #too likely to overlap\n",
    "              'host_total_listings_count',\n",
    "              #'neighbourhood_group_cleansed', #has too much noise\n",
    "              #'neighbourhood', #bad predictor due to false precision\n",
    "              #'zipcode', #bad predictor due to false precision\n",
    "              'latitude',\n",
    "              'longitude',\n",
    "              'is_location_exact', \n",
    "              'property_type', #nominal\n",
    "              'room_type', #seems relevant if it could be reduced\n",
    "              'accommodates',\n",
    "              'bathrooms',\n",
    "              'bedrooms',\n",
    "              'beds',\n",
    "              #'square_feet', #missing 90% of observations\n",
    "              'price',\n",
    "              #'weekly_price',  #missing 90% of observations\n",
    "              #'monthly_price',  #missing 90% of observations\n",
    "              'security_deposit',\n",
    "              'cleaning_fee',\n",
    "              'guests_included',\n",
    "              'extra_people',\n",
    "              'minimum_nights',\n",
    "              'maximum_nights',\n",
    "              'number_of_reviews',\n",
    "              'number_of_reviews_ltm', # not sure how this is different. What does ltm mean?\n",
    "              'review_scores_rating',\n",
    "              'review_scores_accuracy',\n",
    "              'review_scores_cleanliness',\n",
    "              'review_scores_checkin',\n",
    "              'review_scores_communication',\n",
    "              'review_scores_location',\n",
    "              'review_scores_value',\n",
    "              'instant_bookable',\n",
    "              'cancellation_policy', #\n",
    "              #'require_guest_profile_picture', #bad predictor due to value distribution\n",
    "              #'require_guest_phone_verification', #bad predictor due to value distribution\n",
    "              'calculated_host_listings_count',\n",
    "              'reviews_per_month']]"
   ]
  },
  {
   "cell_type": "code",
   "execution_count": null,
   "metadata": {},
   "outputs": [],
   "source": [
    "def proptype (propstr):\n",
    "    if propstr == 'Apartment':\n",
    "        r = 'Apartment'\n",
    "    elif propstr == 'House':\n",
    "        r = 'House'\n",
    "    elif propstr == 'Guest suite':\n",
    "        r = 'Guest suite'\n",
    "    elif propstr == 'Townhouse':\n",
    "        r = 'Townhouse' \n",
    "    elif propstr == 'Condominium':\n",
    "        r = 'Condominium'\n",
    "    else:\n",
    "        r = 'Other'\n",
    "    return(r)"
   ]
  },
  {
   "cell_type": "code",
   "execution_count": null,
   "metadata": {},
   "outputs": [],
   "source": [
    "full_data['property_type'] = full_data.property_type.apply(lambda x: proptype(x))"
   ]
  },
  {
   "cell_type": "code",
   "execution_count": null,
   "metadata": {},
   "outputs": [],
   "source": [
    "def responsetime (x):\n",
    "    if x == 'within an hour':\n",
    "        r = 0\n",
    "    elif x == 'within a few hours':\n",
    "        r = 1\n",
    "    elif x == 'within a day':\n",
    "        r = 2\n",
    "    #else:\n",
    "        #r = 3\n",
    "    elif x == 'a few days or more':\n",
    "       r = 3\n",
    "    else:\n",
    "       r = np.nan\n",
    "    return(r)\n",
    "\n",
    "full_data['host_response_time'] = full_data.host_response_time.apply(lambda x: responsetime(x))"
   ]
  },
  {
   "cell_type": "code",
   "execution_count": null,
   "metadata": {},
   "outputs": [],
   "source": [
    "def cancelpol (x):\n",
    "    if x == 'flexible':\n",
    "        r = 0\n",
    "    elif x == 'moderate':\n",
    "        r = 1\n",
    "    elif x == 'strict':\n",
    "        r = 2\n",
    "    elif x == 'strict_14_with_grace_period':\n",
    "       r = 3\n",
    "    elif x == 'super_strict_30':\n",
    "       r = 3\n",
    "    elif x == 'super_strict_60':\n",
    "       r = 3\n",
    "    else:\n",
    "       r = np.nan\n",
    "    return(r)\n",
    "\n",
    "full_data['cancellation_policy'] = full_data.cancellation_policy.apply(lambda x: cancelpol(x))"
   ]
  },
  {
   "cell_type": "code",
   "execution_count": 75,
   "metadata": {},
   "outputs": [],
   "source": [
    "def testVStrain(x):\n",
    "    if x >= .80:\n",
    "        r = 'test'\n",
    "    else:\n",
    "        r = 'train'\n",
    "    return(r)"
   ]
  },
  {
   "cell_type": "code",
   "execution_count": 79,
   "metadata": {
    "scrolled": false
   },
   "outputs": [],
   "source": [
    "full_data['train_test'] = np.random.uniform(size = 7540)\n",
    "full_data['train_test'] = full_data.train_test.apply(lambda x: testVStrain(x))"
   ]
  },
  {
   "cell_type": "code",
   "execution_count": null,
   "metadata": {},
   "outputs": [],
   "source": []
  }
 ],
 "metadata": {
  "kernelspec": {
   "display_name": "Python 3",
   "language": "python",
   "name": "python3"
  },
  "language_info": {
   "codemirror_mode": {
    "name": "ipython",
    "version": 3
   },
   "file_extension": ".py",
   "mimetype": "text/x-python",
   "name": "python",
   "nbconvert_exporter": "python",
   "pygments_lexer": "ipython3",
   "version": "3.7.3"
  }
 },
 "nbformat": 4,
 "nbformat_minor": 2
}
