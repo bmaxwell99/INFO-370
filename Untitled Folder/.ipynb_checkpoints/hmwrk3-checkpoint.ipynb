{
 "cells": [
  {
   "cell_type": "code",
   "execution_count": 1,
   "metadata": {},
   "outputs": [],
   "source": [
    "import pandas as pd\n",
    "import numpy as np\n",
    "import matplotlib.pyplot as plt\n"
   ]
  },
  {
   "cell_type": "markdown",
   "metadata": {},
   "source": [
    "1.1.1) I answered the questions in an informal narrative structure rather than in bulleted question and answer form."
   ]
  },
  {
   "cell_type": "markdown",
   "metadata": {},
   "source": [
    "Since we're being asked about people *walking* then the People Moving data set seems a good place to start. There's no explicit delineator for their mode of transportation, but it seems plausible to assume that getting the group size of people driving by in cars/bus would be sufficiently challenging that the oberserved individuals are walking and maybe biking/boarding. \n",
    "\n",
    "It looks like some math on the various GroupSize columns would give us the counts for people walking, and Time_of_Day would be an easy place to answer \"when\" people are walking. Begin or End Time of the shift would provide granular numerical data if needed. "
   ]
  },
  {
   "cell_type": "markdown",
   "metadata": {},
   "source": [
    "The Location data set is is pretty interesting. Not just because it answers the \"where\" people are walking question, but because Location_Geometry may be able to provide string data to create map visualizations. Which is super cool. \n",
    "\n",
    "Regardless, there are a couple different degrees of granularity available for answering \"where\" people are walking. I would default to neighborhoods(human readable) unless future questions suggest otherwise. \n",
    "\n",
    "The number of commercial and public seats in the locatin is also an interesting column. But less with the \"where and when are people walking\" question and more becuase what it might be able to inform about civic development/usage when joined with the People Staying data set."
   ]
  },
  {
   "cell_type": "markdown",
   "metadata": {},
   "source": [
    "The People Staying data set provides fairly granular info about who the people are and what they're doing. However, a look at the actual documentation of the data clearly states that this data(along with similar gender data in People Moving) is gathered based off the surveyers perceptions. This begs questions about consent as well as bias in the data about ethnic, gender and age misidentification. \n",
    "\n",
    "This data was likely gathered via cluster or multi-stage sampling, based off the neighborhood structure of the location data and the unit of measurement(individual people) being expensive to survey at the scale of a city otherwise. Cluster seems logical over mult-stage because in this instance it would economical to count all units in a space. If the units of measurement were being interviewed and asked these questions directly then a multi-stage would likely make more sense, logistically and economicaly. \n",
    "\n",
    "I don't know that this one data set would be too useful for the \"where and when are people walking\" question unless we wanted to know who those people are. However, I am curious how the surveyers delineated between CommercialActivity_Observing and people moving through the space? The documentation implies window shoppers would be double counted. \n",
    "\n",
    "The count data about sitting/leaning/standing here could be combined with the location data to inform whether there is demand/supply for public seating. Although it's quite cold right now and the only people I can imagine being outside and wanting to sit/lay right now are houseless people and this data does not appear to have inquired about housing status. The documentation for the LivingActivities column states that houseless people can be \"recognized by the accompaniment of most of their personal belongings\" which is an understandable if suspect proxy for estimating their housing status. Is there double counting occuring between the Lying column and the LivingActivities column? Or does the observed get put into one or depending on the \"accompaniment of most of their personal belongings\"? Additionaly, the data about how people are physically occupying the space could therefore be used as an argument to develop \"defensive design\" seating/urban architecture. Defensive architecture can be employed as a morally suspect solution to houseless usage of public space and pretty inarguably as a haphazard bandaid for the social implications of houselessness. "
   ]
  },
  {
   "cell_type": "markdown",
   "metadata": {},
   "source": [
    "1.1.2)"
   ]
  },
  {
   "cell_type": "code",
   "execution_count": 2,
   "metadata": {},
   "outputs": [],
   "source": [
    "moving = pd.read_csv('Public_Life_Data_2018_-_People_Moving.csv', sep = ';')\n",
    "locations = pd.read_csv('Public_Life_Data_2018_-_Locations.csv')\n",
    "\n",
    "#I totalled the gender counts since the researchers gave three collectively exhaustive categories\n",
    "moving['num_by_gender'] = moving['Male'] + moving['Female'] + moving['Gender Unknown']\n",
    "#to be thorough, the totalling by gender can be cross referenced with the totalling by group size\n",
    "#Note: groups larger than 10 will be counted as just 10\n",
    "moving['num_by_group'] = moving['GroupSize_1'] + moving['GroupSize_2'] * 2 + moving['GroupSize_3'] * 3 + moving['GroupSize_4'] * 4 + moving['GroupSize_5'] * 5 + moving['GroupSize_6'] * 6 + moving['GroupSize_7'] * 7 + moving['GroupSize_8'] * 8 + moving['GroupSize_9'] * 9 + moving['GroupSize_10+'] * 10\n",
    "\n",
    "moving = moving[['Location_ID', 'Start_time', 'num_by_gender', 'num_by_group']]\n",
    "locations = locations[['Location_ID', 'Neighborhood']]\n",
    "\n",
    "people = pd.merge(moving, locations, on = 'Location_ID', how = 'outer')"
   ]
  },
  {
   "cell_type": "code",
   "execution_count": 3,
   "metadata": {
    "scrolled": true
   },
   "outputs": [
    {
     "data": {
      "text/plain": [
       "Location_ID      1729\n",
       "Start_time       1728\n",
       "num_by_gender     864\n",
       "num_by_group      859\n",
       "Neighborhood     1697\n",
       "dtype: int64"
      ]
     },
     "execution_count": 3,
     "metadata": {},
     "output_type": "execute_result"
    }
   ],
   "source": [
    "people.count()"
   ]
  },
  {
   "cell_type": "code",
   "execution_count": 4,
   "metadata": {},
   "outputs": [
    {
     "data": {
      "text/plain": [
       "Index(['Unique_ID', 'Study_ID', 'Location_ID', 'Survey_ID', 'Day_of_Week',\n",
       "       'Time_of_Day', 'Date', 'Start_time', 'End_time', 'Conditions',\n",
       "       'Weather', 'Temperature', 'Surveyor', 'Row_ID', 'Row_Total', 'Male',\n",
       "       'Female', 'Gender Unknown', 'Total_Supported_or_Assisted',\n",
       "       'GroupSize_1', 'GroupSize_2', 'GroupSize_3', 'GroupSize_4',\n",
       "       'GroupSize_5', 'GroupSize_6', 'GroupSize_7', 'GroupSize_8',\n",
       "       'GroupSize_9', 'GroupSize_10+', 'Notes'],\n",
       "      dtype='object')"
      ]
     },
     "execution_count": 4,
     "metadata": {},
     "output_type": "execute_result"
    }
   ],
   "source": [
    "moving = pd.read_csv('Public_Life_Data_2018_-_People_Moving.csv', sep = ';')\n",
    "moving.columns"
   ]
  },
  {
   "cell_type": "markdown",
   "metadata": {},
   "source": [
    "The above table shows the data set to have 1729 rows, with one missing Start Time, 32 missing Neighborhoods, and a good number of missing values for people counts. The number of values present in the two \"num_by\" columns add up to suspiciously close to the total number of rows. The below table suggests that the surveyors had mutualy exclusive directives when present to either count group size OR count gender. "
   ]
  },
  {
   "cell_type": "code",
   "execution_count": 5,
   "metadata": {},
   "outputs": [
    {
     "data": {
      "text/html": [
       "<div>\n",
       "<style scoped>\n",
       "    .dataframe tbody tr th:only-of-type {\n",
       "        vertical-align: middle;\n",
       "    }\n",
       "\n",
       "    .dataframe tbody tr th {\n",
       "        vertical-align: top;\n",
       "    }\n",
       "\n",
       "    .dataframe thead th {\n",
       "        text-align: right;\n",
       "    }\n",
       "</style>\n",
       "<table border=\"1\" class=\"dataframe\">\n",
       "  <thead>\n",
       "    <tr style=\"text-align: right;\">\n",
       "      <th></th>\n",
       "      <th>Location_ID</th>\n",
       "      <th>Start_time</th>\n",
       "      <th>num_by_gender</th>\n",
       "      <th>num_by_group</th>\n",
       "      <th>Neighborhood</th>\n",
       "    </tr>\n",
       "  </thead>\n",
       "  <tbody>\n",
       "    <tr>\n",
       "      <th>0</th>\n",
       "      <td>MAP1</td>\n",
       "      <td>801.0</td>\n",
       "      <td>NaN</td>\n",
       "      <td>10.0</td>\n",
       "      <td>Madison Park</td>\n",
       "    </tr>\n",
       "    <tr>\n",
       "      <th>1</th>\n",
       "      <td>MAP1</td>\n",
       "      <td>811.0</td>\n",
       "      <td>21.0</td>\n",
       "      <td>NaN</td>\n",
       "      <td>Madison Park</td>\n",
       "    </tr>\n",
       "    <tr>\n",
       "      <th>2</th>\n",
       "      <td>MAP1</td>\n",
       "      <td>1200.0</td>\n",
       "      <td>NaN</td>\n",
       "      <td>38.0</td>\n",
       "      <td>Madison Park</td>\n",
       "    </tr>\n",
       "    <tr>\n",
       "      <th>3</th>\n",
       "      <td>MAP1</td>\n",
       "      <td>1210.0</td>\n",
       "      <td>32.0</td>\n",
       "      <td>NaN</td>\n",
       "      <td>Madison Park</td>\n",
       "    </tr>\n",
       "    <tr>\n",
       "      <th>4</th>\n",
       "      <td>MAP1</td>\n",
       "      <td>1600.0</td>\n",
       "      <td>NaN</td>\n",
       "      <td>38.0</td>\n",
       "      <td>Madison Park</td>\n",
       "    </tr>\n",
       "    <tr>\n",
       "      <th>5</th>\n",
       "      <td>MAP1</td>\n",
       "      <td>1610.0</td>\n",
       "      <td>39.0</td>\n",
       "      <td>NaN</td>\n",
       "      <td>Madison Park</td>\n",
       "    </tr>\n",
       "    <tr>\n",
       "      <th>6</th>\n",
       "      <td>MAP1</td>\n",
       "      <td>800.0</td>\n",
       "      <td>NaN</td>\n",
       "      <td>19.0</td>\n",
       "      <td>Madison Park</td>\n",
       "    </tr>\n",
       "    <tr>\n",
       "      <th>7</th>\n",
       "      <td>MAP1</td>\n",
       "      <td>811.0</td>\n",
       "      <td>19.0</td>\n",
       "      <td>NaN</td>\n",
       "      <td>Madison Park</td>\n",
       "    </tr>\n",
       "    <tr>\n",
       "      <th>8</th>\n",
       "      <td>MAP1</td>\n",
       "      <td>1210.0</td>\n",
       "      <td>NaN</td>\n",
       "      <td>29.0</td>\n",
       "      <td>Madison Park</td>\n",
       "    </tr>\n",
       "    <tr>\n",
       "      <th>9</th>\n",
       "      <td>MAP1</td>\n",
       "      <td>1220.0</td>\n",
       "      <td>27.0</td>\n",
       "      <td>NaN</td>\n",
       "      <td>Madison Park</td>\n",
       "    </tr>\n",
       "  </tbody>\n",
       "</table>\n",
       "</div>"
      ],
      "text/plain": [
       "  Location_ID  Start_time  num_by_gender  num_by_group  Neighborhood\n",
       "0        MAP1       801.0            NaN          10.0  Madison Park\n",
       "1        MAP1       811.0           21.0           NaN  Madison Park\n",
       "2        MAP1      1200.0            NaN          38.0  Madison Park\n",
       "3        MAP1      1210.0           32.0           NaN  Madison Park\n",
       "4        MAP1      1600.0            NaN          38.0  Madison Park\n",
       "5        MAP1      1610.0           39.0           NaN  Madison Park\n",
       "6        MAP1       800.0            NaN          19.0  Madison Park\n",
       "7        MAP1       811.0           19.0           NaN  Madison Park\n",
       "8        MAP1      1210.0            NaN          29.0  Madison Park\n",
       "9        MAP1      1220.0           27.0           NaN  Madison Park"
      ]
     },
     "execution_count": 5,
     "metadata": {},
     "output_type": "execute_result"
    }
   ],
   "source": [
    "people.head(10)"
   ]
  },
  {
   "cell_type": "code",
   "execution_count": 6,
   "metadata": {
    "scrolled": true
   },
   "outputs": [
    {
     "data": {
      "text/html": [
       "<div>\n",
       "<style scoped>\n",
       "    .dataframe tbody tr th:only-of-type {\n",
       "        vertical-align: middle;\n",
       "    }\n",
       "\n",
       "    .dataframe tbody tr th {\n",
       "        vertical-align: top;\n",
       "    }\n",
       "\n",
       "    .dataframe thead th {\n",
       "        text-align: right;\n",
       "    }\n",
       "</style>\n",
       "<table border=\"1\" class=\"dataframe\">\n",
       "  <thead>\n",
       "    <tr style=\"text-align: right;\">\n",
       "      <th></th>\n",
       "      <th>Start_time</th>\n",
       "      <th>num_by_gender</th>\n",
       "      <th>num_by_group</th>\n",
       "    </tr>\n",
       "  </thead>\n",
       "  <tbody>\n",
       "    <tr>\n",
       "      <th>count</th>\n",
       "      <td>1728.000000</td>\n",
       "      <td>864.000000</td>\n",
       "      <td>859.000000</td>\n",
       "    </tr>\n",
       "    <tr>\n",
       "      <th>mean</th>\n",
       "      <td>1309.407407</td>\n",
       "      <td>32.185185</td>\n",
       "      <td>33.349243</td>\n",
       "    </tr>\n",
       "    <tr>\n",
       "      <th>std</th>\n",
       "      <td>309.837540</td>\n",
       "      <td>41.178305</td>\n",
       "      <td>43.943665</td>\n",
       "    </tr>\n",
       "    <tr>\n",
       "      <th>min</th>\n",
       "      <td>757.000000</td>\n",
       "      <td>0.000000</td>\n",
       "      <td>0.000000</td>\n",
       "    </tr>\n",
       "    <tr>\n",
       "      <th>25%</th>\n",
       "      <td>1089.250000</td>\n",
       "      <td>8.000000</td>\n",
       "      <td>8.000000</td>\n",
       "    </tr>\n",
       "    <tr>\n",
       "      <th>50%</th>\n",
       "      <td>1302.000000</td>\n",
       "      <td>19.000000</td>\n",
       "      <td>20.000000</td>\n",
       "    </tr>\n",
       "    <tr>\n",
       "      <th>75%</th>\n",
       "      <td>1614.250000</td>\n",
       "      <td>38.000000</td>\n",
       "      <td>40.000000</td>\n",
       "    </tr>\n",
       "    <tr>\n",
       "      <th>max</th>\n",
       "      <td>1855.000000</td>\n",
       "      <td>320.000000</td>\n",
       "      <td>334.000000</td>\n",
       "    </tr>\n",
       "  </tbody>\n",
       "</table>\n",
       "</div>"
      ],
      "text/plain": [
       "        Start_time  num_by_gender  num_by_group\n",
       "count  1728.000000     864.000000    859.000000\n",
       "mean   1309.407407      32.185185     33.349243\n",
       "std     309.837540      41.178305     43.943665\n",
       "min     757.000000       0.000000      0.000000\n",
       "25%    1089.250000       8.000000      8.000000\n",
       "50%    1302.000000      19.000000     20.000000\n",
       "75%    1614.250000      38.000000     40.000000\n",
       "max    1855.000000     320.000000    334.000000"
      ]
     },
     "execution_count": 6,
     "metadata": {},
     "output_type": "execute_result"
    }
   ],
   "source": [
    "people.select_dtypes(include = 'float64').describe(include = 'all')"
   ]
  },
  {
   "cell_type": "markdown",
   "metadata": {},
   "source": [
    "The above shows a table of descriptive statistics for the continuous numeric variables in the data. I did not bother to include number of unqiue values because that is a largely meaningless measure for continous variables with much variation in them. \n",
    "\n",
    "It's interesting to note that all surveys of people moving were done between about 8am and 7pm. Also interesting is that despite the mutually exclusive row data for gender and group size, the statistics are extremely similar. Maybe each surveyor counted both gender and group size but they were entered as different rows? This could be checked by comparing the statistics of Start_time for the rows with num_by_gender with the those of num_by_group."
   ]
  },
  {
   "cell_type": "code",
   "execution_count": 7,
   "metadata": {},
   "outputs": [
    {
     "data": {
      "text/plain": [
       "38"
      ]
     },
     "execution_count": 7,
     "metadata": {},
     "output_type": "execute_result"
    }
   ],
   "source": [
    "people.Neighborhood.nunique()"
   ]
  },
  {
   "cell_type": "code",
   "execution_count": 8,
   "metadata": {},
   "outputs": [
    {
     "data": {
      "text/plain": [
       "Neighborhood\n",
       "Columbia City                    17\n",
       "23rd & Union - Jackson           32\n",
       "Wedgewood                        32\n",
       "Upper Queen Anne                 32\n",
       "South Park                       32\n",
       "Roosevelt                        32\n",
       "Rainier Beach                    32\n",
       "Othello                          32\n",
       "Northgate                        32\n",
       "North Beacon Hill                32\n",
       "Mt Baker                         32\n",
       "Magnolia                         32\n",
       "Madison Miller                   32\n",
       "Lake City                        32\n",
       "Madison Park                     32\n",
       "Bryant                           32\n",
       "Alki                             32\n",
       "Bitter Lake Village              32\n",
       "Georgetown                       32\n",
       "Crown Hill                       32\n",
       "Westwood - Highland Park         32\n",
       "Fremont                          32\n",
       "Uptown                           48\n",
       "Commercial Core                  64\n",
       "Wallingford                      64\n",
       "Ballard                          64\n",
       "University District Northwest    64\n",
       "Belltown                         64\n",
       "Denny Triangle                   64\n",
       "South Lake Union                 64\n",
       "Ravenna                          64\n",
       "West Seattle Junction            64\n",
       "Pioneer Square                   64\n",
       "Pike/Pine                        64\n",
       "Capitol Hill                     64\n",
       "Chinatown / ID                   64\n",
       "First Hill / 12th Ave            64\n",
       "Greenwood - Phinney Ridge        64\n",
       "Name: Neighborhood, dtype: int64"
      ]
     },
     "execution_count": 8,
     "metadata": {},
     "output_type": "execute_result"
    }
   ],
   "source": [
    "people.groupby(people.Neighborhood).Neighborhood.count().sort_values()"
   ]
  },
  {
   "cell_type": "markdown",
   "metadata": {},
   "source": [
    "Looks like the 38 unique Neighborhoods were not surveyed equally. More importantly, it looks like they were not surveyed randomly, either. Most of the \"foot traffic heavy\" neighborhoods seem to have been surveyed more, but it's unclear how that may have been determined. "
   ]
  },
  {
   "cell_type": "markdown",
   "metadata": {},
   "source": [
    "1.1.3) If I were to address the question \"Where and when are people walking\" I would first have to reckon with how the people are counted(gender vs group size) and decide how to ameliorate their disparities. If the two are in fact surveyed seperately, then I could create a new column that takes the values of each. If however they are simply entered as two different rows, then this approach would double count the number of people moving. \n",
    "\n",
    "I would likely stick with the Start time variable for determining when people are moving. I would however want to double check that the survey chunks were about equal in length(they appears to be 10 minutes or so). \n",
    "\n",
    "I would also likely stick with Neighborhood, to determine where people are walking. The Location data does provide more granular options. But at 17-64 observations per Neighborhood that increased granularity might also produce increased bias. It is also currently unknown whether multiple locations within the Neighborhood were in fact surveyed, and surveyed randomly, so I would want to check that. "
   ]
  },
  {
   "cell_type": "code",
   "execution_count": 9,
   "metadata": {
    "scrolled": false
   },
   "outputs": [
    {
     "data": {
      "text/plain": [
       "<matplotlib.axes._subplots.AxesSubplot at 0x1f5040a4da0>"
      ]
     },
     "execution_count": 9,
     "metadata": {},
     "output_type": "execute_result"
    },
    {
     "data": {
      "image/png": "[encoded data removed]",
      "text/plain": [
       "<Figure size 432x288 with 1 Axes>"
      ]
     },
     "metadata": {
      "needs_background": "light"
     },
     "output_type": "display_data"
    }
   ],
   "source": [
    "#a histogram showing the start times for group counts\n",
    "people[['Start_time', 'num_by_group']].dropna().Start_time.hist()"
   ]
  },
  {
   "cell_type": "code",
   "execution_count": 10,
   "metadata": {
    "scrolled": true
   },
   "outputs": [
    {
     "data": {
      "text/plain": [
       "<matplotlib.axes._subplots.AxesSubplot at 0x1f5043b4c18>"
      ]
     },
     "execution_count": 10,
     "metadata": {},
     "output_type": "execute_result"
    },
    {
     "data": {
      "image/png": "[encoded data removed]",
      "text/plain": [
       "<Figure size 432x288 with 1 Axes>"
      ]
     },
     "metadata": {
      "needs_background": "light"
     },
     "output_type": "display_data"
    }
   ],
   "source": [
    "#a histogram showing the start times for gender counts\n",
    "people[['Start_time', 'num_by_gender']].dropna().Start_time.hist()"
   ]
  },
  {
   "cell_type": "markdown",
   "metadata": {},
   "source": [
    "The two graphs are similar, but noticeably offset. Since the shifts are probably about 10 minutes, an offset of 10 or more minutes seems significant. This therefore implies to me that these surveys were done mutually exclusively and not noted in the documentation. Therefore to conduct my analysis I feel this is a good starting point for joining the two counts into a single column."
   ]
  },
  {
   "cell_type": "markdown",
   "metadata": {},
   "source": [
    "1.2.1) I would probably use a binomial distribution for a couple reasons. The number of passengers who board is a discrete number(no partial people) and each person either boards or does not board independently(a Bernoulli-p process). Lastly, there is a 0% chance that more people expect to board than have tickets to board, thus we have an n number of times at which the distribution stops."
   ]
  },
  {
   "cell_type": "markdown",
   "metadata": {},
   "source": [
    "1.2.2) If the airline never overbooks and always sells 100 of its 100 seats, then the expected revenue is $10,000"
   ]
  },
  {
   "cell_type": "markdown",
   "metadata": {},
   "source": [
    "1.2.3) If the airline sells 101 tickets, then the binomial probability that all 101 people show up is .98 ^ 101 or about .129"
   ]
  },
  {
   "cell_type": "markdown",
   "metadata": {},
   "source": [
    "1.2.4) The revenue of selling 101 tickets is $10,100, with a 13% chance that there will be an expense of $500 and therefore a profit of 9,600"
   ]
  },
  {
   "cell_type": "code",
   "execution_count": 11,
   "metadata": {},
   "outputs": [
    {
     "data": {
      "text/plain": [
       "10035.004"
      ]
     },
     "execution_count": 11,
     "metadata": {},
     "output_type": "execute_result"
    }
   ],
   "source": [
    "#conducts 1 million tests to see how many passengers show up\n",
    "s = np.random.binomial(101, .98, 1000000)\n",
    "\n",
    "#function to determine profit depending on how many customers show up\n",
    "def profit(x):\n",
    "    if x < 101:\n",
    "        y = 10100\n",
    "    else:\n",
    "        y = 10100-500\n",
    "    return y\n",
    "\n",
    "#vectorizes the function\n",
    "profit = np.vectorize(profit)\n",
    "\n",
    "#applies the function to the conducted test and then takes the mean profit\n",
    "profit(s).mean()"
   ]
  },
  {
   "cell_type": "markdown",
   "metadata": {},
   "source": [
    "after 1 million tests the mean profit from overbooking appears to be more than the mean profit of not overbooking the flights. Whether I would actually recomend the company do that depends on how accurately quantified the impact of turning a customer away is at $500."
   ]
  },
  {
   "cell_type": "markdown",
   "metadata": {},
   "source": [
    "1.2.5) If the airline sells 102 tickets, then the binomial probability that all 102 people show up is .98 ^ 102 or about .127"
   ]
  },
  {
   "cell_type": "markdown",
   "metadata": {},
   "source": [
    "1.2.6) if the airline sells 102 tickets, then the binomial probability that 101 people show up is .98 ^ 101 * .02 or about .003"
   ]
  },
  {
   "cell_type": "code",
   "execution_count": 12,
   "metadata": {
    "scrolled": true
   },
   "outputs": [
    {
     "data": {
      "text/plain": [
       "9264.996"
      ]
     },
     "execution_count": 12,
     "metadata": {},
     "output_type": "execute_result"
    }
   ],
   "source": [
    "#conducts 1 million tests to see how many passengers show up\n",
    "s2 = np.random.binomial(102, .98, 1000000)\n",
    "\n",
    "#function to determine profit depending on how many customers show up\n",
    "def profit2(x):\n",
    "    if x < 101:\n",
    "        y = 10200\n",
    "    if x == 101:\n",
    "        y = 10200-500\n",
    "    else:\n",
    "        y = 10200-1000\n",
    "    return y\n",
    "\n",
    "#vectorizes the function\n",
    "profit2 = np.vectorize(profit2)\n",
    "\n",
    "#applies the function to the conducted test and then takes the mean profit\n",
    "profit2(s).mean()"
   ]
  },
  {
   "cell_type": "markdown",
   "metadata": {},
   "source": [
    "1.2.7) The mean profit of selling 102 tickets appears to be less than the mean profit of selling 101 OR 100 tickets. I would therefore advise against selling 102 tickets."
   ]
  },
  {
   "cell_type": "code",
   "execution_count": 13,
   "metadata": {},
   "outputs": [
    {
     "data": {
      "text/plain": [
       "10035.02865"
      ]
     },
     "execution_count": 13,
     "metadata": {},
     "output_type": "execute_result"
    }
   ],
   "source": [
    "s3 = np.random.binomial(101, .98, 10000000)\n",
    "\n",
    "profit(s3).mean()"
   ]
  },
  {
   "cell_type": "markdown",
   "metadata": {},
   "source": [
    "1.2.8) even after 10,000,000 flights the mean profit for overbooking at 101 seats appears to be higher than not overbooking at 100 seats. This means that the \"optimal\" business move is to sell 101 seats and the expected profit is about $10,035. "
   ]
  },
  {
   "cell_type": "markdown",
   "metadata": {},
   "source": [
    "1.3.1) \n",
    "\n",
    "pr(correct answer) = .25 = pr(C)\n",
    "pr(good student) = .80 = pr(G)\n",
    "pr(stress) = .10 = pr(S)\n",
    "\n",
    "Since the question only asks about correct answers then our state space is:\n",
    "\n",
    "pr(C,G,S') = .25 * .80 * .90 = .18\n",
    "pr(C,G',S') = .25 * .20 * .90 = .045\n",
    "pr(C,G',S) = .25 * .20 * .10 = .005\n",
    "\n",
    "So the probability that if a student got a correct answer that it is because they are a good student is therefore:\n",
    "\n",
    ".18 / (.18 + .045 + .005) = .18 / .23 = .73\n"
   ]
  }
 ],
 "metadata": {
  "kernelspec": {
   "display_name": "Python 3",
   "language": "python",
   "name": "python3"
  },
  "language_info": {
   "codemirror_mode": {
    "name": "ipython",
    "version": 3
   },
   "file_extension": ".py",
   "mimetype": "text/x-python",
   "name": "python",
   "nbconvert_exporter": "python",
   "pygments_lexer": "ipython3",
   "version": "3.7.3"
  }
 },
 "nbformat": 4,
 "nbformat_minor": 2
}
