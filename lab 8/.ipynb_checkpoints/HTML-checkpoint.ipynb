{
 "cells": [
  {
   "cell_type": "markdown",
   "metadata": {},
   "source": [
    "1.1.1) See notebook for summary function. Most of the coefficients have a below .1 impact of the expected median value. Unsurprisingly, average number of rooms, \"riverfront\" status and distance from employment sectors all seem to have a fairly high impact. Curiously, the nitric oxide concentration has three times larger an impact on the expected value than the next highest coeficcient."
   ]
  },
  {
   "cell_type": "markdown",
   "metadata": {},
   "source": [
    "1.1.2) See notebook for summary function. Based off the inputed model, the expected value of the median home increases by 9000 for each increase in the average number of rooms per dwelling. "
   ]
  },
  {
   "cell_type": "markdown",
   "metadata": {},
   "source": [
    "1.2.1) See notebook."
   ]
  },
  {
   "cell_type": "markdown",
   "metadata": {},
   "source": [
    "1.2.2) See notebook."
   ]
  },
  {
   "cell_type": "markdown",
   "metadata": {},
   "source": [
    "1.2.3) The optimal beta values differ rather drastically from the multiple regression model coefficients outputed by the ols function in question 1.1.1"
   ]
  },
  {
   "cell_type": "markdown",
   "metadata": {},
   "source": [
    "1.2.4) The column of ones is important because without it we would be saying that an input of zero should give us an output of zero. An input of a zero per capita crime rate in a town, for example, should not give us an output of a zero dollar median home value. "
   ]
  }
 ],
 "metadata": {
  "kernelspec": {
   "display_name": "Python 3",
   "language": "python",
   "name": "python3"
  },
  "language_info": {
   "codemirror_mode": {
    "name": "ipython",
    "version": 3
   },
   "file_extension": ".py",
   "mimetype": "text/x-python",
   "name": "python",
   "nbconvert_exporter": "python",
   "pygments_lexer": "ipython3",
   "version": "3.7.4"
  }
 },
 "nbformat": 4,
 "nbformat_minor": 2
}
